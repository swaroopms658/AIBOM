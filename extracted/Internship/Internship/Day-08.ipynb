{
 "cells": [
  {
   "cell_type": "markdown",
   "id": "bec2b548",
   "metadata": {},
   "source": [
    "# KNN"
   ]
  },
  {
   "cell_type": "code",
   "execution_count": 1,
   "id": "2f4362a9",
   "metadata": {},
   "outputs": [
    {
     "name": "stdout",
     "output_type": "stream",
     "text": [
      "      Id  SepalLengthCm  SepalWidthCm  PetalLengthCm  PetalWidthCm  \\\n",
      "0      1            5.1           3.5            1.4           0.2   \n",
      "1      2            4.9           3.0            1.4           0.2   \n",
      "2      3            4.7           3.2            1.3           0.2   \n",
      "3      4            4.6           3.1            1.5           0.2   \n",
      "4      5            5.0           3.6            1.4           0.2   \n",
      "..   ...            ...           ...            ...           ...   \n",
      "145  146            6.7           3.0            5.2           2.3   \n",
      "146  147            6.3           2.5            5.0           1.9   \n",
      "147  148            6.5           3.0            5.2           2.0   \n",
      "148  149            6.2           3.4            5.4           2.3   \n",
      "149  150            5.9           3.0            5.1           1.8   \n",
      "\n",
      "            Species  \n",
      "0       Iris-setosa  \n",
      "1       Iris-setosa  \n",
      "2       Iris-setosa  \n",
      "3       Iris-setosa  \n",
      "4       Iris-setosa  \n",
      "..              ...  \n",
      "145  Iris-virginica  \n",
      "146  Iris-virginica  \n",
      "147  Iris-virginica  \n",
      "148  Iris-virginica  \n",
      "149  Iris-virginica  \n",
      "\n",
      "[150 rows x 6 columns]\n",
      "<class 'pandas.core.frame.DataFrame'>\n",
      "RangeIndex: 150 entries, 0 to 149\n",
      "Data columns (total 6 columns):\n",
      " #   Column         Non-Null Count  Dtype  \n",
      "---  ------         --------------  -----  \n",
      " 0   Id             150 non-null    int64  \n",
      " 1   SepalLengthCm  150 non-null    float64\n",
      " 2   SepalWidthCm   150 non-null    float64\n",
      " 3   PetalLengthCm  150 non-null    float64\n",
      " 4   PetalWidthCm   150 non-null    float64\n",
      " 5   Species        150 non-null    object \n",
      "dtypes: float64(4), int64(1), object(1)\n",
      "memory usage: 7.2+ KB\n",
      "None\n",
      "Id               0\n",
      "SepalLengthCm    0\n",
      "SepalWidthCm     0\n",
      "PetalLengthCm    0\n",
      "PetalWidthCm     0\n",
      "Species          0\n",
      "dtype: int64\n",
      "['Iris-setosa' 'Iris-versicolor' 'Iris-virginica']\n"
     ]
    }
   ],
   "source": [
    "import pandas as pd\n",
    "path=\"C:\\\\Users\\\\Sriram\\\\Downloads\\\\Data\\\\Data\\\\Iris.csv\"\n",
    "data=pd.read_csv(path)\n",
    "print(data)\n",
    "print(data.info())\n",
    "print(data.isnull().sum())\n",
    "print(data.Species.unique())"
   ]
  },
  {
   "cell_type": "code",
   "execution_count": 2,
   "id": "ad98db5d",
   "metadata": {},
   "outputs": [
    {
     "name": "stdout",
     "output_type": "stream",
     "text": [
      "     SepalLengthCm  SepalWidthCm  PetalLengthCm  PetalWidthCm\n",
      "0              5.1           3.5            1.4           0.2\n",
      "1              4.9           3.0            1.4           0.2\n",
      "2              4.7           3.2            1.3           0.2\n",
      "3              4.6           3.1            1.5           0.2\n",
      "4              5.0           3.6            1.4           0.2\n",
      "..             ...           ...            ...           ...\n",
      "145            6.7           3.0            5.2           2.3\n",
      "146            6.3           2.5            5.0           1.9\n",
      "147            6.5           3.0            5.2           2.0\n",
      "148            6.2           3.4            5.4           2.3\n",
      "149            5.9           3.0            5.1           1.8\n",
      "\n",
      "[150 rows x 4 columns]\n",
      "            Species\n",
      "0       Iris-setosa\n",
      "1       Iris-setosa\n",
      "2       Iris-setosa\n",
      "3       Iris-setosa\n",
      "4       Iris-setosa\n",
      "..              ...\n",
      "145  Iris-virginica\n",
      "146  Iris-virginica\n",
      "147  Iris-virginica\n",
      "148  Iris-virginica\n",
      "149  Iris-virginica\n",
      "\n",
      "[150 rows x 1 columns]\n"
     ]
    },
    {
     "name": "stderr",
     "output_type": "stream",
     "text": [
      "C:\\Users\\Sriram\\AppData\\Local\\Temp\\ipykernel_16624\\3689993398.py:1: FutureWarning: In a future version of pandas all arguments of DataFrame.drop except for the argument 'labels' will be keyword-only.\n",
      "  inputs=data.drop(['Id','Species'],'columns')\n",
      "C:\\Users\\Sriram\\AppData\\Local\\Temp\\ipykernel_16624\\3689993398.py:2: FutureWarning: In a future version of pandas all arguments of DataFrame.drop except for the argument 'labels' will be keyword-only.\n",
      "  output=data.drop(['Id','SepalLengthCm','SepalWidthCm','PetalLengthCm','PetalWidthCm'],'columns')\n"
     ]
    }
   ],
   "source": [
    "inputs=data.drop(['Id','Species'],'columns')\n",
    "output=data.drop(['Id','SepalLengthCm','SepalWidthCm','PetalLengthCm','PetalWidthCm'],'columns')\n",
    "print(inputs)\n",
    "print(output)"
   ]
  },
  {
   "cell_type": "code",
   "execution_count": null,
   "id": "52e65b69",
   "metadata": {},
   "outputs": [],
   "source": [
    "# k=(150)**0.5\n",
    "# print(k)"
   ]
  },
  {
   "cell_type": "code",
   "execution_count": 3,
   "id": "c00bb226",
   "metadata": {},
   "outputs": [
    {
     "name": "stdout",
     "output_type": "stream",
     "text": [
      "     SepalLengthCm  SepalWidthCm  PetalLengthCm  PetalWidthCm\n",
      "76             6.8           2.8            4.8           1.4\n",
      "54             6.5           2.8            4.6           1.5\n",
      "128            6.4           2.8            5.6           2.1\n",
      "12             4.8           3.0            1.4           0.1\n",
      "144            6.7           3.3            5.7           2.5\n",
      "..             ...           ...            ...           ...\n",
      "9              4.9           3.1            1.5           0.1\n",
      "74             6.4           2.9            4.3           1.3\n",
      "91             6.1           3.0            4.6           1.4\n",
      "116            6.5           3.0            5.5           1.8\n",
      "84             5.4           3.0            4.5           1.5\n",
      "\n",
      "[120 rows x 4 columns]\n",
      "     SepalLengthCm  SepalWidthCm  PetalLengthCm  PetalWidthCm\n",
      "25             5.0           3.0            1.6           0.2\n",
      "70             5.9           3.2            4.8           1.8\n",
      "50             7.0           3.2            4.7           1.4\n",
      "16             5.4           3.9            1.3           0.4\n",
      "88             5.6           3.0            4.1           1.3\n",
      "18             5.7           3.8            1.7           0.3\n",
      "72             6.3           2.5            4.9           1.5\n",
      "102            7.1           3.0            5.9           2.1\n",
      "115            6.4           3.2            5.3           2.3\n",
      "5              5.4           3.9            1.7           0.4\n",
      "31             5.4           3.4            1.5           0.4\n",
      "44             5.1           3.8            1.9           0.4\n",
      "123            6.3           2.7            4.9           1.8\n",
      "104            6.5           3.0            5.8           2.2\n",
      "106            4.9           2.5            4.5           1.7\n",
      "1              4.9           3.0            1.4           0.2\n",
      "57             4.9           2.4            3.3           1.0\n",
      "51             6.4           3.2            4.5           1.5\n",
      "89             5.5           2.5            4.0           1.3\n",
      "69             5.6           2.5            3.9           1.1\n",
      "26             5.0           3.4            1.6           0.4\n",
      "68             6.2           2.2            4.5           1.5\n",
      "35             5.0           3.2            1.2           0.2\n",
      "41             4.5           2.3            1.3           0.3\n",
      "33             5.5           4.2            1.4           0.2\n",
      "73             6.1           2.8            4.7           1.2\n",
      "78             6.0           2.9            4.5           1.5\n",
      "105            7.6           3.0            6.6           2.1\n",
      "97             6.2           2.9            4.3           1.3\n",
      "121            5.6           2.8            4.9           2.0\n",
      "             Species\n",
      "76   Iris-versicolor\n",
      "54   Iris-versicolor\n",
      "128   Iris-virginica\n",
      "12       Iris-setosa\n",
      "144   Iris-virginica\n",
      "..               ...\n",
      "9        Iris-setosa\n",
      "74   Iris-versicolor\n",
      "91   Iris-versicolor\n",
      "116   Iris-virginica\n",
      "84   Iris-versicolor\n",
      "\n",
      "[120 rows x 1 columns]\n",
      "             Species\n",
      "25       Iris-setosa\n",
      "70   Iris-versicolor\n",
      "50   Iris-versicolor\n",
      "16       Iris-setosa\n",
      "88   Iris-versicolor\n",
      "18       Iris-setosa\n",
      "72   Iris-versicolor\n",
      "102   Iris-virginica\n",
      "115   Iris-virginica\n",
      "5        Iris-setosa\n",
      "31       Iris-setosa\n",
      "44       Iris-setosa\n",
      "123   Iris-virginica\n",
      "104   Iris-virginica\n",
      "106   Iris-virginica\n",
      "1        Iris-setosa\n",
      "57   Iris-versicolor\n",
      "51   Iris-versicolor\n",
      "89   Iris-versicolor\n",
      "69   Iris-versicolor\n",
      "26       Iris-setosa\n",
      "68   Iris-versicolor\n",
      "35       Iris-setosa\n",
      "41       Iris-setosa\n",
      "33       Iris-setosa\n",
      "73   Iris-versicolor\n",
      "78   Iris-versicolor\n",
      "105   Iris-virginica\n",
      "97   Iris-versicolor\n",
      "121   Iris-virginica\n"
     ]
    }
   ],
   "source": [
    "import sklearn\n",
    "from sklearn.model_selection import train_test_split\n",
    "x_train,x_test,y_train,y_test=train_test_split(inputs,output,test_size=0.2)\n",
    "print(x_train)\n",
    "print(x_test)\n",
    "print(y_train)\n",
    "print(y_test)"
   ]
  },
  {
   "cell_type": "code",
   "execution_count": 4,
   "id": "c9a141e1",
   "metadata": {},
   "outputs": [
    {
     "name": "stdout",
     "output_type": "stream",
     "text": [
      "['Iris-setosa' 'Iris-versicolor' 'Iris-versicolor' 'Iris-setosa'\n",
      " 'Iris-versicolor' 'Iris-setosa' 'Iris-versicolor' 'Iris-virginica'\n",
      " 'Iris-virginica' 'Iris-setosa' 'Iris-setosa' 'Iris-setosa'\n",
      " 'Iris-virginica' 'Iris-virginica' 'Iris-versicolor' 'Iris-setosa'\n",
      " 'Iris-versicolor' 'Iris-versicolor' 'Iris-versicolor' 'Iris-versicolor'\n",
      " 'Iris-setosa' 'Iris-versicolor' 'Iris-setosa' 'Iris-setosa' 'Iris-setosa'\n",
      " 'Iris-versicolor' 'Iris-versicolor' 'Iris-virginica' 'Iris-versicolor'\n",
      " 'Iris-virginica']\n",
      "             Species\n",
      "25       Iris-setosa\n",
      "70   Iris-versicolor\n",
      "50   Iris-versicolor\n",
      "16       Iris-setosa\n",
      "88   Iris-versicolor\n",
      "18       Iris-setosa\n",
      "72   Iris-versicolor\n",
      "102   Iris-virginica\n",
      "115   Iris-virginica\n",
      "5        Iris-setosa\n",
      "31       Iris-setosa\n",
      "44       Iris-setosa\n",
      "123   Iris-virginica\n",
      "104   Iris-virginica\n",
      "106   Iris-virginica\n",
      "1        Iris-setosa\n",
      "57   Iris-versicolor\n",
      "51   Iris-versicolor\n",
      "89   Iris-versicolor\n",
      "69   Iris-versicolor\n",
      "26       Iris-setosa\n",
      "68   Iris-versicolor\n",
      "35       Iris-setosa\n",
      "41       Iris-setosa\n",
      "33       Iris-setosa\n",
      "73   Iris-versicolor\n",
      "78   Iris-versicolor\n",
      "105   Iris-virginica\n",
      "97   Iris-versicolor\n",
      "121   Iris-virginica\n",
      "[[11  0  0]\n",
      " [ 0 12  0]\n",
      " [ 0  1  6]]\n"
     ]
    },
    {
     "name": "stderr",
     "output_type": "stream",
     "text": [
      "C:\\ProgramData\\Anaconda3\\lib\\site-packages\\sklearn\\neighbors\\_classification.py:198: DataConversionWarning: A column-vector y was passed when a 1d array was expected. Please change the shape of y to (n_samples,), for example using ravel().\n",
      "  return self._fit(X, y)\n",
      "C:\\ProgramData\\Anaconda3\\lib\\site-packages\\sklearn\\neighbors\\_classification.py:228: FutureWarning: Unlike other reduction functions (e.g. `skew`, `kurtosis`), the default behavior of `mode` typically preserves the axis it acts along. In SciPy 1.11.0, this behavior will change: the default value of `keepdims` will become False, the `axis` over which the statistic is taken will be eliminated, and the value None will no longer be accepted. Set `keepdims` to True or False to avoid this warning.\n",
      "  mode, _ = stats.mode(_y[neigh_ind, k], axis=1)\n"
     ]
    }
   ],
   "source": [
    "from sklearn.neighbors import KNeighborsClassifier\n",
    "model=KNeighborsClassifier(n_neighbors=13)\n",
    "model.fit(x_train,y_train)\n",
    "y_pred=model.predict(x_test)\n",
    "print(y_pred)\n",
    "print(y_test)\n",
    "from sklearn.metrics import confusion_matrix\n",
    "cm=confusion_matrix(y_test,y_pred)\n",
    "print(cm)"
   ]
  },
  {
   "cell_type": "code",
   "execution_count": 5,
   "id": "dfbd85df",
   "metadata": {},
   "outputs": [
    {
     "name": "stdout",
     "output_type": "stream",
     "text": [
      "Iris-setosa\n"
     ]
    },
    {
     "name": "stderr",
     "output_type": "stream",
     "text": [
      "C:\\ProgramData\\Anaconda3\\lib\\site-packages\\sklearn\\base.py:450: UserWarning: X does not have valid feature names, but KNeighborsClassifier was fitted with feature names\n",
      "  warnings.warn(\n",
      "C:\\ProgramData\\Anaconda3\\lib\\site-packages\\sklearn\\neighbors\\_classification.py:228: FutureWarning: Unlike other reduction functions (e.g. `skew`, `kurtosis`), the default behavior of `mode` typically preserves the axis it acts along. In SciPy 1.11.0, this behavior will change: the default value of `keepdims` will become False, the `axis` over which the statistic is taken will be eliminated, and the value None will no longer be accepted. Set `keepdims` to True or False to avoid this warning.\n",
      "  mode, _ = stats.mode(_y[neigh_ind, k], axis=1)\n"
     ]
    }
   ],
   "source": [
    "result=model.predict([[5.1,3.5,1.4,0.2]])\n",
    "print(result[0])"
   ]
  },
  {
   "cell_type": "markdown",
   "id": "3b24aa58",
   "metadata": {},
   "source": [
    "# Decision Tree"
   ]
  },
  {
   "cell_type": "code",
   "execution_count": 17,
   "id": "ff723008",
   "metadata": {},
   "outputs": [
    {
     "name": "stdout",
     "output_type": "stream",
     "text": [
      "       company                  job     degree  salary_more_then_100k\n",
      "0       google      sales executive  bachelors                      0\n",
      "1       google      sales executive    masters                      0\n",
      "2       google     business manager  bachelors                      1\n",
      "3       google     business manager    masters                      1\n",
      "4       google  computer programmer  bachelors                      0\n",
      "5       google  computer programmer    masters                      1\n",
      "6   abc pharma      sales executive    masters                      0\n",
      "7   abc pharma  computer programmer  bachelors                      0\n",
      "8   abc pharma     business manager  bachelors                      0\n",
      "9   abc pharma     business manager    masters                      1\n",
      "10    facebook      sales executive  bachelors                      1\n",
      "11    facebook      sales executive    masters                      1\n",
      "12    facebook     business manager  bachelors                      1\n",
      "13    facebook     business manager    masters                      1\n",
      "14    facebook  computer programmer  bachelors                      1\n",
      "15    facebook  computer programmer    masters                      1\n",
      "<class 'pandas.core.frame.DataFrame'>\n",
      "RangeIndex: 16 entries, 0 to 15\n",
      "Data columns (total 4 columns):\n",
      " #   Column                 Non-Null Count  Dtype \n",
      "---  ------                 --------------  ----- \n",
      " 0   company                16 non-null     object\n",
      " 1   job                    16 non-null     object\n",
      " 2   degree                 16 non-null     object\n",
      " 3   salary_more_then_100k  16 non-null     int64 \n",
      "dtypes: int64(1), object(3)\n",
      "memory usage: 640.0+ bytes\n",
      "None\n",
      "company                  0\n",
      "job                      0\n",
      "degree                   0\n",
      "salary_more_then_100k    0\n",
      "dtype: int64\n",
      "['bachelors' 'masters']\n",
      "['sales executive' 'business manager' 'computer programmer']\n"
     ]
    }
   ],
   "source": [
    "import pandas as pd\n",
    "path=\"C:\\\\Users\\\\Sriram\\\\Downloads\\\\Data\\\\Data\\\\salaries.csv\"\n",
    "data=pd.read_csv(path)\n",
    "print(data)\n",
    "print(data.info())\n",
    "print(data.isnull().sum())\n",
    "print(data.degree.unique())\n",
    "print(data.job.unique())"
   ]
  },
  {
   "cell_type": "code",
   "execution_count": 18,
   "id": "769e800d",
   "metadata": {},
   "outputs": [
    {
     "name": "stdout",
     "output_type": "stream",
     "text": [
      "    company  job  degree  salary_more_then_100k\n",
      "0         2    2       0                      0\n",
      "1         2    2       1                      0\n",
      "2         2    0       0                      1\n",
      "3         2    0       1                      1\n",
      "4         2    1       0                      0\n",
      "5         2    1       1                      1\n",
      "6         0    2       1                      0\n",
      "7         0    1       0                      0\n",
      "8         0    0       0                      0\n",
      "9         0    0       1                      1\n",
      "10        1    2       0                      1\n",
      "11        1    2       1                      1\n",
      "12        1    0       0                      1\n",
      "13        1    0       1                      1\n",
      "14        1    1       0                      1\n",
      "15        1    1       1                      1\n"
     ]
    },
    {
     "name": "stderr",
     "output_type": "stream",
     "text": [
      "C:\\ProgramData\\Anaconda3\\lib\\site-packages\\sklearn\\preprocessing\\_label.py:115: DataConversionWarning: A column-vector y was passed when a 1d array was expected. Please change the shape of y to (n_samples, ), for example using ravel().\n",
      "  y = column_or_1d(y, warn=True)\n",
      "C:\\ProgramData\\Anaconda3\\lib\\site-packages\\sklearn\\preprocessing\\_label.py:115: DataConversionWarning: A column-vector y was passed when a 1d array was expected. Please change the shape of y to (n_samples, ), for example using ravel().\n",
      "  y = column_or_1d(y, warn=True)\n",
      "C:\\ProgramData\\Anaconda3\\lib\\site-packages\\sklearn\\preprocessing\\_label.py:115: DataConversionWarning: A column-vector y was passed when a 1d array was expected. Please change the shape of y to (n_samples, ), for example using ravel().\n",
      "  y = column_or_1d(y, warn=True)\n",
      "C:\\Users\\Sriram\\AppData\\Local\\Temp\\ipykernel_16624\\1157732491.py:7: FutureWarning: In a future version of pandas all arguments of DataFrame.drop except for the argument 'labels' will be keyword-only.\n",
      "  inputs=data.drop(['salary_more_then_100k'],'columns')\n",
      "C:\\Users\\Sriram\\AppData\\Local\\Temp\\ipykernel_16624\\1157732491.py:8: FutureWarning: In a future version of pandas all arguments of DataFrame.drop except for the argument 'labels' will be keyword-only.\n",
      "  output=data.drop(['company','job','degree'],'columns')\n"
     ]
    }
   ],
   "source": [
    "from sklearn.preprocessing import LabelEncoder\n",
    "le=LabelEncoder()\n",
    "data['company']=le.fit_transform(data[['company']])\n",
    "data['job']=le.fit_transform(data[['job']])\n",
    "data['degree']=le.fit_transform(data[['degree']])\n",
    "print(data)\n",
    "inputs=data.drop(['salary_more_then_100k'],'columns')\n",
    "output=data.drop(['company','job','degree'],'columns')\n",
    "\n"
   ]
  },
  {
   "cell_type": "code",
   "execution_count": 19,
   "id": "c0db0511",
   "metadata": {},
   "outputs": [
    {
     "name": "stdout",
     "output_type": "stream",
     "text": [
      "    company  job  degree\n",
      "0         2    2       0\n",
      "1         2    2       1\n",
      "2         2    0       0\n",
      "3         2    0       1\n",
      "4         2    1       0\n",
      "5         2    1       1\n",
      "6         0    2       1\n",
      "7         0    1       0\n",
      "8         0    0       0\n",
      "9         0    0       1\n",
      "10        1    2       0\n",
      "11        1    2       1\n",
      "12        1    0       0\n",
      "13        1    0       1\n",
      "14        1    1       0\n",
      "15        1    1       1\n"
     ]
    }
   ],
   "source": [
    "print(inputs)"
   ]
  },
  {
   "cell_type": "code",
   "execution_count": 20,
   "id": "d1f2fac9",
   "metadata": {},
   "outputs": [
    {
     "name": "stdout",
     "output_type": "stream",
     "text": [
      "    salary_more_then_100k\n",
      "0                       0\n",
      "1                       0\n",
      "2                       1\n",
      "3                       1\n",
      "4                       0\n",
      "5                       1\n",
      "6                       0\n",
      "7                       0\n",
      "8                       0\n",
      "9                       1\n",
      "10                      1\n",
      "11                      1\n",
      "12                      1\n",
      "13                      1\n",
      "14                      1\n",
      "15                      1\n"
     ]
    }
   ],
   "source": [
    "print(output)"
   ]
  },
  {
   "cell_type": "code",
   "execution_count": 22,
   "id": "5ec48c94",
   "metadata": {},
   "outputs": [
    {
     "name": "stdout",
     "output_type": "stream",
     "text": [
      "0\n"
     ]
    },
    {
     "name": "stderr",
     "output_type": "stream",
     "text": [
      "C:\\ProgramData\\Anaconda3\\lib\\site-packages\\sklearn\\base.py:450: UserWarning: X does not have valid feature names, but DecisionTreeClassifier was fitted with feature names\n",
      "  warnings.warn(\n"
     ]
    }
   ],
   "source": [
    "from sklearn import tree\n",
    "model=tree.DecisionTreeClassifier()\n",
    "model.fit(inputs,output)\n",
    "res=model.predict([[2,2,0]])\n",
    "print(res[0])"
   ]
  },
  {
   "cell_type": "code",
   "execution_count": null,
   "id": "68e726a5",
   "metadata": {},
   "outputs": [],
   "source": []
  }
 ],
 "metadata": {
  "kernelspec": {
   "display_name": "Python 3 (ipykernel)",
   "language": "python",
   "name": "python3"
  },
  "language_info": {
   "codemirror_mode": {
    "name": "ipython",
    "version": 3
   },
   "file_extension": ".py",
   "mimetype": "text/x-python",
   "name": "python",
   "nbconvert_exporter": "python",
   "pygments_lexer": "ipython3",
   "version": "3.9.13"
  }
 },
 "nbformat": 4,
 "nbformat_minor": 5
}
