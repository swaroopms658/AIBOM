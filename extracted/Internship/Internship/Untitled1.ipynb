{
 "cells": [
  {
   "cell_type": "code",
   "execution_count": 1,
   "id": "bee1f8e0",
   "metadata": {},
   "outputs": [
    {
     "name": "stdout",
     "output_type": "stream",
     "text": [
      "     region  tenure  age  income  marital  address  ed  employ  retire  \\\n",
      "0         2      13   44      64        1        9   4       5       0   \n",
      "1         3      11   33     136        1        7   5       5       0   \n",
      "2         3      68   52     116        1       24   1      29       0   \n",
      "3         2      33   33      33        0       12   2       0       0   \n",
      "4         2      23   30      30        1        9   1       2       0   \n",
      "..      ...     ...  ...     ...      ...      ...  ..     ...     ...   \n",
      "995       3      10   39      27        0        0   3       0       0   \n",
      "996       1       7   34      22        0        2   5       5       0   \n",
      "997       3      67   59     944        0       40   5      33       0   \n",
      "998       3      70   49      87        0       18   2      22       0   \n",
      "999       3      50   36      39        1        7   3       3       0   \n",
      "\n",
      "     gender  reside custcat  \n",
      "0         0       2       A  \n",
      "1         0       6       D  \n",
      "2         1       2       C  \n",
      "3         1       1       A  \n",
      "4         0       4       C  \n",
      "..      ...     ...     ...  \n",
      "995       1       3       A  \n",
      "996       1       1       A  \n",
      "997       1       1       D  \n",
      "998       1       1       C  \n",
      "999       1       3       B  \n",
      "\n",
      "[1000 rows x 12 columns]\n",
      "<class 'pandas.core.frame.DataFrame'>\n",
      "RangeIndex: 1000 entries, 0 to 999\n",
      "Data columns (total 12 columns):\n",
      " #   Column   Non-Null Count  Dtype \n",
      "---  ------   --------------  ----- \n",
      " 0   region   1000 non-null   int64 \n",
      " 1   tenure   1000 non-null   int64 \n",
      " 2   age      1000 non-null   int64 \n",
      " 3   income   1000 non-null   int64 \n",
      " 4   marital  1000 non-null   int64 \n",
      " 5   address  1000 non-null   int64 \n",
      " 6   ed       1000 non-null   int64 \n",
      " 7   employ   1000 non-null   int64 \n",
      " 8   retire   1000 non-null   int64 \n",
      " 9   gender   1000 non-null   int64 \n",
      " 10  reside   1000 non-null   int64 \n",
      " 11  custcat  1000 non-null   object\n",
      "dtypes: int64(11), object(1)\n",
      "memory usage: 93.9+ KB\n",
      "None\n"
     ]
    }
   ],
   "source": [
    "import pandas as pd\n",
    "path=\"C:\\\\Users\\\\Sriram\\\\Downloads\\\\40_customerClassification\\\\Telecust1.csv\"\n",
    "data=pd.read_csv(path)\n",
    "\n",
    "print(data)\n",
    "print(data.info())"
   ]
  },
  {
   "cell_type": "code",
   "execution_count": 2,
   "id": "80cef1b5",
   "metadata": {},
   "outputs": [
    {
     "name": "stderr",
     "output_type": "stream",
     "text": [
      "C:\\ProgramData\\Anaconda3\\lib\\site-packages\\sklearn\\preprocessing\\_label.py:115: DataConversionWarning: A column-vector y was passed when a 1d array was expected. Please change the shape of y to (n_samples, ), for example using ravel().\n",
      "  y = column_or_1d(y, warn=True)\n",
      "C:\\Users\\Sriram\\AppData\\Local\\Temp\\ipykernel_17772\\585491344.py:5: FutureWarning: In a future version of pandas all arguments of DataFrame.drop except for the argument 'labels' will be keyword-only.\n",
      "  inputs=data.drop(['custcat'],'columns')\n",
      "C:\\Users\\Sriram\\AppData\\Local\\Temp\\ipykernel_17772\\585491344.py:6: FutureWarning: In a future version of pandas all arguments of DataFrame.drop except for the argument 'labels' will be keyword-only.\n",
      "  output=data.drop(['region','tenure','age','income','marital','address','ed','employ','retire','gender','reside'],'columns')\n"
     ]
    }
   ],
   "source": [
    "import sklearn\n",
    "from sklearn.preprocessing import LabelEncoder\n",
    "le=LabelEncoder()\n",
    "data['custcat']=le.fit_transform(data[['custcat']])\n",
    "inputs=data.drop(['custcat'],'columns')\n",
    "output=data.drop(['region','tenure','age','income','marital','address','ed','employ','retire','gender','reside'],'columns')\n"
   ]
  },
  {
   "cell_type": "code",
   "execution_count": 3,
   "id": "5bc12d9e",
   "metadata": {},
   "outputs": [],
   "source": [
    "from sklearn.preprocessing import MinMaxScaler\n",
    "scaler=MinMaxScaler()\n",
    "scaler.fit(data[['tenure']])\n",
    "data['tenure']=scaler.transform(data[['tenure']])\n",
    "scaler.fit(data[['age']])\n",
    "data['age']=scaler.transform(data[['age']])\n",
    "scaler.fit(data[['income']])\n",
    "data['income']=scaler.transform(data[['income']])\n",
    "scaler.fit(data[['address']])\n",
    "data['address']=scaler.transform(data[['address']])\n",
    "scaler.fit(data[['employ']])\n",
    "data['employ']=scaler.transform(data[['employ']])\n"
   ]
  },
  {
   "cell_type": "code",
   "execution_count": 4,
   "id": "25272848",
   "metadata": {},
   "outputs": [
    {
     "name": "stdout",
     "output_type": "stream",
     "text": [
      "     region  tenure  age  income  marital  address  ed  employ  retire  \\\n",
      "0         2      13   44      64        1        9   4       5       0   \n",
      "1         3      11   33     136        1        7   5       5       0   \n",
      "2         3      68   52     116        1       24   1      29       0   \n",
      "3         2      33   33      33        0       12   2       0       0   \n",
      "4         2      23   30      30        1        9   1       2       0   \n",
      "..      ...     ...  ...     ...      ...      ...  ..     ...     ...   \n",
      "995       3      10   39      27        0        0   3       0       0   \n",
      "996       1       7   34      22        0        2   5       5       0   \n",
      "997       3      67   59     944        0       40   5      33       0   \n",
      "998       3      70   49      87        0       18   2      22       0   \n",
      "999       3      50   36      39        1        7   3       3       0   \n",
      "\n",
      "     gender  reside  \n",
      "0         0       2  \n",
      "1         0       6  \n",
      "2         1       2  \n",
      "3         1       1  \n",
      "4         0       4  \n",
      "..      ...     ...  \n",
      "995       1       3  \n",
      "996       1       1  \n",
      "997       1       1  \n",
      "998       1       1  \n",
      "999       1       3  \n",
      "\n",
      "[1000 rows x 11 columns]\n"
     ]
    }
   ],
   "source": [
    "print(inputs)"
   ]
  },
  {
   "cell_type": "code",
   "execution_count": 5,
   "id": "54cf616d",
   "metadata": {},
   "outputs": [
    {
     "name": "stdout",
     "output_type": "stream",
     "text": [
      "     custcat\n",
      "0          0\n",
      "1          3\n",
      "2          2\n",
      "3          0\n",
      "4          2\n",
      "..       ...\n",
      "995        0\n",
      "996        0\n",
      "997        3\n",
      "998        2\n",
      "999        1\n",
      "\n",
      "[1000 rows x 1 columns]\n"
     ]
    }
   ],
   "source": [
    "print(output)"
   ]
  },
  {
   "cell_type": "code",
   "execution_count": 6,
   "id": "85c62a8e",
   "metadata": {},
   "outputs": [
    {
     "name": "stdout",
     "output_type": "stream",
     "text": [
      "     region  tenure  age  income  marital  address  ed  employ  retire  \\\n",
      "890       1      38   55     135        1       12   2      24       0   \n",
      "333       1      20   37      46        0        5   3      10       0   \n",
      "354       2      17   38      18        1       19   4       0       0   \n",
      "391       2      72   60      12        1       33   1      20       1   \n",
      "517       1      13   23      30        1        3   3       0       0   \n",
      "..      ...     ...  ...     ...      ...      ...  ..     ...     ...   \n",
      "273       2      48   55      26        0       31   1       1       0   \n",
      "228       3       6   33      26        0       12   3       0       0   \n",
      "773       3      49   63      10        0       18   2       2       1   \n",
      "261       2      19   46      26        0       11   2       0       0   \n",
      "155       1       3   24      20        1        2   2       3       0   \n",
      "\n",
      "     gender  reside  \n",
      "890       0       4  \n",
      "333       1       4  \n",
      "354       1       4  \n",
      "391       0       3  \n",
      "517       1       4  \n",
      "..      ...     ...  \n",
      "273       0       1  \n",
      "228       0       1  \n",
      "773       0       1  \n",
      "261       1       1  \n",
      "155       1       5  \n",
      "\n",
      "[800 rows x 11 columns]\n",
      "     region  tenure  age  income  marital  address  ed  employ  retire  \\\n",
      "950       3      16   35      46        0        7   3       3       0   \n",
      "660       2      45   54     171        0       25   3      33       0   \n",
      "483       1       7   23      27        0        3   2       1       0   \n",
      "501       3      32   35      57        0       12   4       5       0   \n",
      "39        2      72   57      22        0       34   2      35       1   \n",
      "..      ...     ...  ...     ...      ...      ...  ..     ...     ...   \n",
      "647       1      11   26      53        0        2   3       3       0   \n",
      "883       2      23   31      45        0       10   4       0       0   \n",
      "185       3      24   26      32        0        2   3       2       0   \n",
      "560       1      65   48      94        0       28   1      25       0   \n",
      "450       1      46   31      21        1       12   1       5       0   \n",
      "\n",
      "     gender  reside  \n",
      "950       0       1  \n",
      "660       1       1  \n",
      "483       1       3  \n",
      "501       0       1  \n",
      "39        1       1  \n",
      "..      ...     ...  \n",
      "647       0       1  \n",
      "883       0       2  \n",
      "185       0       3  \n",
      "560       0       1  \n",
      "450       0       5  \n",
      "\n",
      "[200 rows x 11 columns]\n",
      "     custcat\n",
      "890        3\n",
      "333        3\n",
      "354        1\n",
      "391        3\n",
      "517        3\n",
      "..       ...\n",
      "273        0\n",
      "228        2\n",
      "773        2\n",
      "261        0\n",
      "155        2\n",
      "\n",
      "[800 rows x 1 columns]\n",
      "     custcat\n",
      "950        0\n",
      "660        2\n",
      "483        0\n",
      "501        1\n",
      "39         2\n",
      "..       ...\n",
      "647        3\n",
      "883        1\n",
      "185        0\n",
      "560        1\n",
      "450        2\n",
      "\n",
      "[200 rows x 1 columns]\n"
     ]
    }
   ],
   "source": [
    "import sklearn\n",
    "from sklearn.model_selection import train_test_split\n",
    "x_train,x_test,y_train,y_test=train_test_split(inputs,output,test_size=0.2)\n",
    "print(x_train)\n",
    "print(x_test)\n",
    "print(y_train)\n",
    "print(y_test)"
   ]
  },
  {
   "cell_type": "code",
   "execution_count": 7,
   "id": "4ffb88cb",
   "metadata": {},
   "outputs": [
    {
     "name": "stderr",
     "output_type": "stream",
     "text": [
      "C:\\ProgramData\\Anaconda3\\lib\\site-packages\\sklearn\\neighbors\\_classification.py:198: DataConversionWarning: A column-vector y was passed when a 1d array was expected. Please change the shape of y to (n_samples,), for example using ravel().\n",
      "  return self._fit(X, y)\n"
     ]
    },
    {
     "name": "stdout",
     "output_type": "stream",
     "text": [
      "[0 2 3 2 1 1 2 1 2 2 3 0 1 1 2 2 3 3 0 2 0 2 3 3 1 0 3 0 2 0 0 3 2 2 0 2 1\n",
      " 0 3 0 1 3 3 3 0 0 1 3 2 3 3 2 1 1 1 0 2 3 1 1 2 0 1 1 2 0 0 0 0 2 2 2 0 2\n",
      " 0 1 0 2 3 1 3 0 1 1 1 2 0 1 2 0 1 1 3 2 3 1 0 2 0 0 0 0 2 1 1 0 1 1 2 0 3\n",
      " 3 2 2 0 0 0 0 0 2 1 2 2 1 2 3 1 2 2 1 3 2 0 2 0 2 0 1 1 0 3 3 0 3 2 0 1 2\n",
      " 2 1 1 2 0 1 2 2 2 0 2 0 0 0 2 1 3 2 3 0 2 1 0 0 1 1 3 0 0 1 3 0 2 3 2 1 0\n",
      " 0 1 2 2 2 0 2 0 2 2 0 2 2 2 0]\n",
      "     custcat\n",
      "950        0\n",
      "660        2\n",
      "483        0\n",
      "501        1\n",
      "39         2\n",
      "..       ...\n",
      "647        3\n",
      "883        1\n",
      "185        0\n",
      "560        1\n",
      "450        2\n",
      "\n",
      "[200 rows x 1 columns]\n",
      "[[25  6 11 10]\n",
      " [ 7 16 18  6]\n",
      " [18 12 19  6]\n",
      " [10 12 14 10]]\n"
     ]
    },
    {
     "name": "stderr",
     "output_type": "stream",
     "text": [
      "C:\\ProgramData\\Anaconda3\\lib\\site-packages\\sklearn\\neighbors\\_classification.py:228: FutureWarning: Unlike other reduction functions (e.g. `skew`, `kurtosis`), the default behavior of `mode` typically preserves the axis it acts along. In SciPy 1.11.0, this behavior will change: the default value of `keepdims` will become False, the `axis` over which the statistic is taken will be eliminated, and the value None will no longer be accepted. Set `keepdims` to True or False to avoid this warning.\n",
      "  mode, _ = stats.mode(_y[neigh_ind, k], axis=1)\n"
     ]
    }
   ],
   "source": [
    "from sklearn.neighbors import KNeighborsClassifier\n",
    "model=KNeighborsClassifier(n_neighbors=13)\n",
    "model.fit(x_train,y_train)\n",
    "y_pred=model.predict(x_test)\n",
    "print(y_pred)\n",
    "print(y_test)\n",
    "from sklearn.metrics import confusion_matrix\n",
    "cm=confusion_matrix(y_test,y_pred)\n",
    "print(cm)"
   ]
  },
  {
   "cell_type": "code",
   "execution_count": 8,
   "id": "458fafc8",
   "metadata": {},
   "outputs": [
    {
     "name": "stdout",
     "output_type": "stream",
     "text": [
      "accuracy score : 35.0 %\n"
     ]
    }
   ],
   "source": [
    "from sklearn.metrics import accuracy_score\n",
    "print(\"accuracy score :\",accuracy_score(y_test,y_pred)*100,\"%\")"
   ]
  },
  {
   "cell_type": "code",
   "execution_count": null,
   "id": "28d280a4",
   "metadata": {},
   "outputs": [],
   "source": []
  }
 ],
 "metadata": {
  "kernelspec": {
   "display_name": "Python 3 (ipykernel)",
   "language": "python",
   "name": "python3"
  },
  "language_info": {
   "codemirror_mode": {
    "name": "ipython",
    "version": 3
   },
   "file_extension": ".py",
   "mimetype": "text/x-python",
   "name": "python",
   "nbconvert_exporter": "python",
   "pygments_lexer": "ipython3",
   "version": "3.9.13"
  }
 },
 "nbformat": 4,
 "nbformat_minor": 5
}
