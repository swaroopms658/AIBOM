{
    "$schema": "http://json-schema.org/draft-07/schema#",
    "ModelDetails": {
        "Name": "C2_W1_Lab03_CoffeeRoasting_Numpy.ipynb",
        "Version": "1.0",
        "Type": "Software Model",
        "Author": "Unknown",
        "Licenses": [
            "MIT",
            "Apache-2.0"
        ],
        "Libraries": [],
        "Source": "Local Upload",
        "BOMGeneration": {
            "Timestamp": "2025-02-08T07:35:22.305647",
            "Method": "Automated Extraction",
            "GeneratedBy": "FastAPI System"
        },
        "OtherReferences": [],
        "Tags": []
    },
    "ModelArchitecture": {
        "Datasets": [],
        "Input": "Source Code",
        "Output": "JSON BOM",
        "SoftwareRequiredForExecution": true
    },
    "Usage": {
        "IntendedUse": "Dependency Management",
        "OutOfScopeUsage": "General ML Training",
        "MisuseOrMaliciousUse": "Unauthorized Code Execution"
    },
    "Considerations": {
        "EnvironmentalImpact": "Minimal",
        "EthicalConsiderations": "None"
    },
    "Authenticity": {
        "Attestation": "Auto-Generated"
    }
}