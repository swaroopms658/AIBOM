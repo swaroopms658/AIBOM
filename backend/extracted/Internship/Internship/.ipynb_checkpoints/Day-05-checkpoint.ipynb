{
 "cells": [
  {
   "cell_type": "markdown",
   "id": "44c05eea",
   "metadata": {},
   "source": [
    "# File Handling"
   ]
  },
  {
   "cell_type": "code",
   "execution_count": 1,
   "id": "03c4ef30",
   "metadata": {},
   "outputs": [],
   "source": [
    "# open(name of file,mode)\n",
    "# mode\n",
    "# 'x' to open empty text file\n",
    "# 'w' to write mode\n",
    "# 'a' to append mode\n",
    "# 'r' to read mode\n",
    "# 'w+' to write and read\n",
    "# 'r+' to read and write\n",
    "# close()"
   ]
  },
  {
   "cell_type": "code",
   "execution_count": 1,
   "id": "dc471d72",
   "metadata": {},
   "outputs": [
    {
     "ename": "FileExistsError",
     "evalue": "[Errno 17] File exists: 'abc.txt'",
     "output_type": "error",
     "traceback": [
      "\u001b[1;31m---------------------------------------------------------------------------\u001b[0m",
      "\u001b[1;31mFileExistsError\u001b[0m                           Traceback (most recent call last)",
      "\u001b[1;32m~\\AppData\\Local\\Temp\\ipykernel_9280\\1034434633.py\u001b[0m in \u001b[0;36m<module>\u001b[1;34m\u001b[0m\n\u001b[1;32m----> 1\u001b[1;33m \u001b[0ma\u001b[0m\u001b[1;33m=\u001b[0m\u001b[0mopen\u001b[0m\u001b[1;33m(\u001b[0m\u001b[1;34m'abc.txt'\u001b[0m\u001b[1;33m,\u001b[0m\u001b[1;34m'x'\u001b[0m\u001b[1;33m)\u001b[0m\u001b[1;33m\u001b[0m\u001b[1;33m\u001b[0m\u001b[0m\n\u001b[0m",
      "\u001b[1;31mFileExistsError\u001b[0m: [Errno 17] File exists: 'abc.txt'"
     ]
    }
   ],
   "source": [
    "a=open('abc.txt','x')"
   ]
  },
  {
   "cell_type": "code",
   "execution_count": 14,
   "id": "84a642c0",
   "metadata": {},
   "outputs": [],
   "source": [
    "b=open('abc.txt','w')\n",
    "b.write('hi there welcome to programming\\n')\n",
    "b.write('Today your going to learn python language\\n')\n",
    "b.write('Python is one of the simplest programming language\\n')\n",
    "b.write('In python u will learn about file handling\\n')\n",
    "b.write('file handling consiste of the syntax:open(name of file,mode)')\n",
    "b.write('the diffrent modes avilable are:x,r,w,w+,r+\\n')\n",
    "b.write('the modes are:empty,read,write,write and read,read and write\\n')\n",
    "b.close()"
   ]
  },
  {
   "cell_type": "code",
   "execution_count": 15,
   "id": "4fb1a044",
   "metadata": {},
   "outputs": [],
   "source": [
    "c=open('abc.txt','a')\n",
    "c.write('This is an example of append mode\\n')\n",
    "c.close()"
   ]
  },
  {
   "cell_type": "code",
   "execution_count": 16,
   "id": "6153c204",
   "metadata": {},
   "outputs": [
    {
     "name": "stdout",
     "output_type": "stream",
     "text": [
      "hi there welcome to programming\n",
      "Today your going to learn python language\n",
      "Python is one of the simplest programming language\n",
      "In python u will learn about file handling\n",
      "file handling consiste of the syntax:open(name of file,mode)the diffrent modes avilable are:x,r,w,w+,r+\n",
      "the modes are:empty,read,write,write and read,read and write\n",
      "This is an example of append mode\n",
      "\n"
     ]
    }
   ],
   "source": [
    "d=open('abc.txt','r')\n",
    "print(d.read())"
   ]
  },
  {
   "cell_type": "code",
   "execution_count": 17,
   "id": "90d2264b",
   "metadata": {},
   "outputs": [
    {
     "name": "stdout",
     "output_type": "stream",
     "text": [
      "hi there welcome to programming\n",
      "\n",
      "Today your going to learn python language\n",
      "\n"
     ]
    }
   ],
   "source": [
    "e=open('abc.txt','r')\n",
    "print(e.readline())\n",
    "print(e.readline())"
   ]
  },
  {
   "cell_type": "code",
   "execution_count": 18,
   "id": "aaf4bef7",
   "metadata": {},
   "outputs": [
    {
     "name": "stdout",
     "output_type": "stream",
     "text": [
      "['hi there welcome to programming\\n', 'Today your going to learn python language\\n', 'Python is one of the simplest programming language\\n', 'In python u will learn about file handling\\n', 'file handling consiste of the syntax:open(name of file,mode)the diffrent modes avilable are:x,r,w,w+,r+\\n', 'the modes are:empty,read,write,write and read,read and write\\n', 'This is an example of append mode\\n']\n"
     ]
    }
   ],
   "source": [
    "f=open('abc.txt','r')\n",
    "print(f.readlines())\n"
   ]
  },
  {
   "cell_type": "code",
   "execution_count": 19,
   "id": "3e1fee46",
   "metadata": {},
   "outputs": [
    {
     "name": "stdout",
     "output_type": "stream",
     "text": [
      "hi there welcome to programming\n",
      "\n",
      "Today your going to learn python language\n",
      "\n",
      "Python is one of the simplest programming language\n",
      "\n",
      "In python u will learn about file handling\n",
      "\n",
      "file handling consiste of the syntax:open(name of file,mode)the diffrent modes avilable are:x,r,w,w+,r+\n",
      "\n",
      "the modes are:empty,read,write,write and read,read and write\n",
      "\n",
      "This is an example of append mode\n",
      "\n"
     ]
    }
   ],
   "source": [
    "import time\n",
    "g=open('abc.txt','r')\n",
    "for i in g:\n",
    "    print(i)\n",
    "    time.sleep(1)\n",
    "   "
   ]
  },
  {
   "cell_type": "code",
   "execution_count": 20,
   "id": "97724f6a",
   "metadata": {},
   "outputs": [
    {
     "name": "stdout",
     "output_type": "stream",
     "text": [
      "hi there welcome to programming\n",
      "\n",
      "1\n",
      "Today your going to learn python language\n",
      "\n",
      "2\n",
      "Python is one of the simplest programming language\n",
      "\n",
      "3\n",
      "In python u will learn about file handling\n",
      "\n",
      "4\n",
      "file handling consiste of the syntax:open(name of file,mode)the diffrent modes avilable are:x,r,w,w+,r+\n",
      "\n",
      "5\n",
      "the modes are:empty,read,write,write and read,read and write\n",
      "\n",
      "6\n",
      "This is an example of append mode\n",
      "\n",
      "7\n"
     ]
    }
   ],
   "source": [
    "import time\n",
    "c=0\n",
    "g=open('abc.txt','r')\n",
    "for i in g:\n",
    "    print(i)\n",
    "    c+=1\n",
    "    print(c)\n",
    "    time.sleep(1)\n"
   ]
  },
  {
   "cell_type": "code",
   "execution_count": 22,
   "id": "b2f970bf",
   "metadata": {},
   "outputs": [
    {
     "name": "stdout",
     "output_type": "stream",
     "text": [
      "1\n",
      "2\n",
      "3\n",
      "4\n",
      "In python u will learn about file handling\n",
      "\n",
      "5\n",
      "6\n",
      "7\n"
     ]
    }
   ],
   "source": [
    "import time\n",
    "c=0\n",
    "g=open('abc.txt','r')\n",
    "for i in g:\n",
    "    c+=1\n",
    "    print(c)\n",
    "    if c==4:\n",
    "        print(i)\n",
    "    time.sleep(1)\n"
   ]
  },
  {
   "cell_type": "code",
   "execution_count": 24,
   "id": "72eac919",
   "metadata": {},
   "outputs": [
    {
     "name": "stdout",
     "output_type": "stream",
     "text": [
      "1\n",
      "hi there welcome to programming\n",
      "\n",
      "2\n",
      "Today your going to learn python language\n",
      "\n",
      "3\n",
      "Python is one of the simplest programming language\n",
      "\n",
      "4\n",
      "5\n",
      "file handling consiste of the syntax:open(name of file,mode)the diffrent modes avilable are:x,r,w,w+,r+\n",
      "\n",
      "6\n",
      "the modes are:empty,read,write,write and read,read and write\n",
      "\n",
      "7\n",
      "This is an example of append mode\n",
      "\n"
     ]
    }
   ],
   "source": [
    "import time\n",
    "c=0\n",
    "g=open('abc.txt','r')\n",
    "for i in g:\n",
    "    c+=1\n",
    "    print(c)\n",
    "    if c==4:\n",
    "        pass\n",
    "    else:\n",
    "        print(i)\n",
    "    time.sleep(1)"
   ]
  },
  {
   "cell_type": "code",
   "execution_count": 8,
   "id": "f871c845",
   "metadata": {},
   "outputs": [
    {
     "name": "stdout",
     "output_type": "stream",
     "text": [
      "['hi', 'there', 'welcome', 'to', 'programming']\n",
      "the no of words: 5\n",
      "['Today', 'your', 'going', 'to', 'learn', 'python', 'language']\n",
      "the no of words: 7\n",
      "['Python', 'is', 'one', 'of', 'the', 'simplest', 'programming', 'language']\n",
      "the no of words: 8\n",
      "['In', 'python', 'u', 'will', 'learn', 'about', 'file', 'handling']\n",
      "the no of words: 8\n",
      "['file', 'handling', 'consiste', 'of', 'the', 'syntax:open(name', 'of', 'file,mode)the', 'diffrent', 'modes', 'avilable', 'are:x,r,w,w+,r+']\n",
      "the no of words: 12\n",
      "['the', 'modes', 'are:empty,read,write,write', 'and', 'read,read', 'and', 'write']\n",
      "the no of words: 7\n",
      "['This', 'is', 'an', 'example', 'of', 'append', 'mode']\n",
      "the no of words: 7\n"
     ]
    }
   ],
   "source": [
    "g=open('abc.txt','r')\n",
    "data=g.readlines()\n",
    "for i in data:\n",
    "    word=i.split()\n",
    "    print(word)\n",
    "    print('the no of words:',len(word))\n",
    "g.close()\n"
   ]
  },
  {
   "cell_type": "code",
   "execution_count": 9,
   "id": "b282492d",
   "metadata": {},
   "outputs": [
    {
     "name": "stdout",
     "output_type": "stream",
     "text": [
      "File exists\n"
     ]
    }
   ],
   "source": [
    "import os\n",
    "if(os.path.exists('abc.txt')):\n",
    "    print('File exists')\n",
    "else:\n",
    "    print('File not exists')"
   ]
  },
  {
   "cell_type": "code",
   "execution_count": 12,
   "id": "f054dfb2",
   "metadata": {},
   "outputs": [
    {
     "name": "stdout",
     "output_type": "stream",
     "text": [
      "File not exists\n"
     ]
    }
   ],
   "source": [
    "import os\n",
    "if(os.path.exists('abc.txt')):\n",
    "    os.remove('abc.txt')\n",
    "else:\n",
    "    print('File not exists')"
   ]
  },
  {
   "cell_type": "code",
   "execution_count": null,
   "id": "980ec21e",
   "metadata": {},
   "outputs": [],
   "source": []
  }
 ],
 "metadata": {
  "kernelspec": {
   "display_name": "Python 3 (ipykernel)",
   "language": "python",
   "name": "python3"
  },
  "language_info": {
   "codemirror_mode": {
    "name": "ipython",
    "version": 3
   },
   "file_extension": ".py",
   "mimetype": "text/x-python",
   "name": "python",
   "nbconvert_exporter": "python",
   "pygments_lexer": "ipython3",
   "version": "3.9.13"
  }
 },
 "nbformat": 4,
 "nbformat_minor": 5
}
