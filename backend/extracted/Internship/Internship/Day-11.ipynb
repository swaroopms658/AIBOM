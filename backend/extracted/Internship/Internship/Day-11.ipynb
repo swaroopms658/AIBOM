{
 "cells": [
  {
   "cell_type": "markdown",
   "id": "2f7756c6",
   "metadata": {},
   "source": [
    "# Naive Bayes Classifier"
   ]
  },
  {
   "cell_type": "code",
   "execution_count": 1,
   "id": "a77a41a0",
   "metadata": {},
   "outputs": [
    {
     "name": "stdout",
     "output_type": "stream",
     "text": [
      "     Pclass  Gender   Age     Fare  Survived\n",
      "0         3    male  22.0   7.2500         0\n",
      "1         1  female  38.0  71.2833         1\n",
      "2         3  female  26.0   7.9250         1\n",
      "3         1  female  35.0  53.1000         1\n",
      "4         3    male  35.0   8.0500         0\n",
      "..      ...     ...   ...      ...       ...\n",
      "886       2    male  27.0  13.0000         0\n",
      "887       1  female  19.0  30.0000         1\n",
      "888       3  female   NaN  23.4500         0\n",
      "889       1    male  26.0  30.0000         1\n",
      "890       3    male  32.0   7.7500         0\n",
      "\n",
      "[891 rows x 5 columns]\n",
      "<class 'pandas.core.frame.DataFrame'>\n",
      "RangeIndex: 891 entries, 0 to 890\n",
      "Data columns (total 5 columns):\n",
      " #   Column    Non-Null Count  Dtype  \n",
      "---  ------    --------------  -----  \n",
      " 0   Pclass    891 non-null    int64  \n",
      " 1   Gender    891 non-null    object \n",
      " 2   Age       714 non-null    float64\n",
      " 3   Fare      891 non-null    float64\n",
      " 4   Survived  891 non-null    int64  \n",
      "dtypes: float64(2), int64(2), object(1)\n",
      "memory usage: 34.9+ KB\n",
      "None\n"
     ]
    }
   ],
   "source": [
    "import pandas as pd\n",
    "path=\"C:\\\\Users\\\\Sriram\\\\Downloads\\\\Data\\\\Data\\\\titanicsurvival.csv\"\n",
    "data=pd.read_csv(path)\n",
    "print(data)\n",
    "print(data.info())"
   ]
  },
  {
   "cell_type": "code",
   "execution_count": 2,
   "id": "270b7a98",
   "metadata": {},
   "outputs": [],
   "source": [
    "#data can be of any numeric type"
   ]
  },
  {
   "cell_type": "code",
   "execution_count": 5,
   "id": "72cfaca5",
   "metadata": {},
   "outputs": [
    {
     "name": "stdout",
     "output_type": "stream",
     "text": [
      "28.0\n",
      "     Pclass  Gender   Age     Fare  Survived\n",
      "0         3       1  22.0   7.2500         0\n",
      "1         1       0  38.0  71.2833         1\n",
      "2         3       0  26.0   7.9250         1\n",
      "3         1       0  35.0  53.1000         1\n",
      "4         3       1  35.0   8.0500         0\n",
      "..      ...     ...   ...      ...       ...\n",
      "886       2       1  27.0  13.0000         0\n",
      "887       1       0  19.0  30.0000         1\n",
      "888       3       0  28.0  23.4500         0\n",
      "889       1       1  26.0  30.0000         1\n",
      "890       3       1  32.0   7.7500         0\n",
      "\n",
      "[891 rows x 5 columns]\n"
     ]
    }
   ],
   "source": [
    "medianval=data.Age.median()\n",
    "print(medianval)\n",
    "data.Age=data.Age.fillna(medianval)\n",
    "data['Gender']=data['Gender'].map({'male':1,'female':0}) #when  less variable we use map\n",
    "print(data)"
   ]
  },
  {
   "cell_type": "code",
   "execution_count": 6,
   "id": "68f3037b",
   "metadata": {},
   "outputs": [
    {
     "name": "stdout",
     "output_type": "stream",
     "text": [
      "     Pclass  Gender   Age     Fare\n",
      "0         3       1  22.0   7.2500\n",
      "1         1       0  38.0  71.2833\n",
      "2         3       0  26.0   7.9250\n",
      "3         1       0  35.0  53.1000\n",
      "4         3       1  35.0   8.0500\n",
      "..      ...     ...   ...      ...\n",
      "886       2       1  27.0  13.0000\n",
      "887       1       0  19.0  30.0000\n",
      "888       3       0  28.0  23.4500\n",
      "889       1       1  26.0  30.0000\n",
      "890       3       1  32.0   7.7500\n",
      "\n",
      "[891 rows x 4 columns]\n",
      "     Survived\n",
      "0           0\n",
      "1           1\n",
      "2           1\n",
      "3           1\n",
      "4           0\n",
      "..        ...\n",
      "886         0\n",
      "887         1\n",
      "888         0\n",
      "889         1\n",
      "890         0\n",
      "\n",
      "[891 rows x 1 columns]\n"
     ]
    },
    {
     "name": "stderr",
     "output_type": "stream",
     "text": [
      "C:\\Users\\Sriram\\AppData\\Local\\Temp\\ipykernel_10992\\4255526994.py:1: FutureWarning: In a future version of pandas all arguments of DataFrame.drop except for the argument 'labels' will be keyword-only.\n",
      "  inputs=data.drop(['Survived'],'columns')\n",
      "C:\\Users\\Sriram\\AppData\\Local\\Temp\\ipykernel_10992\\4255526994.py:2: FutureWarning: In a future version of pandas all arguments of DataFrame.drop except for the argument 'labels' will be keyword-only.\n",
      "  output=data.drop(['Pclass','Gender','Age','Fare'],'columns')\n"
     ]
    }
   ],
   "source": [
    "inputs=data.drop(['Survived'],'columns')\n",
    "output=data.drop(['Pclass','Gender','Age','Fare'],'columns')\n",
    "print(inputs)\n",
    "print(output)"
   ]
  },
  {
   "cell_type": "code",
   "execution_count": 7,
   "id": "2b4a966c",
   "metadata": {},
   "outputs": [],
   "source": [
    "#if dataset is small train and test is not required "
   ]
  },
  {
   "cell_type": "code",
   "execution_count": 9,
   "id": "d25649ef",
   "metadata": {},
   "outputs": [
    {
     "name": "stdout",
     "output_type": "stream",
     "text": [
      "     Pclass  Gender   Age     Fare\n",
      "501       3       0  21.0   7.7500\n",
      "402       3       0  21.0   9.8250\n",
      "29        3       1  28.0   7.8958\n",
      "482       3       1  50.0   8.0500\n",
      "149       2       1  42.0  13.0000\n",
      "..      ...     ...   ...      ...\n",
      "19        3       0  28.0   7.2250\n",
      "447       1       1  34.0  26.5500\n",
      "404       3       0  20.0   8.6625\n",
      "398       2       1  23.0  10.5000\n",
      "190       2       0  32.0  13.0000\n",
      "\n",
      "[712 rows x 4 columns]\n",
      "     Pclass  Gender   Age     Fare\n",
      "704       3       1  26.0   7.8542\n",
      "174       1       1  56.0  30.6958\n",
      "764       3       1  16.0   7.7750\n",
      "568       3       1  28.0   7.2292\n",
      "583       1       1  36.0  40.1250\n",
      "..      ...     ...   ...      ...\n",
      "605       3       1  36.0  15.5500\n",
      "130       3       1  33.0   7.8958\n",
      "199       2       0  24.0  13.0000\n",
      "145       2       1  19.0  36.7500\n",
      "260       3       1  28.0   7.7500\n",
      "\n",
      "[179 rows x 4 columns]\n",
      "     Survived\n",
      "501         0\n",
      "402         0\n",
      "29          0\n",
      "482         0\n",
      "149         0\n",
      "..        ...\n",
      "19          1\n",
      "447         1\n",
      "404         0\n",
      "398         0\n",
      "190         1\n",
      "\n",
      "[712 rows x 1 columns]\n",
      "     Survived\n",
      "704         0\n",
      "174         0\n",
      "764         0\n",
      "568         0\n",
      "583         0\n",
      "..        ...\n",
      "605         0\n",
      "130         0\n",
      "199         0\n",
      "145         0\n",
      "260         0\n",
      "\n",
      "[179 rows x 1 columns]\n"
     ]
    }
   ],
   "source": [
    "import sklearn\n",
    "from sklearn.model_selection import train_test_split\n",
    "x_train,x_test,y_train,y_test=train_test_split(inputs,output,train_size=0.8)\n",
    "print(x_train)\n",
    "print(x_test)\n",
    "print(y_train)\n",
    "print(y_test)"
   ]
  },
  {
   "cell_type": "code",
   "execution_count": 10,
   "id": "45c40f3b",
   "metadata": {},
   "outputs": [
    {
     "name": "stdout",
     "output_type": "stream",
     "text": [
      "[0 0 0 0 0 0 0 0 0 0 0 0 1 1 1 0 0 1 1 0 0 0 0 0 1 0 1 0 1 0 1 0 0 0 1 1 0\n",
      " 1 0 0 0 0 1 0 1 0 0 0 0 0 0 0 1 0 1 1 0 0 1 0 1 0 0 0 1 0 1 0 1 1 1 0 0 0\n",
      " 1 1 0 1 0 1 0 0 0 0 0 1 1 0 0 0 1 1 0 1 0 1 1 1 0 1 1 0 1 1 1 1 0 0 0 0 1\n",
      " 1 1 0 0 1 0 1 0 0 1 0 0 0 1 0 1 0 1 1 1 1 0 0 1 0 0 0 0 0 1 0 1 1 0 1 0 0\n",
      " 0 1 0 0 0 1 1 0 0 0 0 1 0 0 0 0 1 0 1 0 1 0 0 0 0 0 0 0 1 0 0]\n",
      "     Survived\n",
      "704         0\n",
      "174         0\n",
      "764         0\n",
      "568         0\n",
      "583         0\n",
      "..        ...\n",
      "605         0\n",
      "130         0\n",
      "199         0\n",
      "145         0\n",
      "260         0\n",
      "\n",
      "[179 rows x 1 columns]\n"
     ]
    },
    {
     "name": "stderr",
     "output_type": "stream",
     "text": [
      "C:\\ProgramData\\Anaconda3\\lib\\site-packages\\sklearn\\utils\\validation.py:993: DataConversionWarning: A column-vector y was passed when a 1d array was expected. Please change the shape of y to (n_samples, ), for example using ravel().\n",
      "  y = column_or_1d(y, warn=True)\n"
     ]
    }
   ],
   "source": [
    "from sklearn.naive_bayes import GaussianNB\n",
    "model=GaussianNB()\n",
    "model.fit(x_train,y_train)\n",
    "y_pred=model.predict(x_test)\n",
    "print(y_pred)\n",
    "print(y_test)"
   ]
  },
  {
   "cell_type": "code",
   "execution_count": 11,
   "id": "57f356af",
   "metadata": {},
   "outputs": [
    {
     "name": "stdout",
     "output_type": "stream",
     "text": [
      "Enter person pclass,1/2/3:2\n",
      "enter the gender 0-->Female 1-->Male:1\n",
      "enter the age of the Person:34\n",
      "enter the fare:56000\n",
      "[1]\n",
      "person survived\n"
     ]
    },
    {
     "name": "stderr",
     "output_type": "stream",
     "text": [
      "C:\\ProgramData\\Anaconda3\\lib\\site-packages\\sklearn\\base.py:450: UserWarning: X does not have valid feature names, but GaussianNB was fitted with feature names\n",
      "  warnings.warn(\n"
     ]
    }
   ],
   "source": [
    "pclass=int(input('Enter person pclass,1/2/3:'))\n",
    "gender=int(input('enter the gender 0-->Female 1-->Male:'))\n",
    "age=int(input('enter the age of the Person:'))\n",
    "fare=int(input('enter the fare:'))\n",
    "result=model.predict([[pclass,gender,age,fare]])\n",
    "print(result)\n",
    "if result==1:\n",
    "    print('person survived')\n",
    "else:\n",
    "    print('person not survived')"
   ]
  },
  {
   "cell_type": "code",
   "execution_count": null,
   "id": "81e7beeb",
   "metadata": {},
   "outputs": [],
   "source": []
  }
 ],
 "metadata": {
  "kernelspec": {
   "display_name": "Python 3 (ipykernel)",
   "language": "python",
   "name": "python3"
  },
  "language_info": {
   "codemirror_mode": {
    "name": "ipython",
    "version": 3
   },
   "file_extension": ".py",
   "mimetype": "text/x-python",
   "name": "python",
   "nbconvert_exporter": "python",
   "pygments_lexer": "ipython3",
   "version": "3.9.13"
  }
 },
 "nbformat": 4,
 "nbformat_minor": 5
}
