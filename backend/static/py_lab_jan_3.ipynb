{
  "cells": [
    {
      "cell_type": "code",
      "execution_count": null,
      "id": "e9a37e09-d91f-40d8-a5d5-b15639e98c08",
      "metadata": {
        "id": "e9a37e09-d91f-40d8-a5d5-b15639e98c08",
        "outputId": "f74b6377-74f4-470d-d7dc-393fd7010f64"
      },
      "outputs": [
        {
          "name": "stdout",
          "output_type": "stream",
          "text": [
            "Hello user, this is a function without parameter\n"
          ]
        }
      ],
      "source": [
        "#creating a function without parameters\n",
        "def hello():\n",
        "    print(\"Hello user, this is a function without parameter\")\n",
        "hello()"
      ]
    },
    {
      "cell_type": "code",
      "execution_count": null,
      "id": "1a11e9ac-8702-40b3-aa6e-7b4677c91ff3",
      "metadata": {
        "id": "1a11e9ac-8702-40b3-aa6e-7b4677c91ff3",
        "outputId": "80da14ce-90e9-4fe2-ec78-4b89db0d4ff4"
      },
      "outputs": [
        {
          "name": "stdout",
          "output_type": "stream",
          "text": [
            "Even number\n"
          ]
        }
      ],
      "source": [
        "#creating a function with parameter\n",
        "def odd_or_even(num):\n",
        "    if num % 2 == 0:\n",
        "        print(\"Even number\")\n",
        "    else:\n",
        "        print(\"Odd number\")\n",
        "odd_or_even(4)"
      ]
    },
    {
      "cell_type": "code",
      "execution_count": null,
      "id": "8224a513-fdea-4791-a967-90b9e0997c90",
      "metadata": {
        "id": "8224a513-fdea-4791-a967-90b9e0997c90",
        "outputId": "ef4a06b6-24a1-4980-95da-44fbd95db69b"
      },
      "outputs": [
        {
          "name": "stdout",
          "output_type": "stream",
          "text": [
            "Product :  6\n"
          ]
        }
      ],
      "source": [
        "#creating a functoin with multiple parameters\n",
        "def product(num1, num2):\n",
        "    print(\"Product : \", num1*num2)\n",
        "product(2,3)"
      ]
    },
    {
      "cell_type": "code",
      "execution_count": null,
      "id": "55661de2-7068-455f-b941-e2619bb3a8ae",
      "metadata": {
        "id": "55661de2-7068-455f-b941-e2619bb3a8ae",
        "outputId": "7807a649-a5f7-4261-c2da-ee8e6ec6b0ba"
      },
      "outputs": [
        {
          "name": "stdout",
          "output_type": "stream",
          "text": [
            "Arguments passed\n",
            "1\n",
            "2\n",
            "3\n",
            "4\n",
            "5\n"
          ]
        }
      ],
      "source": [
        "#creating a function with variable number of parameters\n",
        "def nums(*args):\n",
        "    print(\"Arguments passed\")\n",
        "    for i in args:\n",
        "        print(i)\n",
        "nums(1,2,3,4,5)"
      ]
    },
    {
      "cell_type": "code",
      "execution_count": null,
      "id": "1ce6aeca-f0e8-49d3-9606-0b241344f9d2",
      "metadata": {
        "id": "1ce6aeca-f0e8-49d3-9606-0b241344f9d2",
        "outputId": "7cfa5f18-92d5-4b23-b8a3-e3ea21e358ef"
      },
      "outputs": [
        {
          "name": "stdout",
          "output_type": "stream",
          "text": [
            "4\n",
            "25\n"
          ]
        }
      ],
      "source": [
        "#function with default parameter\n",
        "def square(num = 5):\n",
        "    return num**2\n",
        "print(square(2))\n",
        "print(square())"
      ]
    },
    {
      "cell_type": "code",
      "execution_count": null,
      "id": "1157ba54-1e3b-44d1-b50f-de990c981161",
      "metadata": {
        "id": "1157ba54-1e3b-44d1-b50f-de990c981161",
        "outputId": "493f9e72-ef92-40fa-87ff-1c4a45b06b00"
      },
      "outputs": [
        {
          "name": "stdout",
          "output_type": "stream",
          "text": [
            "Name  Anakin\n",
            "Age  27\n",
            "Gender  Male\n",
            "Name  June\n",
            "Age  47\n",
            "Gender  Female\n"
          ]
        }
      ],
      "source": [
        "#named parameters\n",
        "def print_info(name, age, gender):\n",
        "    print(\"Name \", name)\n",
        "    print(\"Age \", age)\n",
        "    print(\"Gender \", gender)\n",
        "print_info(name = \"Anakin\", age = 27, gender = \"Male\")\n",
        "print_info(gender = \"Female\", name = \"June\", age = 47)"
      ]
    },
    {
      "cell_type": "code",
      "execution_count": null,
      "id": "a4577523-1f71-42e8-a24f-677084ab920c",
      "metadata": {
        "id": "a4577523-1f71-42e8-a24f-677084ab920c",
        "outputId": "c2e5b373-ad31-4a85-8705-f1ac5832c6c1"
      },
      "outputs": [
        {
          "name": "stdout",
          "output_type": "stream",
          "text": [
            "[2, 4, 6, 8, 10]\n"
          ]
        }
      ],
      "source": [
        "#list comprehension\n",
        "x = [i for i in range(2,11,2)]\n",
        "print(x)"
      ]
    },
    {
      "cell_type": "code",
      "execution_count": null,
      "id": "879ff5ac-9c1e-44b2-aeb2-6f23ab5b2df5",
      "metadata": {
        "id": "879ff5ac-9c1e-44b2-aeb2-6f23ab5b2df5",
        "outputId": "ae545cf8-ddc4-4c7e-9ebb-6588eb3faf43"
      },
      "outputs": [
        {
          "name": "stdout",
          "output_type": "stream",
          "text": [
            "[1, 2, 3, 4, 5, 6, 7, 8, 9]\n"
          ]
        }
      ],
      "source": [
        "#list comprehension using loop\n",
        "l = []\n",
        "for i in range(1,10):\n",
        "    l.append(i)\n",
        "print(l)"
      ]
    },
    {
      "cell_type": "code",
      "execution_count": null,
      "id": "4f829724-96b8-4f01-b476-dd138fcfdd30",
      "metadata": {
        "colab": {
          "base_uri": "https://localhost:8080/"
        },
        "id": "4f829724-96b8-4f01-b476-dd138fcfdd30",
        "outputId": "271afa91-b1be-4174-c203-d57a00c8d8b1"
      },
      "outputs": [
        {
          "output_type": "stream",
          "name": "stdout",
          "text": [
            "Dataset generated\n"
          ]
        }
      ],
      "source": [
        "import csv\n",
        "import random\n",
        "\n",
        "def generate_faculty_data(num_rows = 100):\n",
        "    departments = ['Computer Science', 'Mathematics','Physics','Chemistry','Biology']\n",
        "    designations = ['Assistant Professor', \"Associate Professor\", \"Professor\"]\n",
        "    genders = ['Male', 'Female']\n",
        "    qualifications = ['PhD', 'M.Tech']\n",
        "\n",
        "    with open('faculty.csv','w',newline='') as csvfile:\n",
        "        fields = [\"Faculty_ID\",\"Name\",\"Department\",\"Designation\",\"Gender\",\"Experience\",\"Salary\",\"Qualification\",\"Publications\"]\n",
        "        writer = csv.DictWriter(csvfile, fieldnames = fields)\n",
        "        writer.writeheader()\n",
        "\n",
        "        for i in range(num_rows):\n",
        "            faculty_id = i+1\n",
        "            name = f\"Faculty_{i+1}\"\n",
        "            department = random.choice(departments)\n",
        "            designation = random.choice(designations)\n",
        "            gender = random.choice(genders)\n",
        "            experience = random.randint(0,25)\n",
        "            salary = random.randint(60000,80000)\n",
        "            publication = random.randint(0,50)\n",
        "            writer.writerow({\n",
        "                \"Faculty_ID\": faculty_id,\n",
        "                \"Name\": name,\n",
        "                \"Department\": department,\n",
        "                \"Designation\": designation,\n",
        "                \"Gender\": gender,\n",
        "                \"Experience\": experience,\n",
        "                \"Salary\": salary,\n",
        "                \"Qualification\": random.choice(qualifications),\n",
        "                \"Publications\": publication\n",
        "            })\n",
        "generate_faculty_data(100000)\n",
        "print(\"Dataset generated\")\n"
      ]
    },
    {
      "cell_type": "code",
      "source": [
        "def load_data_to_list(filename = 'faculty.csv'):\n",
        "  data = []\n",
        "  with open(filename, 'r') as file:\n",
        "    reader = csv.DictReader(file)\n",
        "    for row in reader:\n",
        "      data.append(row)\n",
        "\n",
        "  return data\n",
        "faculty_list = load_data_to_list()\n",
        "\n",
        "def menu():\n",
        "  print(\"\\nMenu:\")\n",
        "  print(\"1. Add Faculty Member\")\n",
        "  print(\"2. Search Faculty Member\")\n",
        "  print(\"3. Delete Faculty Member\")\n",
        "  print(\"4. Exit\")\n",
        "\n",
        "def add_faculty(data):\n",
        "  faculty_id = input(\"Enter Faculty ID: \")\n",
        "  name = input(\"Enter Name: \")\n",
        "  department = input(\"Enter Department: \")\n",
        "  designation = input(\"Enter Designation: \")\n",
        "  gender = input(\"Enter Gender: \")\n",
        "  experience = input(\"Enter years of Experience: \")\n",
        "  salary = input(\"Enter Salary: \")\n",
        "  qualification = input(\"Enter Qualification: \")\n",
        "  publication = input(\"Enter Number of Publications: \")\n",
        "\n",
        "  new_faculty = {\n",
        "      \"Faculty_ID\": faculty_id,\n",
        "      \"Name\": name,\n",
        "      \"Department\": department,\n",
        "      \"Designation\": designation,\n",
        "      \"Gender\": gender,\n",
        "      \"Experience\": experience,\n",
        "      \"Salary\": salary,\n",
        "      \"Qualification\": qualification,\n",
        "      \"Publications\": publication\n",
        "  }\n",
        "  data.append(new_faculty)\n",
        "  print(\"Faculty member added successfully!\")\n",
        "\n",
        "def search_faculty(data):\n",
        "  search_term = input(\"Enter search term (Faculty ID or Name): \")\n",
        "  results = []\n",
        "  for faculty in data:\n",
        "    if search_term in faculty['Faculty_ID'] or search_term in faculty[\"Name\"]: results.append(faculty)\n",
        "  if results:\n",
        "    print(\"Search Results:\")\n",
        "    for result in results:\n",
        "      print(result)\n",
        "  else:\n",
        "    print(\"No faculty member found with that criteria.\")\n",
        "\n",
        "def delete_faculty(data):\n",
        "  faculty_id_to_delete = input(\"Enter the Faculty ID to delete: \")\n",
        "  initial_len = len(data)\n",
        "  data[:] = [faculty for faculty in data if faculty [\"Faculty_ID\"] != faculty_id_to_delete]\n",
        "\n",
        "  if len(data) < initial_len:\n",
        "    print(\"Faculty member deleted successfully!\")\n",
        "  else:\n",
        "    print(\"No faculty member found with that ID.\")\n",
        "\n",
        "while True:\n",
        "  menu()\n",
        "  choice = input(\"Enter your choice: \")\n",
        "  if choice == \"1\":\n",
        "    add_faculty(faculty_list)\n",
        "  elif choice == \"2\":\n",
        "    search_faculty(faculty_list)\n",
        "  elif choice == \"3\":\n",
        "    delete_faculty(faculty_list)\n",
        "  elif choice == \"4\":\n",
        "    print(\"Exiting...\")\n",
        "    break\n",
        "  else:\n",
        "    print(\"Invalid choice. Please try again.\")"
      ],
      "metadata": {
        "colab": {
          "base_uri": "https://localhost:8080/"
        },
        "id": "uFGEekcphRJw",
        "outputId": "b4d4c4dd-abaa-4ca8-9f5f-19770f14dd1d"
      },
      "id": "uFGEekcphRJw",
      "execution_count": null,
      "outputs": [
        {
          "output_type": "stream",
          "name": "stdout",
          "text": [
            "\n",
            "Menu:\n",
            "1. Add Faculty Member\n",
            "2. Search Faculty Member\n",
            "3. Delete Faculty Member\n",
            "4. Exit\n",
            "Enter your choice: 1\n",
            "Enter Faculty ID: 11\n",
            "Enter Name: Faculty_11\n",
            "Enter Department: Chemistry\n",
            "Enter Designation: Professor\n",
            "Enter Gender: Male\n",
            "Enter years of Experience: 2\n",
            "Enter Salary: 78000\n",
            "Enter Qualification: M.Tech\n",
            "Enter Number of Publications: 1\n",
            "Faculty member added successfully!\n",
            "\n",
            "Menu:\n",
            "1. Add Faculty Member\n",
            "2. Search Faculty Member\n",
            "3. Delete Faculty Member\n",
            "4. Exit\n",
            "Enter your choice: 2\n",
            "Enter search term (Faculty ID or Name): 11\n",
            "Search Results:\n",
            "{'Faculty_ID': '11', 'Name': 'Faculty_11', 'Department': 'Chemistry', 'Designation': 'Professor', 'Gender': 'Male', 'Experience': '2', 'Salary': '78000', 'Qualification': 'M.Tech', 'Publications': '1'}\n",
            "\n",
            "Menu:\n",
            "1. Add Faculty Member\n",
            "2. Search Faculty Member\n",
            "3. Delete Faculty Member\n",
            "4. Exit\n",
            "Enter your choice: 3\n",
            "Enter the Faculty ID to delete: 11\n",
            "Faculty member deleted successfully!\n",
            "\n",
            "Menu:\n",
            "1. Add Faculty Member\n",
            "2. Search Faculty Member\n",
            "3. Delete Faculty Member\n",
            "4. Exit\n",
            "Enter your choice: 2\n",
            "Enter search term (Faculty ID or Name): 11\n",
            "No faculty member found with that criteria.\n",
            "\n",
            "Menu:\n",
            "1. Add Faculty Member\n",
            "2. Search Faculty Member\n",
            "3. Delete Faculty Member\n",
            "4. Exit\n",
            "Enter your choice: 4\n",
            "Exiting...\n"
          ]
        }
      ]
    }
  ],
  "metadata": {
    "kernelspec": {
      "display_name": "Python 3 (ipykernel)",
      "language": "python",
      "name": "python3"
    },
    "language_info": {
      "codemirror_mode": {
        "name": "ipython",
        "version": 3
      },
      "file_extension": ".py",
      "mimetype": "text/x-python",
      "name": "python",
      "nbconvert_exporter": "python",
      "pygments_lexer": "ipython3",
      "version": "3.12.5"
    },
    "colab": {
      "provenance": []
    }
  },
  "nbformat": 4,
  "nbformat_minor": 5
}