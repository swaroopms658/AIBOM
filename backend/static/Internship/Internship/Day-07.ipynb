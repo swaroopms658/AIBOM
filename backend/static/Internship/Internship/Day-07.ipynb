{
 "cells": [
  {
   "cell_type": "markdown",
   "id": "aae29874",
   "metadata": {},
   "source": [
    "# Multiple linear regression"
   ]
  },
  {
   "cell_type": "code",
   "execution_count": 1,
   "id": "814b1998",
   "metadata": {},
   "outputs": [
    {
     "name": "stdout",
     "output_type": "stream",
     "text": [
      "     hours  age  internet  marks\n",
      "0     6.83   15         1  78.50\n",
      "1     6.56   16         0  76.74\n",
      "2      NaN   17         1  78.68\n",
      "3     5.67   18         0  71.82\n",
      "4     8.67   19         1  84.19\n",
      "..     ...  ...       ...    ...\n",
      "196   8.56   19         1  84.68\n",
      "197   8.94   20         1  86.75\n",
      "198   6.60   15         1  78.05\n",
      "199   8.35   16         1  83.50\n",
      "200   4.15   15         0  81.45\n",
      "\n",
      "[201 rows x 4 columns]\n",
      "<class 'pandas.core.frame.DataFrame'>\n",
      "RangeIndex: 201 entries, 0 to 200\n",
      "Data columns (total 4 columns):\n",
      " #   Column    Non-Null Count  Dtype  \n",
      "---  ------    --------------  -----  \n",
      " 0   hours     196 non-null    float64\n",
      " 1   age       201 non-null    int64  \n",
      " 2   internet  201 non-null    int64  \n",
      " 3   marks     201 non-null    float64\n",
      "dtypes: float64(2), int64(2)\n",
      "memory usage: 6.4 KB\n",
      "None\n",
      "hours       5\n",
      "age         0\n",
      "internet    0\n",
      "marks       0\n",
      "dtype: int64\n"
     ]
    }
   ],
   "source": [
    "import pandas as pd\n",
    "path=\"C:\\\\Users\\\\Sriram\\\\Downloads\\\\Data\\\\Data\\\\Exammarks.csv\"\n",
    "data=pd.read_csv(path)\n",
    "print(data)\n",
    "print(data.info())\n",
    "print(data.isnull().sum())"
   ]
  },
  {
   "cell_type": "code",
   "execution_count": 2,
   "id": "de95af3d",
   "metadata": {},
   "outputs": [
    {
     "name": "stdout",
     "output_type": "stream",
     "text": [
      "7.109999999999999\n",
      "     hours  age  internet  marks\n",
      "0     6.83   15         1  78.50\n",
      "1     6.56   16         0  76.74\n",
      "2     7.11   17         1  78.68\n",
      "3     5.67   18         0  71.82\n",
      "4     8.67   19         1  84.19\n",
      "..     ...  ...       ...    ...\n",
      "196   8.56   19         1  84.68\n",
      "197   8.94   20         1  86.75\n",
      "198   6.60   15         1  78.05\n",
      "199   8.35   16         1  83.50\n",
      "200   4.15   15         0  81.45\n",
      "\n",
      "[201 rows x 4 columns]\n",
      "hours       0\n",
      "age         0\n",
      "internet    0\n",
      "marks       0\n",
      "dtype: int64\n",
      "     hours  age  internet\n",
      "0     6.83   15         1\n",
      "1     6.56   16         0\n",
      "2     7.11   17         1\n",
      "3     5.67   18         0\n",
      "4     8.67   19         1\n",
      "..     ...  ...       ...\n",
      "196   8.56   19         1\n",
      "197   8.94   20         1\n",
      "198   6.60   15         1\n",
      "199   8.35   16         1\n",
      "200   4.15   15         0\n",
      "\n",
      "[201 rows x 3 columns]\n",
      "     marks\n",
      "0    78.50\n",
      "1    76.74\n",
      "2    78.68\n",
      "3    71.82\n",
      "4    84.19\n",
      "..     ...\n",
      "196  84.68\n",
      "197  86.75\n",
      "198  78.05\n",
      "199  83.50\n",
      "200  81.45\n",
      "\n",
      "[201 rows x 1 columns]\n"
     ]
    },
    {
     "name": "stderr",
     "output_type": "stream",
     "text": [
      "C:\\Users\\Sriram\\AppData\\Local\\Temp\\ipykernel_1516\\2768860718.py:6: FutureWarning: In a future version of pandas all arguments of DataFrame.drop except for the argument 'labels' will be keyword-only.\n",
      "  inputs=data.drop('marks','columns')\n",
      "C:\\Users\\Sriram\\AppData\\Local\\Temp\\ipykernel_1516\\2768860718.py:7: FutureWarning: In a future version of pandas all arguments of DataFrame.drop except for the argument 'labels' will be keyword-only.\n",
      "  output=data.drop(['hours','age','internet'],'columns')\n"
     ]
    }
   ],
   "source": [
    "median=data.hours.median()\n",
    "print(median)\n",
    "data.hours=data.hours.fillna(median)\n",
    "print(data)\n",
    "print(data.isnull().sum())\n",
    "inputs=data.drop('marks','columns')\n",
    "output=data.drop(['hours','age','internet'],'columns')\n",
    "print(inputs)\n",
    "print(output)"
   ]
  },
  {
   "cell_type": "code",
   "execution_count": 3,
   "id": "11a92b7f",
   "metadata": {},
   "outputs": [
    {
     "name": "stdout",
     "output_type": "stream",
     "text": [
      "[[77.39096703]]\n"
     ]
    },
    {
     "name": "stderr",
     "output_type": "stream",
     "text": [
      "C:\\ProgramData\\Anaconda3\\lib\\site-packages\\sklearn\\base.py:450: UserWarning: X does not have valid feature names, but LinearRegression was fitted with feature names\n",
      "  warnings.warn(\n"
     ]
    }
   ],
   "source": [
    "import sklearn\n",
    "from sklearn import linear_model\n",
    "model=linear_model.LinearRegression()\n",
    "model.fit(inputs,output)\n",
    "result=model.predict([[6.83,15,1]])\n",
    "print(result)"
   ]
  },
  {
   "cell_type": "code",
   "execution_count": 4,
   "id": "b65bd383",
   "metadata": {},
   "outputs": [
    {
     "name": "stdout",
     "output_type": "stream",
     "text": [
      "enter hours:6.3\n",
      "enter age:15\n",
      "enter internet facility:[0/1]0\n",
      "[[75.453224]]\n"
     ]
    },
    {
     "name": "stderr",
     "output_type": "stream",
     "text": [
      "C:\\ProgramData\\Anaconda3\\lib\\site-packages\\sklearn\\base.py:450: UserWarning: X does not have valid feature names, but LinearRegression was fitted with feature names\n",
      "  warnings.warn(\n"
     ]
    }
   ],
   "source": [
    "hours=float(input('enter hours:'))\n",
    "age=int(input('enter age:'))\n",
    "internet=int(input('enter internet facility:[0/1]'))\n",
    "result=model.predict([[hours,age,internet]])\n",
    "print(result)"
   ]
  },
  {
   "cell_type": "code",
   "execution_count": 5,
   "id": "02751820",
   "metadata": {},
   "outputs": [
    {
     "name": "stdout",
     "output_type": "stream",
     "text": [
      "91.41056483206894\n"
     ]
    }
   ],
   "source": [
    "acc=model.score(inputs,output)\n",
    "print(acc*100)"
   ]
  },
  {
   "cell_type": "markdown",
   "id": "df487bfe",
   "metadata": {},
   "source": [
    "# Logistic regression"
   ]
  },
  {
   "cell_type": "code",
   "execution_count": 6,
   "id": "ec1af0bc",
   "metadata": {},
   "outputs": [
    {
     "name": "stdout",
     "output_type": "stream",
     "text": [
      "    age  bought_insurance\n",
      "0    22                 0\n",
      "1    25                 0\n",
      "2    47                 1\n",
      "3    52                 0\n",
      "4    46                 1\n",
      "5    56                 1\n",
      "6    55                 0\n",
      "7    60                 1\n",
      "8    62                 1\n",
      "9    61                 1\n",
      "10   18                 0\n",
      "11   28                 0\n",
      "12   27                 0\n",
      "13   29                 0\n",
      "14   49                 1\n",
      "15   55                 1\n",
      "16   25                 1\n",
      "17   58                 1\n",
      "18   19                 0\n",
      "19   18                 0\n",
      "20   21                 0\n",
      "21   26                 0\n",
      "22   40                 1\n",
      "23   45                 1\n",
      "24   50                 1\n",
      "25   54                 1\n",
      "26   23                 0\n",
      "<class 'pandas.core.frame.DataFrame'>\n",
      "RangeIndex: 27 entries, 0 to 26\n",
      "Data columns (total 2 columns):\n",
      " #   Column            Non-Null Count  Dtype\n",
      "---  ------            --------------  -----\n",
      " 0   age               27 non-null     int64\n",
      " 1   bought_insurance  27 non-null     int64\n",
      "dtypes: int64(2)\n",
      "memory usage: 560.0 bytes\n",
      "None\n",
      "age                 0\n",
      "bought_insurance    0\n",
      "dtype: int64\n"
     ]
    }
   ],
   "source": [
    "import pandas as pd\n",
    "path=\"C:\\\\Users\\\\Sriram\\\\Downloads\\\\Data\\\\Data\\\\insurance_data.csv\"\n",
    "data=pd.read_csv(path)\n",
    "print(data)\n",
    "print(data.info())\n",
    "print(data.isnull().sum())"
   ]
  },
  {
   "cell_type": "code",
   "execution_count": 7,
   "id": "2589f3ea",
   "metadata": {},
   "outputs": [
    {
     "name": "stdout",
     "output_type": "stream",
     "text": [
      "    age\n",
      "0    22\n",
      "1    25\n",
      "2    47\n",
      "3    52\n",
      "4    46\n",
      "5    56\n",
      "6    55\n",
      "7    60\n",
      "8    62\n",
      "9    61\n",
      "10   18\n",
      "11   28\n",
      "12   27\n",
      "13   29\n",
      "14   49\n",
      "15   55\n",
      "16   25\n",
      "17   58\n",
      "18   19\n",
      "19   18\n",
      "20   21\n",
      "21   26\n",
      "22   40\n",
      "23   45\n",
      "24   50\n",
      "25   54\n",
      "26   23\n",
      "    bought_insurance\n",
      "0                  0\n",
      "1                  0\n",
      "2                  1\n",
      "3                  0\n",
      "4                  1\n",
      "5                  1\n",
      "6                  0\n",
      "7                  1\n",
      "8                  1\n",
      "9                  1\n",
      "10                 0\n",
      "11                 0\n",
      "12                 0\n",
      "13                 0\n",
      "14                 1\n",
      "15                 1\n",
      "16                 1\n",
      "17                 1\n",
      "18                 0\n",
      "19                 0\n",
      "20                 0\n",
      "21                 0\n",
      "22                 1\n",
      "23                 1\n",
      "24                 1\n",
      "25                 1\n",
      "26                 0\n"
     ]
    },
    {
     "name": "stderr",
     "output_type": "stream",
     "text": [
      "C:\\Users\\Sriram\\AppData\\Local\\Temp\\ipykernel_1516\\2604994118.py:1: FutureWarning: In a future version of pandas all arguments of DataFrame.drop except for the argument 'labels' will be keyword-only.\n",
      "  inputs=data.drop('bought_insurance','columns')\n",
      "C:\\Users\\Sriram\\AppData\\Local\\Temp\\ipykernel_1516\\2604994118.py:2: FutureWarning: In a future version of pandas all arguments of DataFrame.drop except for the argument 'labels' will be keyword-only.\n",
      "  output=data.drop('age','columns')\n"
     ]
    }
   ],
   "source": [
    "inputs=data.drop('bought_insurance','columns')\n",
    "output=data.drop('age','columns')\n",
    "print(inputs)\n",
    "print(output)"
   ]
  },
  {
   "cell_type": "code",
   "execution_count": 8,
   "id": "0356232a",
   "metadata": {},
   "outputs": [
    {
     "data": {
      "image/png": "[encoded data removed]",
      "text/plain": [
       "<Figure size 640x480 with 1 Axes>"
      ]
     },
     "metadata": {},
     "output_type": "display_data"
    }
   ],
   "source": [
    "import matplotlib.pyplot as plt\n",
    "plt.title('Insurace plot')\n",
    "plt.xlabel('age')\n",
    "plt.ylabel('bought_insurance')\n",
    "plt.scatter(inputs,output)\n",
    "plt.show()"
   ]
  },
  {
   "cell_type": "code",
   "execution_count": 9,
   "id": "24cd0097",
   "metadata": {},
   "outputs": [
    {
     "name": "stdout",
     "output_type": "stream",
     "text": [
      "    age\n",
      "23   45\n",
      "18   19\n",
      "9    61\n",
      "17   58\n",
      "21   26\n",
      "16   25\n",
      "20   21\n",
      "19   18\n",
      "6    55\n",
      "24   50\n",
      "12   27\n",
      "15   55\n",
      "7    60\n",
      "14   49\n",
      "1    25\n",
      "10   18\n",
      "4    46\n",
      "22   40\n",
      "0    22\n",
      "3    52\n",
      "11   28\n",
      "    age\n",
      "25   54\n",
      "8    62\n",
      "5    56\n",
      "13   29\n",
      "26   23\n",
      "2    47\n",
      "    bought_insurance\n",
      "23                 1\n",
      "18                 0\n",
      "9                  1\n",
      "17                 1\n",
      "21                 0\n",
      "16                 1\n",
      "20                 0\n",
      "19                 0\n",
      "6                  0\n",
      "24                 1\n",
      "12                 0\n",
      "15                 1\n",
      "7                  1\n",
      "14                 1\n",
      "1                  0\n",
      "10                 0\n",
      "4                  1\n",
      "22                 1\n",
      "0                  0\n",
      "3                  0\n",
      "11                 0\n",
      "    bought_insurance\n",
      "25                 1\n",
      "8                  1\n",
      "5                  1\n",
      "13                 0\n",
      "26                 0\n",
      "2                  1\n"
     ]
    }
   ],
   "source": [
    "import sklearn\n",
    "from sklearn.model_selection import train_test_split\n",
    "x_train,x_test,y_train,y_test=train_test_split(inputs,output,train_size=0.8)\n",
    "print(x_train)\n",
    "print(x_test)\n",
    "print(y_train)\n",
    "print(y_test)"
   ]
  },
  {
   "cell_type": "code",
   "execution_count": 10,
   "id": "c6a51f71",
   "metadata": {},
   "outputs": [
    {
     "name": "stdout",
     "output_type": "stream",
     "text": [
      "[1 1 1 0 0 1]\n",
      "    bought_insurance\n",
      "25                 1\n",
      "8                  1\n",
      "5                  1\n",
      "13                 0\n",
      "26                 0\n",
      "2                  1\n"
     ]
    },
    {
     "name": "stderr",
     "output_type": "stream",
     "text": [
      "C:\\ProgramData\\Anaconda3\\lib\\site-packages\\sklearn\\utils\\validation.py:993: DataConversionWarning: A column-vector y was passed when a 1d array was expected. Please change the shape of y to (n_samples, ), for example using ravel().\n",
      "  y = column_or_1d(y, warn=True)\n"
     ]
    }
   ],
   "source": [
    "from sklearn.linear_model import LogisticRegression\n",
    "model=LogisticRegression()\n",
    "model.fit(x_train,y_train)\n",
    "y_pred=model.predict(x_test)\n",
    "print(y_pred)\n",
    "print(y_test)\n"
   ]
  },
  {
   "cell_type": "code",
   "execution_count": 11,
   "id": "a6623062",
   "metadata": {},
   "outputs": [
    {
     "name": "stdout",
     "output_type": "stream",
     "text": [
      "enter age:67\n",
      "bought_insurance\n"
     ]
    },
    {
     "name": "stderr",
     "output_type": "stream",
     "text": [
      "C:\\ProgramData\\Anaconda3\\lib\\site-packages\\sklearn\\base.py:450: UserWarning: X does not have valid feature names, but LogisticRegression was fitted with feature names\n",
      "  warnings.warn(\n"
     ]
    }
   ],
   "source": [
    "age=int(input('enter age:'))\n",
    "res=model.predict([[age]])\n",
    "if res==1:\n",
    "    print('bought_insurance')\n",
    "else:\n",
    "    print('Not bought_insurance ')"
   ]
  },
  {
   "cell_type": "code",
   "execution_count": 12,
   "id": "c158c01c",
   "metadata": {},
   "outputs": [
    {
     "name": "stdout",
     "output_type": "stream",
     "text": [
      "[[2 0]\n",
      " [0 4]]\n"
     ]
    }
   ],
   "source": [
    "from sklearn.metrics import confusion_matrix\n",
    "cm=confusion_matrix(y_test,y_pred)\n",
    "print(cm)"
   ]
  },
  {
   "cell_type": "code",
   "execution_count": null,
   "id": "fbb5344b",
   "metadata": {},
   "outputs": [],
   "source": []
  }
 ],
 "metadata": {
  "kernelspec": {
   "display_name": "Python 3 (ipykernel)",
   "language": "python",
   "name": "python3"
  },
  "language_info": {
   "codemirror_mode": {
    "name": "ipython",
    "version": 3
   },
   "file_extension": ".py",
   "mimetype": "text/x-python",
   "name": "python",
   "nbconvert_exporter": "python",
   "pygments_lexer": "ipython3",
   "version": "3.9.13"
  }
 },
 "nbformat": 4,
 "nbformat_minor": 5
}
