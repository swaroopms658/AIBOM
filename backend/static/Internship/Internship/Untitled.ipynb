{
 "cells": [
  {
   "cell_type": "code",
   "execution_count": 1,
   "id": "27c268d0",
   "metadata": {},
   "outputs": [
    {
     "name": "stdout",
     "output_type": "stream",
     "text": [
      "     region  tenure  age  income  marital  address  ed  employ  retire  \\\n",
      "0         2      13   44      64        1        9   4       5       0   \n",
      "1         3      11   33     136        1        7   5       5       0   \n",
      "2         3      68   52     116        1       24   1      29       0   \n",
      "3         2      33   33      33        0       12   2       0       0   \n",
      "4         2      23   30      30        1        9   1       2       0   \n",
      "..      ...     ...  ...     ...      ...      ...  ..     ...     ...   \n",
      "995       3      10   39      27        0        0   3       0       0   \n",
      "996       1       7   34      22        0        2   5       5       0   \n",
      "997       3      67   59     944        0       40   5      33       0   \n",
      "998       3      70   49      87        0       18   2      22       0   \n",
      "999       3      50   36      39        1        7   3       3       0   \n",
      "\n",
      "     gender  reside custcat  \n",
      "0         0       2       A  \n",
      "1         0       6       D  \n",
      "2         1       2       C  \n",
      "3         1       1       A  \n",
      "4         0       4       C  \n",
      "..      ...     ...     ...  \n",
      "995       1       3       A  \n",
      "996       1       1       A  \n",
      "997       1       1       D  \n",
      "998       1       1       C  \n",
      "999       1       3       B  \n",
      "\n",
      "[1000 rows x 12 columns]\n",
      "<class 'pandas.core.frame.DataFrame'>\n",
      "RangeIndex: 1000 entries, 0 to 999\n",
      "Data columns (total 12 columns):\n",
      " #   Column   Non-Null Count  Dtype \n",
      "---  ------   --------------  ----- \n",
      " 0   region   1000 non-null   int64 \n",
      " 1   tenure   1000 non-null   int64 \n",
      " 2   age      1000 non-null   int64 \n",
      " 3   income   1000 non-null   int64 \n",
      " 4   marital  1000 non-null   int64 \n",
      " 5   address  1000 non-null   int64 \n",
      " 6   ed       1000 non-null   int64 \n",
      " 7   employ   1000 non-null   int64 \n",
      " 8   retire   1000 non-null   int64 \n",
      " 9   gender   1000 non-null   int64 \n",
      " 10  reside   1000 non-null   int64 \n",
      " 11  custcat  1000 non-null   object\n",
      "dtypes: int64(11), object(1)\n",
      "memory usage: 93.9+ KB\n",
      "None\n"
     ]
    }
   ],
   "source": [
    "import pandas as pd\n",
    "path=\"C:\\\\Users\\\\Sriram\\\\Downloads\\\\40_customerClassification\\\\Telecust1.csv\"\n",
    "data=pd.read_csv(path)\n",
    "\n",
    "print(data)\n",
    "print(data.info())"
   ]
  },
  {
   "cell_type": "code",
   "execution_count": 5,
   "id": "9708de11",
   "metadata": {},
   "outputs": [
    {
     "name": "stderr",
     "output_type": "stream",
     "text": [
      "C:\\ProgramData\\Anaconda3\\lib\\site-packages\\sklearn\\preprocessing\\_label.py:115: DataConversionWarning: A column-vector y was passed when a 1d array was expected. Please change the shape of y to (n_samples, ), for example using ravel().\n",
      "  y = column_or_1d(y, warn=True)\n",
      "C:\\Users\\Sriram\\AppData\\Local\\Temp\\ipykernel_10868\\585491344.py:5: FutureWarning: In a future version of pandas all arguments of DataFrame.drop except for the argument 'labels' will be keyword-only.\n",
      "  inputs=data.drop(['custcat'],'columns')\n",
      "C:\\Users\\Sriram\\AppData\\Local\\Temp\\ipykernel_10868\\585491344.py:6: FutureWarning: In a future version of pandas all arguments of DataFrame.drop except for the argument 'labels' will be keyword-only.\n",
      "  output=data.drop(['region','tenure','age','income','marital','address','ed','employ','retire','gender','reside'],'columns')\n"
     ]
    }
   ],
   "source": [
    "import sklearn\n",
    "from sklearn.preprocessing import LabelEncoder\n",
    "le=LabelEncoder()\n",
    "data['custcat']=le.fit_transform(data[['custcat']])\n",
    "inputs=data.drop(['custcat'],'columns')\n",
    "output=data.drop(['region','tenure','age','income','marital','address','ed','employ','retire','gender','reside'],'columns')\n"
   ]
  },
  {
   "cell_type": "code",
   "execution_count": 6,
   "id": "880b926e",
   "metadata": {},
   "outputs": [],
   "source": [
    "from sklearn.preprocessing import MinMaxScaler\n",
    "scaler=MinMaxScaler()\n",
    "scaler.fit(data[['tenure']])\n",
    "data['tenure']=scaler.transform(data[['tenure']])\n",
    "scaler.fit(data[['age']])\n",
    "data['age']=scaler.transform(data[['age']])\n",
    "scaler.fit(data[['income']])\n",
    "data['income']=scaler.transform(data[['income']])\n",
    "scaler.fit(data[['address']])\n",
    "data['address']=scaler.transform(data[['address']])\n",
    "scaler.fit(data[['employ']])\n",
    "data['employ']=scaler.transform(data[['employ']])\n",
    "\n"
   ]
  },
  {
   "cell_type": "code",
   "execution_count": 7,
   "id": "ca73aa21",
   "metadata": {},
   "outputs": [
    {
     "name": "stdout",
     "output_type": "stream",
     "text": [
      "     region    tenure       age    income  marital   address  ed    employ  \\\n",
      "0         2  0.169014  0.440678  0.033153        1  0.163636   4  0.106383   \n",
      "1         3  0.140845  0.254237  0.076552        1  0.127273   5  0.106383   \n",
      "2         3  0.943662  0.576271  0.064497        1  0.436364   1  0.617021   \n",
      "3         2  0.450704  0.254237  0.014467        0  0.218182   2  0.000000   \n",
      "4         2  0.309859  0.203390  0.012658        1  0.163636   1  0.042553   \n",
      "..      ...       ...       ...       ...      ...       ...  ..       ...   \n",
      "995       3  0.126761  0.355932  0.010850        0  0.000000   3  0.000000   \n",
      "996       1  0.084507  0.271186  0.007836        0  0.036364   5  0.106383   \n",
      "997       3  0.929577  0.694915  0.563593        0  0.727273   5  0.702128   \n",
      "998       3  0.971831  0.525424  0.047016        0  0.327273   2  0.468085   \n",
      "999       3  0.690141  0.305085  0.018083        1  0.127273   3  0.063830   \n",
      "\n",
      "     retire  gender  reside  \n",
      "0         0       0       2  \n",
      "1         0       0       6  \n",
      "2         0       1       2  \n",
      "3         0       1       1  \n",
      "4         0       0       4  \n",
      "..      ...     ...     ...  \n",
      "995       0       1       3  \n",
      "996       0       1       1  \n",
      "997       0       1       1  \n",
      "998       0       1       1  \n",
      "999       0       1       3  \n",
      "\n",
      "[1000 rows x 11 columns]\n"
     ]
    }
   ],
   "source": [
    "print(inputs)"
   ]
  },
  {
   "cell_type": "code",
   "execution_count": 8,
   "id": "282430f8",
   "metadata": {},
   "outputs": [
    {
     "name": "stdout",
     "output_type": "stream",
     "text": [
      "     custcat\n",
      "0          0\n",
      "1          3\n",
      "2          2\n",
      "3          0\n",
      "4          2\n",
      "..       ...\n",
      "995        0\n",
      "996        0\n",
      "997        3\n",
      "998        2\n",
      "999        1\n",
      "\n",
      "[1000 rows x 1 columns]\n"
     ]
    }
   ],
   "source": [
    "print(output)"
   ]
  },
  {
   "cell_type": "code",
   "execution_count": 9,
   "id": "c2a364a4",
   "metadata": {},
   "outputs": [
    {
     "name": "stderr",
     "output_type": "stream",
     "text": [
      "C:\\Users\\Sriram\\AppData\\Local\\Temp\\ipykernel_10868\\577395312.py:6: DataConversionWarning: A column-vector y was passed when a 1d array was expected. Please change the shape of y to (n_samples,), for example using ravel().\n",
      "  model.fit(x_train,y_train)\n"
     ]
    },
    {
     "name": "stdout",
     "output_type": "stream",
     "text": [
      "[3 0 2 0 0 0 1 0 2 0 3 2 2 3 2 1 2 1 1 0 3 3 1 0 2 3 0 3 0 0 2 0 0 3 0 0 0\n",
      " 0 0 0 2 2 1 0 3 2 3 0 0 2 1 2 0 3 0 3 0 2 0 1 2 3 0 2 2 0 2 0 3 3 2 2 0 0\n",
      " 1 0 2 2 3 0 0 2 3 2 3 0 2 3 3 2 0 2 0 2 1 2 0 2 0 3 1 3 2 3 3 3 2 0 2 2 0\n",
      " 0 1 3 2 2 1 2 2 2 2 3 3 0 2 0 1 2 1 3 3 2 3 2 0 0 0 1 0 2 0 0 1 2 2 1 3 0\n",
      " 2 1 1 0 1 3 2 0 1 3 3 3 1 3 3 2 2 0 1 0 2 1 0 3 1 3 0 2 1 1 3 2 0 3 0 3 2\n",
      " 0 1 1 1 3 2 1 3 1 0 0 2 0 3 2]\n"
     ]
    }
   ],
   "source": [
    "import sklearn\n",
    "from sklearn.model_selection import train_test_split\n",
    "x_train,x_test,y_train,y_test=train_test_split(inputs,output,test_size=0.2)\n",
    "from sklearn.ensemble import RandomForestClassifier\n",
    "model=RandomForestClassifier(n_estimators=300) #no of decision trees\n",
    "model.fit(x_train,y_train)\n",
    "y_pred=model.predict(x_test)\n",
    "print(y_pred)"
   ]
  },
  {
   "cell_type": "code",
   "execution_count": 10,
   "id": "cdae1729",
   "metadata": {},
   "outputs": [
    {
     "name": "stdout",
     "output_type": "stream",
     "text": [
      "[[22  5 15 13]\n",
      " [12 10 15 13]\n",
      " [19  6 16  6]\n",
      " [10 12 12 14]]\n"
     ]
    }
   ],
   "source": [
    "from sklearn.metrics import confusion_matrix\n",
    "cm=confusion_matrix(y_test,y_pred)\n",
    "print(cm)"
   ]
  },
  {
   "cell_type": "code",
   "execution_count": 11,
   "id": "ce820046",
   "metadata": {},
   "outputs": [
    {
     "name": "stdout",
     "output_type": "stream",
     "text": [
      "accuracy score : 31.0 %\n"
     ]
    }
   ],
   "source": [
    "from sklearn.metrics import accuracy_score\n",
    "print(\"accuracy score :\",accuracy_score(y_test,y_pred)*100,\"%\")"
   ]
  },
  {
   "cell_type": "code",
   "execution_count": null,
   "id": "d63fac0d",
   "metadata": {},
   "outputs": [],
   "source": []
  }
 ],
 "metadata": {
  "kernelspec": {
   "display_name": "Python 3 (ipykernel)",
   "language": "python",
   "name": "python3"
  },
  "language_info": {
   "codemirror_mode": {
    "name": "ipython",
    "version": 3
   },
   "file_extension": ".py",
   "mimetype": "text/x-python",
   "name": "python",
   "nbconvert_exporter": "python",
   "pygments_lexer": "ipython3",
   "version": "3.9.13"
  }
 },
 "nbformat": 4,
 "nbformat_minor": 5
}
