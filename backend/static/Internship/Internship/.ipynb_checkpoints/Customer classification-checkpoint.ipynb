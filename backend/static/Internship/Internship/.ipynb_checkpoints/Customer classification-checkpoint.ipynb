{
 "cells": [
  {
   "cell_type": "markdown",
   "id": "cc0b4128",
   "metadata": {},
   "source": [
    "# KNN"
   ]
  },
  {
   "cell_type": "code",
   "execution_count": 1,
   "id": "054c440f",
   "metadata": {},
   "outputs": [
    {
     "name": "stdout",
     "output_type": "stream",
     "text": [
      "     region  tenure  age  income  marital  address  ed  employ  retire  \\\n",
      "0         2      13   44      64        1        9   4       5       0   \n",
      "1         3      11   33     136        1        7   5       5       0   \n",
      "2         3      68   52     116        1       24   1      29       0   \n",
      "3         2      33   33      33        0       12   2       0       0   \n",
      "4         2      23   30      30        1        9   1       2       0   \n",
      "..      ...     ...  ...     ...      ...      ...  ..     ...     ...   \n",
      "995       3      10   39      27        0        0   3       0       0   \n",
      "996       1       7   34      22        0        2   5       5       0   \n",
      "997       3      67   59     944        0       40   5      33       0   \n",
      "998       3      70   49      87        0       18   2      22       0   \n",
      "999       3      50   36      39        1        7   3       3       0   \n",
      "\n",
      "     gender  reside custcat  \n",
      "0         0       2       A  \n",
      "1         0       6       D  \n",
      "2         1       2       C  \n",
      "3         1       1       A  \n",
      "4         0       4       C  \n",
      "..      ...     ...     ...  \n",
      "995       1       3       A  \n",
      "996       1       1       A  \n",
      "997       1       1       D  \n",
      "998       1       1       C  \n",
      "999       1       3       B  \n",
      "\n",
      "[1000 rows x 12 columns]\n",
      "<class 'pandas.core.frame.DataFrame'>\n",
      "RangeIndex: 1000 entries, 0 to 999\n",
      "Data columns (total 12 columns):\n",
      " #   Column   Non-Null Count  Dtype \n",
      "---  ------   --------------  ----- \n",
      " 0   region   1000 non-null   int64 \n",
      " 1   tenure   1000 non-null   int64 \n",
      " 2   age      1000 non-null   int64 \n",
      " 3   income   1000 non-null   int64 \n",
      " 4   marital  1000 non-null   int64 \n",
      " 5   address  1000 non-null   int64 \n",
      " 6   ed       1000 non-null   int64 \n",
      " 7   employ   1000 non-null   int64 \n",
      " 8   retire   1000 non-null   int64 \n",
      " 9   gender   1000 non-null   int64 \n",
      " 10  reside   1000 non-null   int64 \n",
      " 11  custcat  1000 non-null   object\n",
      "dtypes: int64(11), object(1)\n",
      "memory usage: 93.9+ KB\n",
      "None\n"
     ]
    }
   ],
   "source": [
    "import pandas as pd\n",
    "path=\"C:\\\\Users\\\\Sriram\\\\Downloads\\\\40_customerClassification\\\\Telecust1.csv\"\n",
    "data=pd.read_csv(path)\n",
    "\n",
    "print(data)\n",
    "print(data.info())"
   ]
  },
  {
   "cell_type": "code",
   "execution_count": 2,
   "id": "f086def3",
   "metadata": {},
   "outputs": [
    {
     "name": "stderr",
     "output_type": "stream",
     "text": [
      "C:\\ProgramData\\Anaconda3\\lib\\site-packages\\sklearn\\preprocessing\\_label.py:115: DataConversionWarning: A column-vector y was passed when a 1d array was expected. Please change the shape of y to (n_samples, ), for example using ravel().\n",
      "  y = column_or_1d(y, warn=True)\n",
      "C:\\Users\\Sriram\\AppData\\Local\\Temp\\ipykernel_17100\\585491344.py:5: FutureWarning: In a future version of pandas all arguments of DataFrame.drop except for the argument 'labels' will be keyword-only.\n",
      "  inputs=data.drop(['custcat'],'columns')\n",
      "C:\\Users\\Sriram\\AppData\\Local\\Temp\\ipykernel_17100\\585491344.py:6: FutureWarning: In a future version of pandas all arguments of DataFrame.drop except for the argument 'labels' will be keyword-only.\n",
      "  output=data.drop(['region','tenure','age','income','marital','address','ed','employ','retire','gender','reside'],'columns')\n"
     ]
    }
   ],
   "source": [
    "# import sklearn\n",
    "# from sklearn.preprocessing import LabelEncoder\n",
    "# le=LabelEncoder()\n",
    "# data['custcat']=le.fit_transform(data[['custcat']])\n",
    "# inputs=data.drop(['custcat'],'columns')\n",
    "# output=data.drop(['region','tenure','age','income','marital','address','ed','employ','retire','gender','reside'],'columns')\n"
   ]
  },
  {
   "cell_type": "code",
   "execution_count": 3,
   "id": "60405185",
   "metadata": {},
   "outputs": [
    {
     "name": "stdout",
     "output_type": "stream",
     "text": [
      "     region  tenure  age  income  marital  address  ed  employ  retire  \\\n",
      "0         2      13   44      64        1        9   4       5       0   \n",
      "1         3      11   33     136        1        7   5       5       0   \n",
      "2         3      68   52     116        1       24   1      29       0   \n",
      "3         2      33   33      33        0       12   2       0       0   \n",
      "4         2      23   30      30        1        9   1       2       0   \n",
      "..      ...     ...  ...     ...      ...      ...  ..     ...     ...   \n",
      "995       3      10   39      27        0        0   3       0       0   \n",
      "996       1       7   34      22        0        2   5       5       0   \n",
      "997       3      67   59     944        0       40   5      33       0   \n",
      "998       3      70   49      87        0       18   2      22       0   \n",
      "999       3      50   36      39        1        7   3       3       0   \n",
      "\n",
      "     gender  reside  \n",
      "0         0       2  \n",
      "1         0       6  \n",
      "2         1       2  \n",
      "3         1       1  \n",
      "4         0       4  \n",
      "..      ...     ...  \n",
      "995       1       3  \n",
      "996       1       1  \n",
      "997       1       1  \n",
      "998       1       1  \n",
      "999       1       3  \n",
      "\n",
      "[1000 rows x 11 columns]\n"
     ]
    }
   ],
   "source": [
    "print(inputs)"
   ]
  },
  {
   "cell_type": "code",
   "execution_count": 4,
   "id": "5599424f",
   "metadata": {},
   "outputs": [
    {
     "name": "stdout",
     "output_type": "stream",
     "text": [
      "     custcat\n",
      "0          0\n",
      "1          3\n",
      "2          2\n",
      "3          0\n",
      "4          2\n",
      "..       ...\n",
      "995        0\n",
      "996        0\n",
      "997        3\n",
      "998        2\n",
      "999        1\n",
      "\n",
      "[1000 rows x 1 columns]\n"
     ]
    }
   ],
   "source": [
    "print(output)"
   ]
  },
  {
   "cell_type": "code",
   "execution_count": 5,
   "id": "821ee0d4",
   "metadata": {},
   "outputs": [
    {
     "name": "stdout",
     "output_type": "stream",
     "text": [
      "     region  tenure  age  income  marital  address  ed  employ  retire  \\\n",
      "142       1      20   34      22        1        2   4       0       0   \n",
      "487       2      54   56     207        0        8   2      35       0   \n",
      "15        1      29   38      75        1       12   5       1       0   \n",
      "462       3      25   30      20        0        0   1       4       0   \n",
      "803       1      52   49      69        0       18   2      13       0   \n",
      "..      ...     ...  ...     ...      ...      ...  ..     ...     ...   \n",
      "658       3      24   35      41        1       10   5       6       0   \n",
      "296       2      28   40      64        0        7   1      19       0   \n",
      "637       1       9   41      39        0       12   4       3       0   \n",
      "292       1      30   27      47        0        4   4       2       0   \n",
      "608       1       3   31      23        1        4   4       4       0   \n",
      "\n",
      "     gender  reside  \n",
      "142       1       3  \n",
      "487       1       1  \n",
      "15        0       4  \n",
      "462       1       1  \n",
      "803       1       2  \n",
      "..      ...     ...  \n",
      "658       1       2  \n",
      "296       0       1  \n",
      "637       0       1  \n",
      "292       1       2  \n",
      "608       0       5  \n",
      "\n",
      "[800 rows x 11 columns]\n",
      "     region  tenure  age  income  marital  address  ed  employ  retire  \\\n",
      "911       3      17   50     205        0        2   5      19       0   \n",
      "220       1       8   30      34        0        1   2       9       0   \n",
      "509       1      42   33      67        0        2   2       5       0   \n",
      "697       2      65   72      12        0       46   2       0       1   \n",
      "649       3      23   50     151        0        1   4       8       0   \n",
      "..      ...     ...  ...     ...      ...      ...  ..     ...     ...   \n",
      "752       3      53   38      20        1       15   3       6       0   \n",
      "399       3      52   42      27        1       17   3       8       0   \n",
      "917       3      70   68    1131        0       21   2      45       0   \n",
      "103       1      29   32      49        1        0   4       3       0   \n",
      "333       1      20   37      46        0        5   3      10       0   \n",
      "\n",
      "     gender  reside  \n",
      "911       0       1  \n",
      "220       1       1  \n",
      "509       0       2  \n",
      "697       0       1  \n",
      "649       1       1  \n",
      "..      ...     ...  \n",
      "752       1       4  \n",
      "399       1       2  \n",
      "917       0       1  \n",
      "103       1       3  \n",
      "333       1       4  \n",
      "\n",
      "[200 rows x 11 columns]\n",
      "     custcat\n",
      "142        3\n",
      "487        2\n",
      "15         1\n",
      "462        2\n",
      "803        2\n",
      "..       ...\n",
      "658        1\n",
      "296        2\n",
      "637        0\n",
      "292        1\n",
      "608        3\n",
      "\n",
      "[800 rows x 1 columns]\n",
      "     custcat\n",
      "911        3\n",
      "220        2\n",
      "509        1\n",
      "697        2\n",
      "649        0\n",
      "..       ...\n",
      "752        1\n",
      "399        2\n",
      "917        2\n",
      "103        1\n",
      "333        3\n",
      "\n",
      "[200 rows x 1 columns]\n"
     ]
    }
   ],
   "source": [
    "import sklearn\n",
    "from sklearn.model_selection import train_test_split\n",
    "x_train,x_test,y_train,y_test=train_test_split(inputs,output,test_size=0.2)\n",
    "print(x_train)\n",
    "print(x_test)\n",
    "print(y_train)\n",
    "print(y_test)"
   ]
  },
  {
   "cell_type": "code",
   "execution_count": 6,
   "id": "274960eb",
   "metadata": {},
   "outputs": [
    {
     "name": "stdout",
     "output_type": "stream",
     "text": [
      "[2 3 3 2 2 0 2 2 2 2 2 2 1 3 2 0 2 2 0 2 3 0 2 0 1 2 2 0 2 2 2 0 1 2 0 0 0\n",
      " 1 0 0 0 0 0 2 0 1 1 1 0 0 2 3 1 0 0 2 1 0 3 0 2 1 0 2 0 2 1 2 2 1 0 1 0 2\n",
      " 1 0 3 1 0 2 0 0 0 0 3 3 0 3 2 2 2 1 3 1 2 0 0 0 0 3 2 0 2 2 1 3 0 0 0 0 0\n",
      " 1 0 0 2 2 2 1 2 1 2 3 0 3 2 3 2 1 3 3 0 2 2 3 0 2 0 2 3 0 2 2 3 0 3 3 1 3\n",
      " 0 3 0 0 0 2 3 0 0 0 0 0 0 3 1 2 0 0 2 3 0 0 0 0 0 2 2 0 1 0 2 3 2 2 0 1 2\n",
      " 2 2 1 1 2 2 0 0 2 0 2 2 3 2 0]\n",
      "     custcat\n",
      "911        3\n",
      "220        2\n",
      "509        1\n",
      "697        2\n",
      "649        0\n",
      "..       ...\n",
      "752        1\n",
      "399        2\n",
      "917        2\n",
      "103        1\n",
      "333        3\n",
      "\n",
      "[200 rows x 1 columns]\n"
     ]
    },
    {
     "name": "stderr",
     "output_type": "stream",
     "text": [
      "C:\\ProgramData\\Anaconda3\\lib\\site-packages\\sklearn\\neighbors\\_classification.py:198: DataConversionWarning: A column-vector y was passed when a 1d array was expected. Please change the shape of y to (n_samples,), for example using ravel().\n",
      "  return self._fit(X, y)\n",
      "C:\\ProgramData\\Anaconda3\\lib\\site-packages\\sklearn\\neighbors\\_classification.py:228: FutureWarning: Unlike other reduction functions (e.g. `skew`, `kurtosis`), the default behavior of `mode` typically preserves the axis it acts along. In SciPy 1.11.0, this behavior will change: the default value of `keepdims` will become False, the `axis` over which the statistic is taken will be eliminated, and the value None will no longer be accepted. Set `keepdims` to True or False to avoid this warning.\n",
      "  mode, _ = stats.mode(_y[neigh_ind, k], axis=1)\n"
     ]
    }
   ],
   "source": [
    "# from sklearn.neighbors import KNeighborsClassifier\n",
    "# model=KNeighborsClassifier(n_neighbors=13)\n",
    "# model.fit(x_train,y_train)\n",
    "# y_pred=model.predict(x_test)\n",
    "# print(y_pred)\n",
    "# print(y_test)\n"
   ]
  },
  {
   "cell_type": "code",
   "execution_count": 7,
   "id": "0b4833bd",
   "metadata": {},
   "outputs": [
    {
     "name": "stdout",
     "output_type": "stream",
     "text": [
      "[[26  3 19  5]\n",
      " [12 16 14  6]\n",
      " [20  5 19  6]\n",
      " [17  4 15 13]]\n"
     ]
    }
   ],
   "source": [
    "from sklearn.metrics import confusion_matrix\n",
    "cm=confusion_matrix(y_test,y_pred)\n",
    "print(cm)"
   ]
  },
  {
   "cell_type": "code",
   "execution_count": 8,
   "id": "75ab8383",
   "metadata": {},
   "outputs": [
    {
     "name": "stdout",
     "output_type": "stream",
     "text": [
      "accuracy score : 37.0 %\n"
     ]
    }
   ],
   "source": [
    "from sklearn.metrics import accuracy_score\n",
    "print(\"accuracy score :\",accuracy_score(y_test,y_pred)*100,\"%\")"
   ]
  },
  {
   "cell_type": "code",
   "execution_count": 9,
   "id": "aac285c8",
   "metadata": {},
   "outputs": [],
   "source": [
    "from sklearn.preprocessing import MinMaxScaler\n",
    "scaler=MinMaxScaler()\n",
    "scaler.fit(data[['region']])\n",
    "data['region']=scaler.transform(data[['region']])\n",
    "scaler.fit(data[['tenure']])\n",
    "data['tenure']=scaler.transform(data[['tenure']])\n",
    "scaler.fit(data[['age']])\n",
    "data['age']=scaler.transform(data[['age']])\n",
    "scaler.fit(data[['income']])\n",
    "data['income']=scaler.transform(data[['income']])\n",
    "scaler.fit(data[['address']])\n",
    "data['address']=scaler.transform(data[['address']])\n",
    "scaler.fit(data[['ed']])\n",
    "data['ed']=scaler.transform(data[['ed']])\n",
    "scaler.fit(data[['employ']])\n",
    "data['employ']=scaler.transform(data[['employ']])\n",
    "scaler.fit(data[['reside']])\n",
    "data['reside']=scaler.transform(data[['reside']])\n"
   ]
  },
  {
   "cell_type": "code",
   "execution_count": 10,
   "id": "e1ae8bb9",
   "metadata": {},
   "outputs": [
    {
     "name": "stderr",
     "output_type": "stream",
     "text": [
      "C:\\ProgramData\\Anaconda3\\lib\\site-packages\\sklearn\\preprocessing\\_label.py:115: DataConversionWarning: A column-vector y was passed when a 1d array was expected. Please change the shape of y to (n_samples, ), for example using ravel().\n",
      "  y = column_or_1d(y, warn=True)\n",
      "C:\\Users\\Sriram\\AppData\\Local\\Temp\\ipykernel_17100\\585491344.py:5: FutureWarning: In a future version of pandas all arguments of DataFrame.drop except for the argument 'labels' will be keyword-only.\n",
      "  inputs=data.drop(['custcat'],'columns')\n",
      "C:\\Users\\Sriram\\AppData\\Local\\Temp\\ipykernel_17100\\585491344.py:6: FutureWarning: In a future version of pandas all arguments of DataFrame.drop except for the argument 'labels' will be keyword-only.\n",
      "  output=data.drop(['region','tenure','age','income','marital','address','ed','employ','retire','gender','reside'],'columns')\n"
     ]
    }
   ],
   "source": [
    "import sklearn\n",
    "from sklearn.preprocessing import LabelEncoder\n",
    "le=LabelEncoder()\n",
    "data['custcat']=le.fit_transform(data[['custcat']])\n",
    "inputs=data.drop(['custcat'],'columns')\n",
    "output=data.drop(['region','tenure','age','income','marital','address','ed','employ','retire','gender','reside'],'columns')\n"
   ]
  },
  {
   "cell_type": "code",
   "execution_count": 11,
   "id": "a44067d3",
   "metadata": {},
   "outputs": [
    {
     "name": "stdout",
     "output_type": "stream",
     "text": [
      "     region    tenure       age    income  marital   address    ed    employ  \\\n",
      "0       0.5  0.169014  0.440678  0.033153        1  0.163636  0.75  0.106383   \n",
      "1       1.0  0.140845  0.254237  0.076552        1  0.127273  1.00  0.106383   \n",
      "2       1.0  0.943662  0.576271  0.064497        1  0.436364  0.00  0.617021   \n",
      "3       0.5  0.450704  0.254237  0.014467        0  0.218182  0.25  0.000000   \n",
      "4       0.5  0.309859  0.203390  0.012658        1  0.163636  0.00  0.042553   \n",
      "..      ...       ...       ...       ...      ...       ...   ...       ...   \n",
      "995     1.0  0.126761  0.355932  0.010850        0  0.000000  0.50  0.000000   \n",
      "996     0.0  0.084507  0.271186  0.007836        0  0.036364  1.00  0.106383   \n",
      "997     1.0  0.929577  0.694915  0.563593        0  0.727273  1.00  0.702128   \n",
      "998     1.0  0.971831  0.525424  0.047016        0  0.327273  0.25  0.468085   \n",
      "999     1.0  0.690141  0.305085  0.018083        1  0.127273  0.50  0.063830   \n",
      "\n",
      "     retire  gender    reside  \n",
      "0         0       0  0.142857  \n",
      "1         0       0  0.714286  \n",
      "2         0       1  0.142857  \n",
      "3         0       1  0.000000  \n",
      "4         0       0  0.428571  \n",
      "..      ...     ...       ...  \n",
      "995       0       1  0.285714  \n",
      "996       0       1  0.000000  \n",
      "997       0       1  0.000000  \n",
      "998       0       1  0.000000  \n",
      "999       0       1  0.285714  \n",
      "\n",
      "[1000 rows x 11 columns]\n"
     ]
    }
   ],
   "source": [
    "print(inputs)"
   ]
  },
  {
   "cell_type": "code",
   "execution_count": 12,
   "id": "01ff7809",
   "metadata": {},
   "outputs": [
    {
     "name": "stdout",
     "output_type": "stream",
     "text": [
      "     custcat\n",
      "0          0\n",
      "1          3\n",
      "2          2\n",
      "3          0\n",
      "4          2\n",
      "..       ...\n",
      "995        0\n",
      "996        0\n",
      "997        3\n",
      "998        2\n",
      "999        1\n",
      "\n",
      "[1000 rows x 1 columns]\n"
     ]
    }
   ],
   "source": [
    "print(output)"
   ]
  },
  {
   "cell_type": "code",
   "execution_count": 13,
   "id": "622c15bf",
   "metadata": {},
   "outputs": [
    {
     "name": "stdout",
     "output_type": "stream",
     "text": [
      "     region    tenure       age    income  marital   address    ed    employ  \\\n",
      "959     1.0  0.704225  0.525424  0.116938        1  0.236364  0.50  0.574468   \n",
      "131     0.5  0.084507  0.288136  0.022905        1  0.000000  0.00  0.297872   \n",
      "523     0.0  0.436620  0.271186  0.013864        1  0.127273  0.25  0.319149   \n",
      "747     1.0  0.619718  0.152542  0.018083        1  0.054545  0.50  0.042553   \n",
      "608     0.0  0.028169  0.220339  0.008439        1  0.072727  0.75  0.085106   \n",
      "..      ...       ...       ...       ...      ...       ...   ...       ...   \n",
      "780     0.5  0.225352  0.355932  0.021700        0  0.218182  0.75  0.212766   \n",
      "930     0.5  0.535211  0.440678  0.246534        1  0.254545  0.75  0.382979   \n",
      "18      0.5  0.000000  0.101695  0.006631        0  0.054545  0.00  0.063830   \n",
      "967     0.0  0.112676  0.305085  0.042194        0  0.018182  0.50  0.234043   \n",
      "913     0.5  0.098592  0.355932  0.018083        0  0.000000  0.00  0.148936   \n",
      "\n",
      "     retire  gender    reside  \n",
      "959       0       0  0.428571  \n",
      "131       0       0  0.571429  \n",
      "523       0       0  0.428571  \n",
      "747       0       0  0.428571  \n",
      "608       0       0  0.571429  \n",
      "..      ...     ...       ...  \n",
      "780       0       1  0.000000  \n",
      "930       0       0  0.142857  \n",
      "18        0       0  0.000000  \n",
      "967       0       1  0.571429  \n",
      "913       0       1  0.000000  \n",
      "\n",
      "[800 rows x 11 columns]\n",
      "     region    tenure       age    income  marital   address    ed    employ  \\\n",
      "43      0.0  0.112676  0.305085  0.031947        1  0.254545  0.75  0.212766   \n",
      "954     0.5  0.084507  0.389831  0.051236        0  0.109091  0.25  0.340426   \n",
      "743     0.0  0.577465  0.406780  0.019289        1  0.163636  0.25  0.276596   \n",
      "226     0.5  0.591549  0.423729  0.027728        1  0.054545  0.75  0.382979   \n",
      "670     1.0  1.000000  0.966102  0.003014        0  0.872727  0.25  0.127660   \n",
      "..      ...       ...       ...       ...      ...       ...   ...       ...   \n",
      "450     0.0  0.633803  0.220339  0.007233        1  0.218182  0.00  0.106383   \n",
      "42      0.5  0.366197  0.169492  0.008439        1  0.072727  0.25  0.170213   \n",
      "655     1.0  0.746479  0.254237  0.022905        0  0.090909  0.25  0.276596   \n",
      "371     1.0  0.549296  0.661017  0.035564        1  0.327273  0.00  0.489362   \n",
      "458     0.5  0.957746  0.762712  0.095841        0  0.509091  0.00  0.914894   \n",
      "\n",
      "     retire  gender    reside  \n",
      "43        0       0  0.714286  \n",
      "954       0       0  0.000000  \n",
      "743       0       0  1.000000  \n",
      "226       0       1  0.428571  \n",
      "670       1       1  0.000000  \n",
      "..      ...     ...       ...  \n",
      "450       0       0  0.571429  \n",
      "42        0       0  0.571429  \n",
      "655       0       1  0.142857  \n",
      "371       0       0  0.142857  \n",
      "458       0       1  0.142857  \n",
      "\n",
      "[200 rows x 11 columns]\n",
      "     custcat\n",
      "959        2\n",
      "131        0\n",
      "523        0\n",
      "747        1\n",
      "608        3\n",
      "..       ...\n",
      "780        0\n",
      "930        3\n",
      "18         0\n",
      "967        2\n",
      "913        0\n",
      "\n",
      "[800 rows x 1 columns]\n",
      "     custcat\n",
      "43         3\n",
      "954        3\n",
      "743        2\n",
      "226        3\n",
      "670        1\n",
      "..       ...\n",
      "450        2\n",
      "42         0\n",
      "655        2\n",
      "371        2\n",
      "458        2\n",
      "\n",
      "[200 rows x 1 columns]\n"
     ]
    }
   ],
   "source": [
    "import sklearn\n",
    "from sklearn.model_selection import train_test_split\n",
    "x_train,x_test,y_train,y_test=train_test_split(inputs,output,test_size=0.2)\n",
    "print(x_train)\n",
    "print(x_test)\n",
    "print(y_train)\n",
    "print(y_test)"
   ]
  },
  {
   "cell_type": "code",
   "execution_count": 14,
   "id": "cf8a8a7f",
   "metadata": {},
   "outputs": [
    {
     "name": "stdout",
     "output_type": "stream",
     "text": [
      "[3 0 1 2 2 0 0 3 2 1 3 2 2 2 0 1 1 0 2 0 0 3 2 0 2 3 2 0 0 2 2 2 2 3 1 0 2\n",
      " 1 1 1 0 3 2 2 3 3 0 3 2 0 0 1 1 2 0 0 0 2 3 2 3 0 0 0 1 3 2 0 0 3 2 2 1 2\n",
      " 2 1 1 3 1 2 0 2 2 0 0 1 0 3 1 0 0 2 0 2 1 0 1 0 2 0 2 0 1 0 1 0 2 2 0 1 2\n",
      " 0 1 1 2 3 3 2 2 1 1 3 3 2 3 2 1 3 0 2 0 0 1 0 2 2 2 0 1 0 2 1 3 0 1 1 2 0\n",
      " 3 1 2 2 3 0 0 1 1 3 2 2 3 0 2 3 1 3 0 1 2 2 1 3 2 0 3 0 1 3 2 2 1 0 1 2 3\n",
      " 1 1 1 0 3 1 1 3 1 0 2 0 2 0 2]\n",
      "     custcat\n",
      "43         3\n",
      "954        3\n",
      "743        2\n",
      "226        3\n",
      "670        1\n",
      "..       ...\n",
      "450        2\n",
      "42         0\n",
      "655        2\n",
      "371        2\n",
      "458        2\n",
      "\n",
      "[200 rows x 1 columns]\n"
     ]
    },
    {
     "name": "stderr",
     "output_type": "stream",
     "text": [
      "C:\\ProgramData\\Anaconda3\\lib\\site-packages\\sklearn\\neighbors\\_classification.py:198: DataConversionWarning: A column-vector y was passed when a 1d array was expected. Please change the shape of y to (n_samples,), for example using ravel().\n",
      "  return self._fit(X, y)\n",
      "C:\\ProgramData\\Anaconda3\\lib\\site-packages\\sklearn\\neighbors\\_classification.py:228: FutureWarning: Unlike other reduction functions (e.g. `skew`, `kurtosis`), the default behavior of `mode` typically preserves the axis it acts along. In SciPy 1.11.0, this behavior will change: the default value of `keepdims` will become False, the `axis` over which the statistic is taken will be eliminated, and the value None will no longer be accepted. Set `keepdims` to True or False to avoid this warning.\n",
      "  mode, _ = stats.mode(_y[neigh_ind, k], axis=1)\n"
     ]
    }
   ],
   "source": [
    "# from sklearn.neighbors import KNeighborsClassifier\n",
    "# model=KNeighborsClassifier(n_neighbors=13)\n",
    "# model.fit(x_train,y_train)\n",
    "# y_pred=model.predict(x_test)\n",
    "# print(y_pred)\n",
    "# print(y_test)\n"
   ]
  },
  {
   "cell_type": "code",
   "execution_count": 15,
   "id": "98b1aa3d",
   "metadata": {},
   "outputs": [
    {
     "name": "stdout",
     "output_type": "stream",
     "text": [
      "[[28  7 18 11]\n",
      " [ 6 14 12 10]\n",
      " [14 17 23  4]\n",
      " [ 9  9  8 10]]\n"
     ]
    }
   ],
   "source": [
    "from sklearn.metrics import confusion_matrix\n",
    "cm=confusion_matrix(y_test,y_pred)\n",
    "print(cm)"
   ]
  },
  {
   "cell_type": "code",
   "execution_count": 16,
   "id": "7e9e26c0",
   "metadata": {},
   "outputs": [
    {
     "name": "stdout",
     "output_type": "stream",
     "text": [
      "accuracy score : 37.5 %\n"
     ]
    }
   ],
   "source": [
    "from sklearn.metrics import accuracy_score\n",
    "print(\"accuracy score :\",accuracy_score(y_test,y_pred)*100,\"%\")"
   ]
  },
  {
   "cell_type": "markdown",
   "id": "c5035c53",
   "metadata": {},
   "source": [
    "# SVM"
   ]
  },
  {
   "cell_type": "code",
   "execution_count": 17,
   "id": "685cbc32",
   "metadata": {},
   "outputs": [],
   "source": [
    "from sklearn.preprocessing import MinMaxScaler\n",
    "scaler=MinMaxScaler()\n",
    "scaler.fit(data[['region']])\n",
    "data['region']=scaler.transform(data[['region']])\n",
    "scaler.fit(data[['tenure']])\n",
    "data['tenure']=scaler.transform(data[['tenure']])\n",
    "scaler.fit(data[['age']])\n",
    "data['age']=scaler.transform(data[['age']])\n",
    "scaler.fit(data[['income']])\n",
    "data['income']=scaler.transform(data[['income']])\n",
    "scaler.fit(data[['address']])\n",
    "data['address']=scaler.transform(data[['address']])\n",
    "scaler.fit(data[['ed']])\n",
    "data['ed']=scaler.transform(data[['ed']])\n",
    "scaler.fit(data[['employ']])\n",
    "data['employ']=scaler.transform(data[['employ']])\n",
    "scaler.fit(data[['reside']])\n",
    "data['reside']=scaler.transform(data[['reside']])\n"
   ]
  },
  {
   "cell_type": "code",
   "execution_count": 18,
   "id": "91818c7a",
   "metadata": {},
   "outputs": [
    {
     "name": "stderr",
     "output_type": "stream",
     "text": [
      "C:\\ProgramData\\Anaconda3\\lib\\site-packages\\sklearn\\preprocessing\\_label.py:115: DataConversionWarning: A column-vector y was passed when a 1d array was expected. Please change the shape of y to (n_samples, ), for example using ravel().\n",
      "  y = column_or_1d(y, warn=True)\n",
      "C:\\Users\\Sriram\\AppData\\Local\\Temp\\ipykernel_17100\\585491344.py:5: FutureWarning: In a future version of pandas all arguments of DataFrame.drop except for the argument 'labels' will be keyword-only.\n",
      "  inputs=data.drop(['custcat'],'columns')\n",
      "C:\\Users\\Sriram\\AppData\\Local\\Temp\\ipykernel_17100\\585491344.py:6: FutureWarning: In a future version of pandas all arguments of DataFrame.drop except for the argument 'labels' will be keyword-only.\n",
      "  output=data.drop(['region','tenure','age','income','marital','address','ed','employ','retire','gender','reside'],'columns')\n"
     ]
    }
   ],
   "source": [
    "import sklearn\n",
    "from sklearn.preprocessing import LabelEncoder\n",
    "le=LabelEncoder()\n",
    "data['custcat']=le.fit_transform(data[['custcat']])\n",
    "inputs=data.drop(['custcat'],'columns')\n",
    "output=data.drop(['region','tenure','age','income','marital','address','ed','employ','retire','gender','reside'],'columns')\n"
   ]
  },
  {
   "cell_type": "code",
   "execution_count": 19,
   "id": "b3e5ecfd",
   "metadata": {},
   "outputs": [
    {
     "name": "stdout",
     "output_type": "stream",
     "text": [
      "     region    tenure       age    income  marital   address    ed    employ  \\\n",
      "0       0.5  0.169014  0.440678  0.033153        1  0.163636  0.75  0.106383   \n",
      "1       1.0  0.140845  0.254237  0.076552        1  0.127273  1.00  0.106383   \n",
      "2       1.0  0.943662  0.576271  0.064497        1  0.436364  0.00  0.617021   \n",
      "3       0.5  0.450704  0.254237  0.014467        0  0.218182  0.25  0.000000   \n",
      "4       0.5  0.309859  0.203390  0.012658        1  0.163636  0.00  0.042553   \n",
      "..      ...       ...       ...       ...      ...       ...   ...       ...   \n",
      "995     1.0  0.126761  0.355932  0.010850        0  0.000000  0.50  0.000000   \n",
      "996     0.0  0.084507  0.271186  0.007836        0  0.036364  1.00  0.106383   \n",
      "997     1.0  0.929577  0.694915  0.563593        0  0.727273  1.00  0.702128   \n",
      "998     1.0  0.971831  0.525424  0.047016        0  0.327273  0.25  0.468085   \n",
      "999     1.0  0.690141  0.305085  0.018083        1  0.127273  0.50  0.063830   \n",
      "\n",
      "     retire  gender    reside  \n",
      "0         0       0  0.142857  \n",
      "1         0       0  0.714286  \n",
      "2         0       1  0.142857  \n",
      "3         0       1  0.000000  \n",
      "4         0       0  0.428571  \n",
      "..      ...     ...       ...  \n",
      "995       0       1  0.285714  \n",
      "996       0       1  0.000000  \n",
      "997       0       1  0.000000  \n",
      "998       0       1  0.000000  \n",
      "999       0       1  0.285714  \n",
      "\n",
      "[1000 rows x 11 columns]\n"
     ]
    }
   ],
   "source": [
    "print(inputs)"
   ]
  },
  {
   "cell_type": "code",
   "execution_count": 20,
   "id": "796bb577",
   "metadata": {},
   "outputs": [
    {
     "name": "stdout",
     "output_type": "stream",
     "text": [
      "     custcat\n",
      "0          0\n",
      "1          3\n",
      "2          2\n",
      "3          0\n",
      "4          2\n",
      "..       ...\n",
      "995        0\n",
      "996        0\n",
      "997        3\n",
      "998        2\n",
      "999        1\n",
      "\n",
      "[1000 rows x 1 columns]\n"
     ]
    }
   ],
   "source": [
    "print(output)"
   ]
  },
  {
   "cell_type": "code",
   "execution_count": 21,
   "id": "2b3cdd13",
   "metadata": {},
   "outputs": [
    {
     "name": "stderr",
     "output_type": "stream",
     "text": [
      "C:\\ProgramData\\Anaconda3\\lib\\site-packages\\sklearn\\utils\\validation.py:993: DataConversionWarning: A column-vector y was passed when a 1d array was expected. Please change the shape of y to (n_samples, ), for example using ravel().\n",
      "  y = column_or_1d(y, warn=True)\n"
     ]
    },
    {
     "data": {
      "text/plain": [
       "SVC()"
      ]
     },
     "execution_count": 21,
     "metadata": {},
     "output_type": "execute_result"
    }
   ],
   "source": [
    "from sklearn.svm import SVC\n",
    "model=SVC()\n",
    "model.fit(x_train,y_train)\n"
   ]
  },
  {
   "cell_type": "code",
   "execution_count": 22,
   "id": "be0f880a",
   "metadata": {},
   "outputs": [
    {
     "name": "stdout",
     "output_type": "stream",
     "text": [
      "[[28  7 18 11]\n",
      " [ 6 14 12 10]\n",
      " [14 17 23  4]\n",
      " [ 9  9  8 10]]\n"
     ]
    }
   ],
   "source": [
    "from sklearn.metrics import confusion_matrix\n",
    "cm=confusion_matrix(y_test,y_pred)\n",
    "print(cm)"
   ]
  },
  {
   "cell_type": "code",
   "execution_count": 23,
   "id": "fea550d8",
   "metadata": {},
   "outputs": [
    {
     "name": "stdout",
     "output_type": "stream",
     "text": [
      "accuracy score : 37.5 %\n"
     ]
    }
   ],
   "source": [
    "from sklearn.metrics import accuracy_score\n",
    "print(\"accuracy score :\",accuracy_score(y_test,y_pred)*100,\"%\")"
   ]
  },
  {
   "cell_type": "code",
   "execution_count": 24,
   "id": "dcf46e18",
   "metadata": {},
   "outputs": [
    {
     "name": "stdout",
     "output_type": "stream",
     "text": [
      "3\n"
     ]
    },
    {
     "name": "stderr",
     "output_type": "stream",
     "text": [
      "C:\\ProgramData\\Anaconda3\\lib\\site-packages\\sklearn\\base.py:450: UserWarning: X does not have valid feature names, but SVC was fitted with feature names\n",
      "  warnings.warn(\n"
     ]
    }
   ],
   "source": [
    "res=model.predict([[ 0.5,0.169014,0.440678,0.033153,1,0.163636,0.75,0.106383,0,0,0.142857]])\n",
    "print(res[0])"
   ]
  },
  {
   "cell_type": "code",
   "execution_count": 25,
   "id": "12cb0924",
   "metadata": {},
   "outputs": [],
   "source": [
    "from sklearn.preprocessing import StandardScaler\n",
    "scaler=StandardScaler()\n",
    "scaler.fit(data[['region']])\n",
    "data['region']=scaler.transform(data[['region']])\n",
    "scaler.fit(data[['tenure']])\n",
    "data['tenure']=scaler.transform(data[['tenure']])\n",
    "scaler.fit(data[['age']])\n",
    "data['age']=scaler.transform(data[['age']])\n",
    "scaler.fit(data[['income']])\n",
    "data['income']=scaler.transform(data[['income']])\n",
    "scaler.fit(data[['address']])\n",
    "data['address']=scaler.transform(data[['address']])\n",
    "scaler.fit(data[['ed']])\n",
    "data['ed']=scaler.transform(data[['ed']])\n",
    "scaler.fit(data[['employ']])\n",
    "data['employ']=scaler.transform(data[['employ']])\n",
    "scaler.fit(data[['reside']])\n",
    "data['reside']=scaler.transform(data[['reside']])"
   ]
  },
  {
   "cell_type": "code",
   "execution_count": 26,
   "id": "cfc2a508",
   "metadata": {},
   "outputs": [
    {
     "name": "stderr",
     "output_type": "stream",
     "text": [
      "C:\\ProgramData\\Anaconda3\\lib\\site-packages\\sklearn\\preprocessing\\_label.py:115: DataConversionWarning: A column-vector y was passed when a 1d array was expected. Please change the shape of y to (n_samples, ), for example using ravel().\n",
      "  y = column_or_1d(y, warn=True)\n",
      "C:\\Users\\Sriram\\AppData\\Local\\Temp\\ipykernel_17100\\585491344.py:5: FutureWarning: In a future version of pandas all arguments of DataFrame.drop except for the argument 'labels' will be keyword-only.\n",
      "  inputs=data.drop(['custcat'],'columns')\n",
      "C:\\Users\\Sriram\\AppData\\Local\\Temp\\ipykernel_17100\\585491344.py:6: FutureWarning: In a future version of pandas all arguments of DataFrame.drop except for the argument 'labels' will be keyword-only.\n",
      "  output=data.drop(['region','tenure','age','income','marital','address','ed','employ','retire','gender','reside'],'columns')\n"
     ]
    }
   ],
   "source": [
    "import sklearn\n",
    "from sklearn.preprocessing import LabelEncoder\n",
    "le=LabelEncoder()\n",
    "data['custcat']=le.fit_transform(data[['custcat']])\n",
    "inputs=data.drop(['custcat'],'columns')\n",
    "output=data.drop(['region','tenure','age','income','marital','address','ed','employ','retire','gender','reside'],'columns')\n"
   ]
  },
  {
   "cell_type": "code",
   "execution_count": 27,
   "id": "deeaa09d",
   "metadata": {},
   "outputs": [
    {
     "name": "stdout",
     "output_type": "stream",
     "text": [
      "       region    tenure       age    income  marital   address        ed  \\\n",
      "0   -0.026968 -1.055125  0.184505 -0.126506        1 -0.253034  1.087753   \n",
      "1    1.198836 -1.148806 -0.691812  0.546450        1 -0.451415  1.906227   \n",
      "2    1.198836  1.521092  0.821826  0.359517        1  1.234819 -1.367671   \n",
      "3   -0.026968 -0.118319 -0.691812 -0.416251        0  0.044536 -0.549196   \n",
      "4   -0.026968 -0.586722 -0.930808 -0.444291        1 -0.253034 -1.367671   \n",
      "..        ...       ...       ...       ...      ...       ...       ...   \n",
      "995  1.198836 -1.195646 -0.213821 -0.472331        0 -1.145747  0.269278   \n",
      "996 -1.252771 -1.336167 -0.612147 -0.519064        0 -0.947366  1.906227   \n",
      "997  1.198836  1.474252  1.379482  8.098513        0  2.821863  1.906227   \n",
      "998  1.198836  1.614773  0.582830  0.088466        0  0.639678 -0.549196   \n",
      "999  1.198836  0.677967 -0.452817 -0.360172        1 -0.451415  0.269278   \n",
      "\n",
      "       employ  retire  gender    reside  \n",
      "0   -0.594123       0       0 -0.230650  \n",
      "1   -0.594123       0       0  2.556662  \n",
      "2    1.787528       0       1 -0.230650  \n",
      "3   -1.090300       0       1 -0.927478  \n",
      "4   -0.891829       0       0  1.163006  \n",
      "..        ...     ...     ...       ...  \n",
      "995 -1.090300       0       1  0.466178  \n",
      "996 -0.594123       0       1 -0.927478  \n",
      "997  2.184470       0       1 -0.927478  \n",
      "998  1.092880       0       1 -0.927478  \n",
      "999 -0.792593       0       1  0.466178  \n",
      "\n",
      "[1000 rows x 11 columns]\n"
     ]
    }
   ],
   "source": [
    "print(inputs)"
   ]
  },
  {
   "cell_type": "code",
   "execution_count": 28,
   "id": "9e5a9aae",
   "metadata": {},
   "outputs": [
    {
     "name": "stdout",
     "output_type": "stream",
     "text": [
      "     custcat\n",
      "0          0\n",
      "1          3\n",
      "2          2\n",
      "3          0\n",
      "4          2\n",
      "..       ...\n",
      "995        0\n",
      "996        0\n",
      "997        3\n",
      "998        2\n",
      "999        1\n",
      "\n",
      "[1000 rows x 1 columns]\n"
     ]
    }
   ],
   "source": [
    "print(output)"
   ]
  },
  {
   "cell_type": "code",
   "execution_count": 29,
   "id": "119317fd",
   "metadata": {},
   "outputs": [
    {
     "name": "stdout",
     "output_type": "stream",
     "text": [
      "[3 0 2 3 2 0 2 3 3 2 3 2 2 2 0 1 3 0 2 0 0 0 3 3 2 0 2 3 0 0 0 2 2 3 3 0 2\n",
      " 3 1 0 2 3 1 2 3 3 0 3 2 0 2 1 0 3 0 0 0 2 3 2 3 2 2 0 3 3 2 2 2 3 2 2 0 2\n",
      " 2 3 1 2 1 2 0 3 2 2 0 1 2 3 2 0 0 2 0 2 2 2 3 0 2 2 2 0 1 0 1 2 2 2 0 2 2\n",
      " 0 1 2 2 2 3 2 2 3 1 3 3 2 3 2 1 3 0 2 0 3 3 0 2 2 2 0 2 0 2 3 3 0 3 3 2 0\n",
      " 3 3 0 2 2 0 2 2 1 3 2 2 3 0 2 3 3 3 0 2 2 2 1 0 2 2 3 0 2 3 2 2 2 0 3 2 3\n",
      " 1 1 1 0 3 3 0 3 3 0 2 2 2 2 2]\n",
      "     custcat\n",
      "43         3\n",
      "954        3\n",
      "743        2\n",
      "226        3\n",
      "670        1\n",
      "..       ...\n",
      "450        2\n",
      "42         0\n",
      "655        2\n",
      "371        2\n",
      "458        2\n",
      "\n",
      "[200 rows x 1 columns]\n"
     ]
    },
    {
     "name": "stderr",
     "output_type": "stream",
     "text": [
      "C:\\ProgramData\\Anaconda3\\lib\\site-packages\\sklearn\\utils\\validation.py:993: DataConversionWarning: A column-vector y was passed when a 1d array was expected. Please change the shape of y to (n_samples, ), for example using ravel().\n",
      "  y = column_or_1d(y, warn=True)\n"
     ]
    }
   ],
   "source": [
    "# from sklearn.svm import SVC\n",
    "# model=SVC()\n",
    "# model.fit(x_train,y_train)\n",
    "# y_pred=model.predict(x_test)\n",
    "# print(y_pred)\n",
    "# print(y_test)"
   ]
  },
  {
   "cell_type": "code",
   "execution_count": 30,
   "id": "776771ac",
   "metadata": {},
   "outputs": [
    {
     "name": "stdout",
     "output_type": "stream",
     "text": [
      "[[26  4 23 11]\n",
      " [ 5  6 14 17]\n",
      " [12  4 35  7]\n",
      " [ 5  3 10 18]]\n"
     ]
    }
   ],
   "source": [
    "from sklearn.metrics import confusion_matrix\n",
    "cm=confusion_matrix(y_test,y_pred)\n",
    "print(cm)"
   ]
  },
  {
   "cell_type": "code",
   "execution_count": 31,
   "id": "58e0a538",
   "metadata": {},
   "outputs": [
    {
     "name": "stdout",
     "output_type": "stream",
     "text": [
      "accuracy score : 42.5 %\n"
     ]
    }
   ],
   "source": [
    "from sklearn.metrics import accuracy_score\n",
    "print(\"accuracy score :\",accuracy_score(y_test,y_pred)*100,\"%\")"
   ]
  },
  {
   "cell_type": "markdown",
   "id": "556865c7",
   "metadata": {},
   "source": [
    "# Random forest\n"
   ]
  },
  {
   "cell_type": "code",
   "execution_count": 32,
   "id": "7d40b7e0",
   "metadata": {},
   "outputs": [],
   "source": [
    "from sklearn.preprocessing import MinMaxScaler\n",
    "scaler=MinMaxScaler()\n",
    "scaler.fit(data[['region']])\n",
    "data['region']=scaler.transform(data[['region']])\n",
    "scaler.fit(data[['tenure']])\n",
    "data['tenure']=scaler.transform(data[['tenure']])\n",
    "scaler.fit(data[['age']])\n",
    "data['age']=scaler.transform(data[['age']])\n",
    "scaler.fit(data[['income']])\n",
    "data['income']=scaler.transform(data[['income']])\n",
    "scaler.fit(data[['address']])\n",
    "data['address']=scaler.transform(data[['address']])\n",
    "scaler.fit(data[['ed']])\n",
    "data['ed']=scaler.transform(data[['ed']])\n",
    "scaler.fit(data[['employ']])\n",
    "data['employ']=scaler.transform(data[['employ']])\n",
    "scaler.fit(data[['reside']])\n",
    "data['reside']=scaler.transform(data[['reside']])"
   ]
  },
  {
   "cell_type": "code",
   "execution_count": 33,
   "id": "edc789dd",
   "metadata": {},
   "outputs": [
    {
     "name": "stderr",
     "output_type": "stream",
     "text": [
      "C:\\ProgramData\\Anaconda3\\lib\\site-packages\\sklearn\\preprocessing\\_label.py:115: DataConversionWarning: A column-vector y was passed when a 1d array was expected. Please change the shape of y to (n_samples, ), for example using ravel().\n",
      "  y = column_or_1d(y, warn=True)\n",
      "C:\\Users\\Sriram\\AppData\\Local\\Temp\\ipykernel_17100\\585491344.py:5: FutureWarning: In a future version of pandas all arguments of DataFrame.drop except for the argument 'labels' will be keyword-only.\n",
      "  inputs=data.drop(['custcat'],'columns')\n",
      "C:\\Users\\Sriram\\AppData\\Local\\Temp\\ipykernel_17100\\585491344.py:6: FutureWarning: In a future version of pandas all arguments of DataFrame.drop except for the argument 'labels' will be keyword-only.\n",
      "  output=data.drop(['region','tenure','age','income','marital','address','ed','employ','retire','gender','reside'],'columns')\n"
     ]
    }
   ],
   "source": [
    "import sklearn\n",
    "from sklearn.preprocessing import LabelEncoder\n",
    "le=LabelEncoder()\n",
    "data['custcat']=le.fit_transform(data[['custcat']])\n",
    "inputs=data.drop(['custcat'],'columns')\n",
    "output=data.drop(['region','tenure','age','income','marital','address','ed','employ','retire','gender','reside'],'columns')\n"
   ]
  },
  {
   "cell_type": "code",
   "execution_count": 34,
   "id": "3abab13d",
   "metadata": {},
   "outputs": [
    {
     "name": "stdout",
     "output_type": "stream",
     "text": [
      "     region    tenure       age    income  marital   address    ed    employ  \\\n",
      "0       0.5  0.169014  0.440678  0.033153        1  0.163636  0.75  0.106383   \n",
      "1       1.0  0.140845  0.254237  0.076552        1  0.127273  1.00  0.106383   \n",
      "2       1.0  0.943662  0.576271  0.064497        1  0.436364  0.00  0.617021   \n",
      "3       0.5  0.450704  0.254237  0.014467        0  0.218182  0.25  0.000000   \n",
      "4       0.5  0.309859  0.203390  0.012658        1  0.163636  0.00  0.042553   \n",
      "..      ...       ...       ...       ...      ...       ...   ...       ...   \n",
      "995     1.0  0.126761  0.355932  0.010850        0  0.000000  0.50  0.000000   \n",
      "996     0.0  0.084507  0.271186  0.007836        0  0.036364  1.00  0.106383   \n",
      "997     1.0  0.929577  0.694915  0.563593        0  0.727273  1.00  0.702128   \n",
      "998     1.0  0.971831  0.525424  0.047016        0  0.327273  0.25  0.468085   \n",
      "999     1.0  0.690141  0.305085  0.018083        1  0.127273  0.50  0.063830   \n",
      "\n",
      "     retire  gender    reside  \n",
      "0         0       0  0.142857  \n",
      "1         0       0  0.714286  \n",
      "2         0       1  0.142857  \n",
      "3         0       1  0.000000  \n",
      "4         0       0  0.428571  \n",
      "..      ...     ...       ...  \n",
      "995       0       1  0.285714  \n",
      "996       0       1  0.000000  \n",
      "997       0       1  0.000000  \n",
      "998       0       1  0.000000  \n",
      "999       0       1  0.285714  \n",
      "\n",
      "[1000 rows x 11 columns]\n"
     ]
    }
   ],
   "source": [
    "print(inputs)"
   ]
  },
  {
   "cell_type": "code",
   "execution_count": 35,
   "id": "a33e28d9",
   "metadata": {},
   "outputs": [
    {
     "name": "stdout",
     "output_type": "stream",
     "text": [
      "     custcat\n",
      "0          0\n",
      "1          3\n",
      "2          2\n",
      "3          0\n",
      "4          2\n",
      "..       ...\n",
      "995        0\n",
      "996        0\n",
      "997        3\n",
      "998        2\n",
      "999        1\n",
      "\n",
      "[1000 rows x 1 columns]\n"
     ]
    }
   ],
   "source": [
    "print(output)"
   ]
  },
  {
   "cell_type": "code",
   "execution_count": 36,
   "id": "bec4fd7a",
   "metadata": {},
   "outputs": [
    {
     "name": "stderr",
     "output_type": "stream",
     "text": [
      "C:\\Users\\Sriram\\AppData\\Local\\Temp\\ipykernel_17100\\577395312.py:6: DataConversionWarning: A column-vector y was passed when a 1d array was expected. Please change the shape of y to (n_samples,), for example using ravel().\n",
      "  model.fit(x_train,y_train)\n"
     ]
    },
    {
     "name": "stdout",
     "output_type": "stream",
     "text": [
      "[2 0 0 1 0 0 2 0 2 3 0 3 0 2 0 2 0 1 1 0 0 1 3 3 0 0 2 2 1 0 3 2 3 2 2 2 0\n",
      " 2 0 3 2 0 0 2 1 2 2 1 2 0 2 0 3 2 2 0 0 3 2 0 2 0 0 2 2 0 0 0 1 1 3 2 0 2\n",
      " 0 0 2 0 0 2 0 3 1 3 2 1 2 2 1 3 2 1 2 0 0 3 1 0 2 1 0 3 3 2 3 0 0 0 0 0 2\n",
      " 2 1 2 1 3 0 2 2 2 1 3 0 0 0 2 1 0 0 1 2 1 2 0 0 3 1 0 0 2 0 1 1 0 3 3 2 0\n",
      " 0 0 3 0 2 2 0 1 2 1 1 1 0 1 3 2 0 3 1 3 2 3 3 3 2 0 0 2 0 0 3 3 2 2 1 0 0\n",
      " 2 2 2 2 3 0 0 2 1 0 0 0 2 0 3]\n"
     ]
    }
   ],
   "source": [
    "# import sklearn\n",
    "# from sklearn.model_selection import train_test_split\n",
    "# x_train,x_test,y_train,y_test=train_test_split(inputs,output,test_size=0.2)\n",
    "# from sklearn.ensemble import RandomForestClassifier\n",
    "# model=RandomForestClassifier(n_estimators=300) #no of decision trees\n",
    "# model.fit(x_train,y_train)\n",
    "# y_pred=model.predict(x_test)\n",
    "# print(y_pred)"
   ]
  },
  {
   "cell_type": "code",
   "execution_count": 37,
   "id": "8267173a",
   "metadata": {},
   "outputs": [
    {
     "name": "stdout",
     "output_type": "stream",
     "text": [
      "[[27  4 14  7]\n",
      " [14  9 10  8]\n",
      " [20  7 24  3]\n",
      " [13 12 13 15]]\n"
     ]
    }
   ],
   "source": [
    "from sklearn.metrics import confusion_matrix\n",
    "cm=confusion_matrix(y_test,y_pred)\n",
    "print(cm)"
   ]
  },
  {
   "cell_type": "code",
   "execution_count": 38,
   "id": "a3a538c3",
   "metadata": {},
   "outputs": [
    {
     "name": "stdout",
     "output_type": "stream",
     "text": [
      "accuracy score : 37.5 %\n"
     ]
    }
   ],
   "source": [
    "from sklearn.metrics import accuracy_score\n",
    "print(\"accuracy score :\",accuracy_score(y_test,y_pred)*100,\"%\")"
   ]
  },
  {
   "cell_type": "code",
   "execution_count": 39,
   "id": "6f3a99bd",
   "metadata": {},
   "outputs": [],
   "source": [
    "from sklearn.preprocessing import StandardScaler\n",
    "scaler=StandardScaler()\n",
    "scaler.fit(data[['region']])\n",
    "data['region']=scaler.transform(data[['region']])\n",
    "scaler.fit(data[['tenure']])\n",
    "data['tenure']=scaler.transform(data[['tenure']])\n",
    "scaler.fit(data[['age']])\n",
    "data['age']=scaler.transform(data[['age']])\n",
    "scaler.fit(data[['income']])\n",
    "data['income']=scaler.transform(data[['income']])\n",
    "scaler.fit(data[['address']])\n",
    "data['address']=scaler.transform(data[['address']])\n",
    "scaler.fit(data[['ed']])\n",
    "data['ed']=scaler.transform(data[['ed']])\n",
    "scaler.fit(data[['employ']])\n",
    "data['employ']=scaler.transform(data[['employ']])\n",
    "scaler.fit(data[['reside']])\n",
    "data['reside']=scaler.transform(data[['reside']])"
   ]
  },
  {
   "cell_type": "code",
   "execution_count": 40,
   "id": "f3a8dc02",
   "metadata": {},
   "outputs": [
    {
     "name": "stderr",
     "output_type": "stream",
     "text": [
      "C:\\ProgramData\\Anaconda3\\lib\\site-packages\\sklearn\\preprocessing\\_label.py:115: DataConversionWarning: A column-vector y was passed when a 1d array was expected. Please change the shape of y to (n_samples, ), for example using ravel().\n",
      "  y = column_or_1d(y, warn=True)\n",
      "C:\\Users\\Sriram\\AppData\\Local\\Temp\\ipykernel_17100\\585491344.py:5: FutureWarning: In a future version of pandas all arguments of DataFrame.drop except for the argument 'labels' will be keyword-only.\n",
      "  inputs=data.drop(['custcat'],'columns')\n",
      "C:\\Users\\Sriram\\AppData\\Local\\Temp\\ipykernel_17100\\585491344.py:6: FutureWarning: In a future version of pandas all arguments of DataFrame.drop except for the argument 'labels' will be keyword-only.\n",
      "  output=data.drop(['region','tenure','age','income','marital','address','ed','employ','retire','gender','reside'],'columns')\n"
     ]
    }
   ],
   "source": [
    "import sklearn\n",
    "from sklearn.preprocessing import LabelEncoder\n",
    "le=LabelEncoder()\n",
    "data['custcat']=le.fit_transform(data[['custcat']])\n",
    "inputs=data.drop(['custcat'],'columns')\n",
    "output=data.drop(['region','tenure','age','income','marital','address','ed','employ','retire','gender','reside'],'columns')\n"
   ]
  },
  {
   "cell_type": "code",
   "execution_count": 41,
   "id": "380dd6df",
   "metadata": {},
   "outputs": [
    {
     "name": "stdout",
     "output_type": "stream",
     "text": [
      "       region    tenure       age    income  marital   address        ed  \\\n",
      "0   -0.026968 -1.055125  0.184505 -0.126506        1 -0.253034  1.087753   \n",
      "1    1.198836 -1.148806 -0.691812  0.546450        1 -0.451415  1.906227   \n",
      "2    1.198836  1.521092  0.821826  0.359517        1  1.234819 -1.367671   \n",
      "3   -0.026968 -0.118319 -0.691812 -0.416251        0  0.044536 -0.549196   \n",
      "4   -0.026968 -0.586722 -0.930808 -0.444291        1 -0.253034 -1.367671   \n",
      "..        ...       ...       ...       ...      ...       ...       ...   \n",
      "995  1.198836 -1.195646 -0.213821 -0.472331        0 -1.145747  0.269278   \n",
      "996 -1.252771 -1.336167 -0.612147 -0.519064        0 -0.947366  1.906227   \n",
      "997  1.198836  1.474252  1.379482  8.098513        0  2.821863  1.906227   \n",
      "998  1.198836  1.614773  0.582830  0.088466        0  0.639678 -0.549196   \n",
      "999  1.198836  0.677967 -0.452817 -0.360172        1 -0.451415  0.269278   \n",
      "\n",
      "       employ  retire  gender    reside  \n",
      "0   -0.594123       0       0 -0.230650  \n",
      "1   -0.594123       0       0  2.556662  \n",
      "2    1.787528       0       1 -0.230650  \n",
      "3   -1.090300       0       1 -0.927478  \n",
      "4   -0.891829       0       0  1.163006  \n",
      "..        ...     ...     ...       ...  \n",
      "995 -1.090300       0       1  0.466178  \n",
      "996 -0.594123       0       1 -0.927478  \n",
      "997  2.184470       0       1 -0.927478  \n",
      "998  1.092880       0       1 -0.927478  \n",
      "999 -0.792593       0       1  0.466178  \n",
      "\n",
      "[1000 rows x 11 columns]\n"
     ]
    }
   ],
   "source": [
    "print(inputs)"
   ]
  },
  {
   "cell_type": "code",
   "execution_count": 42,
   "id": "ce839e83",
   "metadata": {},
   "outputs": [
    {
     "name": "stdout",
     "output_type": "stream",
     "text": [
      "     custcat\n",
      "0          0\n",
      "1          3\n",
      "2          2\n",
      "3          0\n",
      "4          2\n",
      "..       ...\n",
      "995        0\n",
      "996        0\n",
      "997        3\n",
      "998        2\n",
      "999        1\n",
      "\n",
      "[1000 rows x 1 columns]\n"
     ]
    }
   ],
   "source": [
    "print(output)"
   ]
  },
  {
   "cell_type": "code",
   "execution_count": 43,
   "id": "98f9e199",
   "metadata": {},
   "outputs": [
    {
     "name": "stderr",
     "output_type": "stream",
     "text": [
      "C:\\Users\\Sriram\\AppData\\Local\\Temp\\ipykernel_17100\\577395312.py:6: DataConversionWarning: A column-vector y was passed when a 1d array was expected. Please change the shape of y to (n_samples,), for example using ravel().\n",
      "  model.fit(x_train,y_train)\n"
     ]
    },
    {
     "name": "stdout",
     "output_type": "stream",
     "text": [
      "[0 3 0 1 2 2 0 2 2 0 0 3 1 1 2 2 1 1 3 2 2 1 0 0 3 1 3 2 3 1 2 2 2 2 0 0 3\n",
      " 3 2 0 0 1 0 0 3 2 0 2 3 2 3 2 2 0 2 1 3 3 1 1 2 0 3 2 1 3 2 1 3 1 2 3 3 3\n",
      " 0 1 1 1 3 3 1 3 1 1 1 2 0 1 3 2 2 1 1 3 0 3 0 0 2 2 3 3 2 2 2 1 2 1 2 0 1\n",
      " 1 2 2 3 0 0 2 1 3 0 0 2 2 3 3 0 3 3 2 3 3 2 3 1 2 3 2 0 1 3 1 2 0 3 0 2 3\n",
      " 2 2 0 3 0 0 0 1 3 2 2 3 0 0 1 2 2 2 0 0 2 0 1 3 0 0 3 3 0 3 2 0 3 2 2 0 0\n",
      " 3 2 1 0 1 1 2 0 2 2 3 2 2 1 3]\n"
     ]
    }
   ],
   "source": [
    "# import sklearn\n",
    "# from sklearn.model_selection import train_test_split\n",
    "# x_train,x_test,y_train,y_test=train_test_split(inputs,output,test_size=0.2)\n",
    "# from sklearn.ensemble import RandomForestClassifier\n",
    "# model=RandomForestClassifier(n_estimators=300) #no of decision trees\n",
    "# model.fit(x_train,y_train)\n",
    "# y_pred=model.predict(x_test)\n",
    "# print(y_pred)"
   ]
  },
  {
   "cell_type": "code",
   "execution_count": 44,
   "id": "a27387a6",
   "metadata": {},
   "outputs": [
    {
     "name": "stdout",
     "output_type": "stream",
     "text": [
      "[[20  8 25  9]\n",
      " [ 6 13 10  8]\n",
      " [11 11 19 15]\n",
      " [10  8  8 19]]\n"
     ]
    }
   ],
   "source": [
    "from sklearn.metrics import confusion_matrix\n",
    "cm=confusion_matrix(y_test,y_pred)\n",
    "print(cm)"
   ]
  },
  {
   "cell_type": "code",
   "execution_count": 45,
   "id": "106ba2ec",
   "metadata": {},
   "outputs": [
    {
     "name": "stdout",
     "output_type": "stream",
     "text": [
      "accuracy score : 35.5 %\n"
     ]
    }
   ],
   "source": [
    "from sklearn.metrics import accuracy_score\n",
    "print(\"accuracy score :\",accuracy_score(y_test,y_pred)*100,\"%\")"
   ]
  },
  {
   "cell_type": "markdown",
   "id": "147f7210",
   "metadata": {},
   "source": [
    "# Decision Tree"
   ]
  },
  {
   "cell_type": "code",
   "execution_count": 46,
   "id": "4e1320ca",
   "metadata": {},
   "outputs": [],
   "source": [
    "from sklearn.preprocessing import StandardScaler\n",
    "scaler=StandardScaler()\n",
    "scaler.fit(data[['region']])\n",
    "data['region']=scaler.transform(data[['region']])\n",
    "scaler.fit(data[['tenure']])\n",
    "data['tenure']=scaler.transform(data[['tenure']])\n",
    "scaler.fit(data[['age']])\n",
    "data['age']=scaler.transform(data[['age']])\n",
    "scaler.fit(data[['income']])\n",
    "data['income']=scaler.transform(data[['income']])\n",
    "scaler.fit(data[['address']])\n",
    "data['address']=scaler.transform(data[['address']])\n",
    "scaler.fit(data[['ed']])\n",
    "data['ed']=scaler.transform(data[['ed']])\n",
    "scaler.fit(data[['employ']])\n",
    "data['employ']=scaler.transform(data[['employ']])\n",
    "scaler.fit(data[['reside']])\n",
    "data['reside']=scaler.transform(data[['reside']])"
   ]
  },
  {
   "cell_type": "code",
   "execution_count": 47,
   "id": "2a1b95da",
   "metadata": {},
   "outputs": [
    {
     "name": "stderr",
     "output_type": "stream",
     "text": [
      "C:\\ProgramData\\Anaconda3\\lib\\site-packages\\sklearn\\preprocessing\\_label.py:115: DataConversionWarning: A column-vector y was passed when a 1d array was expected. Please change the shape of y to (n_samples, ), for example using ravel().\n",
      "  y = column_or_1d(y, warn=True)\n",
      "C:\\Users\\Sriram\\AppData\\Local\\Temp\\ipykernel_17100\\585491344.py:5: FutureWarning: In a future version of pandas all arguments of DataFrame.drop except for the argument 'labels' will be keyword-only.\n",
      "  inputs=data.drop(['custcat'],'columns')\n",
      "C:\\Users\\Sriram\\AppData\\Local\\Temp\\ipykernel_17100\\585491344.py:6: FutureWarning: In a future version of pandas all arguments of DataFrame.drop except for the argument 'labels' will be keyword-only.\n",
      "  output=data.drop(['region','tenure','age','income','marital','address','ed','employ','retire','gender','reside'],'columns')\n"
     ]
    }
   ],
   "source": [
    "import sklearn\n",
    "from sklearn.preprocessing import LabelEncoder\n",
    "le=LabelEncoder()\n",
    "data['custcat']=le.fit_transform(data[['custcat']])\n",
    "inputs=data.drop(['custcat'],'columns')\n",
    "output=data.drop(['region','tenure','age','income','marital','address','ed','employ','retire','gender','reside'],'columns')\n"
   ]
  },
  {
   "cell_type": "code",
   "execution_count": 48,
   "id": "8b6fc5c6",
   "metadata": {},
   "outputs": [
    {
     "name": "stdout",
     "output_type": "stream",
     "text": [
      "       region    tenure       age    income  marital   address        ed  \\\n",
      "0   -0.026968 -1.055125  0.184505 -0.126506        1 -0.253034  1.087753   \n",
      "1    1.198836 -1.148806 -0.691812  0.546450        1 -0.451415  1.906227   \n",
      "2    1.198836  1.521092  0.821826  0.359517        1  1.234819 -1.367671   \n",
      "3   -0.026968 -0.118319 -0.691812 -0.416251        0  0.044536 -0.549196   \n",
      "4   -0.026968 -0.586722 -0.930808 -0.444291        1 -0.253034 -1.367671   \n",
      "..        ...       ...       ...       ...      ...       ...       ...   \n",
      "995  1.198836 -1.195646 -0.213821 -0.472331        0 -1.145747  0.269278   \n",
      "996 -1.252771 -1.336167 -0.612147 -0.519064        0 -0.947366  1.906227   \n",
      "997  1.198836  1.474252  1.379482  8.098513        0  2.821863  1.906227   \n",
      "998  1.198836  1.614773  0.582830  0.088466        0  0.639678 -0.549196   \n",
      "999  1.198836  0.677967 -0.452817 -0.360172        1 -0.451415  0.269278   \n",
      "\n",
      "       employ  retire  gender    reside  \n",
      "0   -0.594123       0       0 -0.230650  \n",
      "1   -0.594123       0       0  2.556662  \n",
      "2    1.787528       0       1 -0.230650  \n",
      "3   -1.090300       0       1 -0.927478  \n",
      "4   -0.891829       0       0  1.163006  \n",
      "..        ...     ...     ...       ...  \n",
      "995 -1.090300       0       1  0.466178  \n",
      "996 -0.594123       0       1 -0.927478  \n",
      "997  2.184470       0       1 -0.927478  \n",
      "998  1.092880       0       1 -0.927478  \n",
      "999 -0.792593       0       1  0.466178  \n",
      "\n",
      "[1000 rows x 11 columns]\n"
     ]
    }
   ],
   "source": [
    "print(inputs)"
   ]
  },
  {
   "cell_type": "code",
   "execution_count": 49,
   "id": "f4ee0ed2",
   "metadata": {},
   "outputs": [
    {
     "name": "stdout",
     "output_type": "stream",
     "text": [
      "     custcat\n",
      "0          0\n",
      "1          3\n",
      "2          2\n",
      "3          0\n",
      "4          2\n",
      "..       ...\n",
      "995        0\n",
      "996        0\n",
      "997        3\n",
      "998        2\n",
      "999        1\n",
      "\n",
      "[1000 rows x 1 columns]\n"
     ]
    }
   ],
   "source": [
    "print(output)"
   ]
  },
  {
   "cell_type": "code",
   "execution_count": 50,
   "id": "7818f5d7",
   "metadata": {},
   "outputs": [
    {
     "name": "stderr",
     "output_type": "stream",
     "text": [
      "C:\\Users\\Sriram\\AppData\\Local\\Temp\\ipykernel_17100\\334136168.py:3: DataConversionWarning: A column-vector y was passed when a 1d array was expected. Please change the shape of y to (n_samples,), for example using ravel().\n",
      "  model.fit(x_train,y_train)\n"
     ]
    },
    {
     "name": "stdout",
     "output_type": "stream",
     "text": [
      "[0 3 0 1 2 2 0 3 2 0 0 3 1 1 2 2 1 1 3 2 2 1 0 0 3 1 3 2 3 1 2 3 2 2 0 0 2\n",
      " 3 2 0 0 1 0 0 3 2 0 2 3 2 3 0 2 0 2 0 3 2 1 1 2 0 3 2 1 3 0 3 3 1 2 3 0 3\n",
      " 0 1 1 1 3 3 2 3 3 0 1 2 0 1 3 2 2 3 1 3 0 3 3 0 2 2 3 3 2 2 1 1 2 1 2 0 1\n",
      " 1 2 2 3 0 0 2 1 3 0 0 2 2 2 3 0 3 1 2 2 3 2 3 1 2 3 1 0 1 3 1 2 0 1 0 2 3\n",
      " 2 2 0 1 0 0 2 1 3 2 2 3 0 0 1 2 2 2 0 0 2 0 1 3 0 0 3 3 0 3 3 0 1 2 2 1 1\n",
      " 3 2 1 0 1 1 2 0 2 2 3 2 2 3 3]\n",
      "0\n"
     ]
    },
    {
     "name": "stderr",
     "output_type": "stream",
     "text": [
      "C:\\ProgramData\\Anaconda3\\lib\\site-packages\\sklearn\\base.py:450: UserWarning: X does not have valid feature names, but DecisionTreeClassifier was fitted with feature names\n",
      "  warnings.warn(\n"
     ]
    }
   ],
   "source": [
    "# import sklearn\n",
    "# from sklearn.model_selection import train_test_split\n",
    "# model.fit(x_train,y_train)\n",
    "# y_pred=model.predict(x_test)\n",
    "# print(y_pred)\n",
    "# from sklearn import tree\n",
    "# model=tree.DecisionTreeClassifier()\n",
    "# model.fit(inputs,output)\n",
    "# res=model.predict([[-0.026968,-1.055125,0.184505,-0.126506,1,-0.253034,1.087753,-0.594123,0,0,-0.230650 ]])\n",
    "# print(res[0])"
   ]
  },
  {
   "cell_type": "code",
   "execution_count": 51,
   "id": "c2a741f8",
   "metadata": {},
   "outputs": [
    {
     "name": "stdout",
     "output_type": "stream",
     "text": [
      "[[21  5 26 10]\n",
      " [ 5 13  9 10]\n",
      " [11 12 17 16]\n",
      " [11 11  9 14]]\n"
     ]
    }
   ],
   "source": [
    "from sklearn.metrics import confusion_matrix\n",
    "cm=confusion_matrix(y_test,y_pred)\n",
    "print(cm)"
   ]
  },
  {
   "cell_type": "code",
   "execution_count": 52,
   "id": "a416a7da",
   "metadata": {},
   "outputs": [
    {
     "name": "stdout",
     "output_type": "stream",
     "text": [
      "accuracy score : 32.5 %\n"
     ]
    }
   ],
   "source": [
    "from sklearn.metrics import accuracy_score\n",
    "print(\"accuracy score :\",accuracy_score(y_test,y_pred)*100,\"%\")"
   ]
  },
  {
   "cell_type": "markdown",
   "id": "f5d1818b",
   "metadata": {},
   "source": [
    "# Logistic Regression"
   ]
  },
  {
   "cell_type": "code",
   "execution_count": 53,
   "id": "94217c28",
   "metadata": {},
   "outputs": [],
   "source": [
    "from sklearn.preprocessing import StandardScaler\n",
    "scaler=StandardScaler()\n",
    "scaler.fit(data[['region']])\n",
    "data['region']=scaler.transform(data[['region']])\n",
    "scaler.fit(data[['tenure']])\n",
    "data['tenure']=scaler.transform(data[['tenure']])\n",
    "scaler.fit(data[['age']])\n",
    "data['age']=scaler.transform(data[['age']])\n",
    "scaler.fit(data[['income']])\n",
    "data['income']=scaler.transform(data[['income']])\n",
    "scaler.fit(data[['address']])\n",
    "data['address']=scaler.transform(data[['address']])\n",
    "scaler.fit(data[['ed']])\n",
    "data['ed']=scaler.transform(data[['ed']])\n",
    "scaler.fit(data[['employ']])\n",
    "data['employ']=scaler.transform(data[['employ']])\n",
    "scaler.fit(data[['reside']])\n",
    "data['reside']=scaler.transform(data[['reside']])"
   ]
  },
  {
   "cell_type": "code",
   "execution_count": 54,
   "id": "df12b375",
   "metadata": {},
   "outputs": [
    {
     "name": "stderr",
     "output_type": "stream",
     "text": [
      "C:\\ProgramData\\Anaconda3\\lib\\site-packages\\sklearn\\preprocessing\\_label.py:115: DataConversionWarning: A column-vector y was passed when a 1d array was expected. Please change the shape of y to (n_samples, ), for example using ravel().\n",
      "  y = column_or_1d(y, warn=True)\n",
      "C:\\Users\\Sriram\\AppData\\Local\\Temp\\ipykernel_17100\\585491344.py:5: FutureWarning: In a future version of pandas all arguments of DataFrame.drop except for the argument 'labels' will be keyword-only.\n",
      "  inputs=data.drop(['custcat'],'columns')\n",
      "C:\\Users\\Sriram\\AppData\\Local\\Temp\\ipykernel_17100\\585491344.py:6: FutureWarning: In a future version of pandas all arguments of DataFrame.drop except for the argument 'labels' will be keyword-only.\n",
      "  output=data.drop(['region','tenure','age','income','marital','address','ed','employ','retire','gender','reside'],'columns')\n"
     ]
    }
   ],
   "source": [
    "import sklearn\n",
    "from sklearn.preprocessing import LabelEncoder\n",
    "le=LabelEncoder()\n",
    "data['custcat']=le.fit_transform(data[['custcat']])\n",
    "inputs=data.drop(['custcat'],'columns')\n",
    "output=data.drop(['region','tenure','age','income','marital','address','ed','employ','retire','gender','reside'],'columns')\n"
   ]
  },
  {
   "cell_type": "code",
   "execution_count": 55,
   "id": "c7fc3401",
   "metadata": {},
   "outputs": [
    {
     "name": "stdout",
     "output_type": "stream",
     "text": [
      "       region    tenure       age    income  marital   address        ed  \\\n",
      "0   -0.026968 -1.055125  0.184505 -0.126506        1 -0.253034  1.087753   \n",
      "1    1.198836 -1.148806 -0.691812  0.546450        1 -0.451415  1.906227   \n",
      "2    1.198836  1.521092  0.821826  0.359517        1  1.234819 -1.367671   \n",
      "3   -0.026968 -0.118319 -0.691812 -0.416251        0  0.044536 -0.549196   \n",
      "4   -0.026968 -0.586722 -0.930808 -0.444291        1 -0.253034 -1.367671   \n",
      "..        ...       ...       ...       ...      ...       ...       ...   \n",
      "995  1.198836 -1.195646 -0.213821 -0.472331        0 -1.145747  0.269278   \n",
      "996 -1.252771 -1.336167 -0.612147 -0.519064        0 -0.947366  1.906227   \n",
      "997  1.198836  1.474252  1.379482  8.098513        0  2.821863  1.906227   \n",
      "998  1.198836  1.614773  0.582830  0.088466        0  0.639678 -0.549196   \n",
      "999  1.198836  0.677967 -0.452817 -0.360172        1 -0.451415  0.269278   \n",
      "\n",
      "       employ  retire  gender    reside  \n",
      "0   -0.594123       0       0 -0.230650  \n",
      "1   -0.594123       0       0  2.556662  \n",
      "2    1.787528       0       1 -0.230650  \n",
      "3   -1.090300       0       1 -0.927478  \n",
      "4   -0.891829       0       0  1.163006  \n",
      "..        ...     ...     ...       ...  \n",
      "995 -1.090300       0       1  0.466178  \n",
      "996 -0.594123       0       1 -0.927478  \n",
      "997  2.184470       0       1 -0.927478  \n",
      "998  1.092880       0       1 -0.927478  \n",
      "999 -0.792593       0       1  0.466178  \n",
      "\n",
      "[1000 rows x 11 columns]\n"
     ]
    }
   ],
   "source": [
    "print(inputs)"
   ]
  },
  {
   "cell_type": "code",
   "execution_count": 56,
   "id": "d9960fa9",
   "metadata": {},
   "outputs": [
    {
     "name": "stdout",
     "output_type": "stream",
     "text": [
      "     custcat\n",
      "0          0\n",
      "1          3\n",
      "2          2\n",
      "3          0\n",
      "4          2\n",
      "..       ...\n",
      "995        0\n",
      "996        0\n",
      "997        3\n",
      "998        2\n",
      "999        1\n",
      "\n",
      "[1000 rows x 1 columns]\n"
     ]
    }
   ],
   "source": [
    "print(output)"
   ]
  },
  {
   "cell_type": "code",
   "execution_count": 57,
   "id": "79eb0ad1",
   "metadata": {},
   "outputs": [
    {
     "name": "stdout",
     "output_type": "stream",
     "text": [
      "       region    tenure       age    income  marital   address        ed  \\\n",
      "540 -0.026968  0.771647 -0.532482 -0.350825        1 -0.352225  1.087753   \n",
      "821 -0.026968 -0.867764 -1.090138 -0.378865        0 -0.848176  0.269278   \n",
      "166  1.198836  0.115883 -1.169804 -0.481678        1 -1.145747  1.087753   \n",
      "62   1.198836 -0.024638  1.060822 -0.444291        0  1.234819 -0.549196   \n",
      "467 -1.252771 -0.539882 -0.930808 -0.304092        1 -0.451415 -1.367671   \n",
      "..        ...       ...       ...       ...      ...       ...       ...   \n",
      "208  1.198836  1.708454  1.777808  5.574927        0  2.921053  1.087753   \n",
      "332  1.198836 -0.446201  0.264170 -0.416251        0  0.639678 -1.367671   \n",
      "373 -0.026968 -0.914604 -1.249469 -0.528411        0 -0.451415  1.087753   \n",
      "578 -1.252771 -0.071478  1.698143 -0.509718        1 -0.153844 -0.549196   \n",
      "85  -0.026968 -0.118319 -1.169804 -0.294745        1 -0.451415 -0.549196   \n",
      "\n",
      "       employ  retire  gender    reside  \n",
      "540 -0.991064       0       0 -0.230650  \n",
      "821 -0.891829       0       1 -0.927478  \n",
      "166 -0.891829       0       0  1.163006  \n",
      "62  -0.891829       0       0 -0.927478  \n",
      "467  0.001290       0       1 -0.230650  \n",
      "..        ...     ...     ...       ...  \n",
      "208  2.581412       0       1 -0.927478  \n",
      "332 -0.197181       0       0 -0.927478  \n",
      "373 -0.991064       0       0  2.556662  \n",
      "578 -1.090300       0       1 -0.230650  \n",
      "85  -0.395652       0       0  1.163006  \n",
      "\n",
      "[800 rows x 11 columns]\n",
      "       region    tenure       age    income  marital   address        ed  \\\n",
      "630  1.198836  0.584286 -0.213821  0.303438        0  0.838058  1.087753   \n",
      "248  1.198836 -0.118319  1.060822 -0.126506        1  0.937249  0.269278   \n",
      "271 -1.252771  1.240051  0.742161 -0.322785        0 -0.153844  1.087753   \n",
      "102 -0.026968 -1.101965 -1.408799 -0.547104        0 -0.947366 -1.367671   \n",
      "574 -1.252771 -1.383007 -1.249469 -0.444291        0 -0.451415  0.269278   \n",
      "..        ...       ...       ...       ...      ...       ...       ...   \n",
      "420  1.198836  0.303244  1.299817 -0.519064        0 -0.451415 -1.367671   \n",
      "854  1.198836  0.724807 -0.373152  0.219318        1  0.540488 -0.549196   \n",
      "386 -0.026968 -0.118319 -0.691812 -0.201279        0 -0.451415 -0.549196   \n",
      "74  -0.026968  1.333731  0.503165  0.125852        1  0.143727 -0.549196   \n",
      "834  1.198836 -0.633562 -0.930808 -0.341479        0 -0.352225 -0.549196   \n",
      "\n",
      "       employ  retire  gender    reside  \n",
      "630 -0.197181       0       0 -0.927478  \n",
      "248 -0.097945       0       1  0.466178  \n",
      "271  0.795174       0       0 -0.230650  \n",
      "102 -1.090300       0       0 -0.927478  \n",
      "574 -0.991064       0       1 -0.230650  \n",
      "..        ...     ...     ...       ...  \n",
      "420 -0.693358       0       1 -0.927478  \n",
      "854 -0.097945       0       1 -0.230650  \n",
      "386  0.001290       0       0 -0.927478  \n",
      "74   1.291351       0       0 -0.230650  \n",
      "834 -0.296416       0       0 -0.927478  \n",
      "\n",
      "[200 rows x 11 columns]\n",
      "     custcat\n",
      "540        2\n",
      "821        2\n",
      "166        3\n",
      "62         0\n",
      "467        0\n",
      "..       ...\n",
      "208        2\n",
      "332        0\n",
      "373        3\n",
      "578        3\n",
      "85         0\n",
      "\n",
      "[800 rows x 1 columns]\n",
      "     custcat\n",
      "630        2\n",
      "248        0\n",
      "271        1\n",
      "102        2\n",
      "574        0\n",
      "..       ...\n",
      "420        1\n",
      "854        2\n",
      "386        0\n",
      "74         2\n",
      "834        2\n",
      "\n",
      "[200 rows x 1 columns]\n"
     ]
    }
   ],
   "source": [
    "import sklearn\n",
    "from sklearn.model_selection import train_test_split\n",
    "x_train,x_test,y_train,y_test=train_test_split(inputs,output,train_size=0.8)\n",
    "print(x_train)\n",
    "print(x_test)\n",
    "print(y_train)\n",
    "print(y_test)"
   ]
  },
  {
   "cell_type": "code",
   "execution_count": 58,
   "id": "c59e05a4",
   "metadata": {},
   "outputs": [
    {
     "name": "stderr",
     "output_type": "stream",
     "text": [
      "C:\\ProgramData\\Anaconda3\\lib\\site-packages\\sklearn\\utils\\validation.py:993: DataConversionWarning: A column-vector y was passed when a 1d array was expected. Please change the shape of y to (n_samples, ), for example using ravel().\n",
      "  y = column_or_1d(y, warn=True)\n"
     ]
    },
    {
     "name": "stdout",
     "output_type": "stream",
     "text": [
      "[1 3 1 0 0 0 3 2 3 2 2 1 3 2 2 0 0 1 2 3 1 3 0 0 2 2 3 3 1 1 2 3 0 0 1 1 2\n",
      " 3 3 2 0 0 0 2 2 0 2 2 3 2 0 3 2 3 0 2 2 0 2 2 2 2 0 2 1 2 0 2 2 0 1 0 0 3\n",
      " 2 3 0 2 0 3 3 3 3 1 1 1 3 3 0 0 2 0 3 0 2 0 3 2 0 3 2 0 2 0 3 1 0 2 3 3 1\n",
      " 1 1 2 0 1 2 0 0 3 3 0 3 3 0 0 0 2 0 2 0 0 0 0 1 0 3 3 1 3 1 0 2 0 3 3 2 2\n",
      " 2 2 3 2 0 0 3 1 2 0 0 0 0 2 1 1 0 1 0 1 2 2 2 0 2 2 0 2 0 0 3 0 2 2 0 2 2\n",
      " 1 1 1 1 2 1 1 1 2 0 0 2 0 2 0]\n",
      "     custcat\n",
      "630        2\n",
      "248        0\n",
      "271        1\n",
      "102        2\n",
      "574        0\n",
      "..       ...\n",
      "420        1\n",
      "854        2\n",
      "386        0\n",
      "74         2\n",
      "834        2\n",
      "\n",
      "[200 rows x 1 columns]\n"
     ]
    }
   ],
   "source": [
    "# from sklearn.linear_model import LogisticRegression\n",
    "# model=LogisticRegression()\n",
    "# model.fit(x_train,y_train)\n",
    "# y_pred=model.predict(x_test)\n",
    "# print(y_pred)\n",
    "# print(y_test)"
   ]
  },
  {
   "cell_type": "code",
   "execution_count": 59,
   "id": "7a24a0a2",
   "metadata": {},
   "outputs": [
    {
     "name": "stdout",
     "output_type": "stream",
     "text": [
      "[[25  1 14  7]\n",
      " [ 8  8 18 12]\n",
      " [16 11 21  6]\n",
      " [16 14  8 15]]\n"
     ]
    }
   ],
   "source": [
    "from sklearn.metrics import confusion_matrix\n",
    "cm=confusion_matrix(y_test,y_pred)\n",
    "print(cm)"
   ]
  },
  {
   "cell_type": "code",
   "execution_count": 60,
   "id": "f24dc2d3",
   "metadata": {},
   "outputs": [
    {
     "name": "stdout",
     "output_type": "stream",
     "text": [
      "accuracy score : 34.5 %\n"
     ]
    }
   ],
   "source": [
    "from sklearn.metrics import accuracy_score\n",
    "print(\"accuracy score :\",accuracy_score(y_test,y_pred)*100,\"%\")"
   ]
  },
  {
   "cell_type": "code",
   "execution_count": null,
   "id": "97e9690c",
   "metadata": {},
   "outputs": [],
   "source": []
  }
 ],
 "metadata": {
  "kernelspec": {
   "display_name": "Python 3 (ipykernel)",
   "language": "python",
   "name": "python3"
  },
  "language_info": {
   "codemirror_mode": {
    "name": "ipython",
    "version": 3
   },
   "file_extension": ".py",
   "mimetype": "text/x-python",
   "name": "python",
   "nbconvert_exporter": "python",
   "pygments_lexer": "ipython3",
   "version": "3.9.13"
  }
 },
 "nbformat": 4,
 "nbformat_minor": 5
}
