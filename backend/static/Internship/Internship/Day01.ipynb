{
 "cells": [
  {
   "cell_type": "markdown",
   "id": "fc7a1429",
   "metadata": {},
   "source": [
    "BASICS OF PYTHON"
   ]
  },
  {
   "cell_type": "markdown",
   "id": "4c3c017c",
   "metadata": {},
   "source": [
    "# Basics of python\n",
    "## python\n",
    "### Machine learning"
   ]
  },
  {
   "cell_type": "code",
   "execution_count": 1,
   "id": "79a00ced",
   "metadata": {},
   "outputs": [
    {
     "name": "stdout",
     "output_type": "stream",
     "text": [
      "Hello\n"
     ]
    }
   ],
   "source": [
    "print(\"Hello\")"
   ]
  },
  {
   "cell_type": "code",
   "execution_count": null,
   "id": "35f93570",
   "metadata": {},
   "outputs": [],
   "source": []
  },
  {
   "cell_type": "code",
   "execution_count": 2,
   "id": "420af52e",
   "metadata": {},
   "outputs": [
    {
     "name": "stdout",
     "output_type": "stream",
     "text": [
      "hi\n"
     ]
    }
   ],
   "source": [
    "print(\"hi\")"
   ]
  },
  {
   "cell_type": "code",
   "execution_count": null,
   "id": "a79982ce",
   "metadata": {},
   "outputs": [],
   "source": [
    "int a=5\n",
    "\n",
    "float b=\"hello\""
   ]
  },
  {
   "cell_type": "code",
   "execution_count": 26,
   "id": "ff7bd24a",
   "metadata": {},
   "outputs": [],
   "source": [
    "a=\"hello\""
   ]
  },
  {
   "cell_type": "code",
   "execution_count": 27,
   "id": "b8363a79",
   "metadata": {},
   "outputs": [
    {
     "data": {
      "text/plain": [
       "str"
      ]
     },
     "execution_count": 27,
     "metadata": {},
     "output_type": "execute_result"
    }
   ],
   "source": [
    "type(a)"
   ]
  },
  {
   "cell_type": "code",
   "execution_count": 28,
   "id": "a1fd1655",
   "metadata": {},
   "outputs": [
    {
     "data": {
      "text/plain": [
       "1687437530736"
      ]
     },
     "execution_count": 28,
     "metadata": {},
     "output_type": "execute_result"
    }
   ],
   "source": [
    "id(a)"
   ]
  },
  {
   "cell_type": "code",
   "execution_count": 32,
   "id": "f0ca3452",
   "metadata": {},
   "outputs": [],
   "source": [
    "s=\"Karunadu Technologies\""
   ]
  },
  {
   "cell_type": "code",
   "execution_count": 36,
   "id": "1e035f06",
   "metadata": {},
   "outputs": [
    {
     "data": {
      "text/plain": [
       "'Krnd'"
      ]
     },
     "execution_count": 36,
     "metadata": {},
     "output_type": "execute_result"
    }
   ],
   "source": [
    "s[0:8:2]"
   ]
  },
  {
   "cell_type": "code",
   "execution_count": 38,
   "id": "cc6e7199",
   "metadata": {},
   "outputs": [
    {
     "data": {
      "text/plain": [
       "'arunadu Technologies'"
      ]
     },
     "execution_count": 38,
     "metadata": {},
     "output_type": "execute_result"
    }
   ],
   "source": [
    "s[1:]"
   ]
  },
  {
   "cell_type": "code",
   "execution_count": 39,
   "id": "7182170c",
   "metadata": {},
   "outputs": [
    {
     "data": {
      "text/plain": [
       "'Karunadu Technologies'"
      ]
     },
     "execution_count": 39,
     "metadata": {},
     "output_type": "execute_result"
    }
   ],
   "source": [
    "s"
   ]
  },
  {
   "cell_type": "code",
   "execution_count": 40,
   "id": "e3d0671f",
   "metadata": {},
   "outputs": [
    {
     "data": {
      "text/plain": [
       "'KARUNADU TECHNOLOGIES'"
      ]
     },
     "execution_count": 40,
     "metadata": {},
     "output_type": "execute_result"
    }
   ],
   "source": [
    "s.upper()"
   ]
  },
  {
   "cell_type": "code",
   "execution_count": 41,
   "id": "ab726e51",
   "metadata": {},
   "outputs": [
    {
     "data": {
      "text/plain": [
       "'karunadu technologies'"
      ]
     },
     "execution_count": 41,
     "metadata": {},
     "output_type": "execute_result"
    }
   ],
   "source": [
    "s.lower()"
   ]
  },
  {
   "cell_type": "code",
   "execution_count": 42,
   "id": "5f63a3b5",
   "metadata": {},
   "outputs": [
    {
     "data": {
      "text/plain": [
       "'Karunadu Technologies'"
      ]
     },
     "execution_count": 42,
     "metadata": {},
     "output_type": "execute_result"
    }
   ],
   "source": [
    "s.title()"
   ]
  },
  {
   "cell_type": "markdown",
   "id": "176b9d16",
   "metadata": {},
   "source": [
    "# bool"
   ]
  },
  {
   "cell_type": "code",
   "execution_count": 47,
   "id": "2df88621",
   "metadata": {},
   "outputs": [
    {
     "data": {
      "text/plain": [
       "3"
      ]
     },
     "execution_count": 47,
     "metadata": {},
     "output_type": "execute_result"
    }
   ],
   "source": [
    "bool(0)+bool(1)+bool(-1)+True"
   ]
  },
  {
   "cell_type": "code",
   "execution_count": 48,
   "id": "158ce1e9",
   "metadata": {},
   "outputs": [
    {
     "data": {
      "text/plain": [
       "1"
      ]
     },
     "execution_count": 48,
     "metadata": {},
     "output_type": "execute_result"
    }
   ],
   "source": [
    "True+False"
   ]
  },
  {
   "cell_type": "markdown",
   "id": "4631e026",
   "metadata": {},
   "source": [
    "# complex"
   ]
  },
  {
   "cell_type": "code",
   "execution_count": 49,
   "id": "8dd37d01",
   "metadata": {},
   "outputs": [],
   "source": [
    "c=2+7j"
   ]
  },
  {
   "cell_type": "code",
   "execution_count": 52,
   "id": "bc327f22",
   "metadata": {},
   "outputs": [
    {
     "data": {
      "text/plain": [
       "7.0"
      ]
     },
     "execution_count": 52,
     "metadata": {},
     "output_type": "execute_result"
    }
   ],
   "source": [
    "c.imag"
   ]
  },
  {
   "cell_type": "code",
   "execution_count": 51,
   "id": "10e83e33",
   "metadata": {},
   "outputs": [
    {
     "data": {
      "text/plain": [
       "2.0"
      ]
     },
     "execution_count": 51,
     "metadata": {},
     "output_type": "execute_result"
    }
   ],
   "source": [
    "c.real"
   ]
  },
  {
   "cell_type": "markdown",
   "id": "87d729bc",
   "metadata": {},
   "source": [
    "# Type casting"
   ]
  },
  {
   "cell_type": "code",
   "execution_count": 54,
   "id": "67ab0d8e",
   "metadata": {},
   "outputs": [
    {
     "data": {
      "text/plain": [
       "int"
      ]
     },
     "execution_count": 54,
     "metadata": {},
     "output_type": "execute_result"
    }
   ],
   "source": [
    "a=2\n",
    "type(a)"
   ]
  },
  {
   "cell_type": "code",
   "execution_count": 55,
   "id": "96cf77e1",
   "metadata": {},
   "outputs": [
    {
     "name": "stdout",
     "output_type": "stream",
     "text": [
      "2.0\n"
     ]
    }
   ],
   "source": [
    "b=float(a)\n",
    "print(b)"
   ]
  },
  {
   "cell_type": "code",
   "execution_count": 58,
   "id": "94ef96a8",
   "metadata": {},
   "outputs": [
    {
     "name": "stdout",
     "output_type": "stream",
     "text": [
      "2\n"
     ]
    },
    {
     "data": {
      "text/plain": [
       "str"
      ]
     },
     "execution_count": 58,
     "metadata": {},
     "output_type": "execute_result"
    }
   ],
   "source": [
    "c=str(a)\n",
    "print(a)\n",
    "type(c)"
   ]
  },
  {
   "cell_type": "code",
   "execution_count": 61,
   "id": "d3ee1a69",
   "metadata": {},
   "outputs": [],
   "source": [
    "a=\"10\""
   ]
  },
  {
   "cell_type": "code",
   "execution_count": 63,
   "id": "c393b43d",
   "metadata": {},
   "outputs": [
    {
     "name": "stdout",
     "output_type": "stream",
     "text": [
      "10\n"
     ]
    }
   ],
   "source": [
    "b=int(a)\n",
    "print(b)"
   ]
  },
  {
   "cell_type": "code",
   "execution_count": 68,
   "id": "d7d1ed98",
   "metadata": {},
   "outputs": [
    {
     "name": "stdout",
     "output_type": "stream",
     "text": [
      "31\n"
     ]
    }
   ],
   "source": [
    "a=\"8\"\n",
    "b=\"23\"\n",
    "add=int(a)+int(b)\n",
    "print(add)"
   ]
  },
  {
   "cell_type": "code",
   "execution_count": 78,
   "id": "b3757277",
   "metadata": {},
   "outputs": [
    {
     "name": "stdout",
     "output_type": "stream",
     "text": [
      "Enter the value of a:3\n",
      "Enter the value of b:4\n",
      "Sum:7\n",
      "sub:-1\n"
     ]
    }
   ],
   "source": [
    "a=int(input(\"Enter the value of a:\"))\n",
    "b=int(input(\"Enter the value of b:\"))\n",
    "add=a+b\n",
    "sub=a-b\n",
    "print(\"Sum:\",add,sep=\"\")\n",
    "print(\"sub:\",sub,sep=\"\")"
   ]
  },
  {
   "cell_type": "code",
   "execution_count": 82,
   "id": "60c3c67e",
   "metadata": {},
   "outputs": [
    {
     "name": "stdout",
     "output_type": "stream",
     "text": [
      "Enter the first name:MAHESH\n",
      "Enter the last name:KT\n",
      "Enter the fav num:9\n",
      "maheshkt14@gmail.com\n"
     ]
    }
   ],
   "source": [
    "f_name=input(\"Enter the first name:\").lower()\n",
    "l_name=input(\"Enter the last name:\").lower()\n",
    "f_num=int(input(\"Enter the fav num:\"))\n",
    "\n",
    "f_num=f_num+5\n",
    "Email=f_name+l_name+str(f_num)+\"@gmail.com\"\n",
    "print(Email)"
   ]
  },
  {
   "cell_type": "code",
   "execution_count": null,
   "id": "82ee3626",
   "metadata": {},
   "outputs": [],
   "source": []
  }
 ],
 "metadata": {
  "kernelspec": {
   "display_name": "Python 3 (ipykernel)",
   "language": "python",
   "name": "python3"
  },
  "language_info": {
   "codemirror_mode": {
    "name": "ipython",
    "version": 3
   },
   "file_extension": ".py",
   "mimetype": "text/x-python",
   "name": "python",
   "nbconvert_exporter": "python",
   "pygments_lexer": "ipython3",
   "version": "3.9.13"
  }
 },
 "nbformat": 4,
 "nbformat_minor": 5
}
