{
 "cells": [
  {
   "cell_type": "markdown",
   "id": "300fb670",
   "metadata": {},
   "source": [
    "\n",
    "\n",
    "\n",
    "# code to swap two number without using 3rd variable"
   ]
  },
  {
   "cell_type": "code",
   "execution_count": 5,
   "id": "86614d47",
   "metadata": {},
   "outputs": [
    {
     "name": "stdout",
     "output_type": "stream",
     "text": [
      "Enter a number6\n",
      "Enter another number5\n",
      "The first value is 6 and the second value is 5\n"
     ]
    }
   ],
   "source": [
    "a =int(input(\"Enter a number\"));\n",
    "b=int(input(\"Enter another number\"))\n",
    "a=a+b\n",
    "b=a-b\n",
    "a=a-b\n",
    "print((\"The first value is\"),b,(\"and the second value is\"),a)"
   ]
  },
  {
   "cell_type": "markdown",
   "id": "47a44bda",
   "metadata": {},
   "source": [
    "# code for the list of keywords in python"
   ]
  },
  {
   "cell_type": "code",
   "execution_count": 9,
   "id": "9d0744f5",
   "metadata": {},
   "outputs": [
    {
     "data": {
      "text/plain": [
       "['False',\n",
       " 'None',\n",
       " 'True',\n",
       " 'and',\n",
       " 'as',\n",
       " 'assert',\n",
       " 'async',\n",
       " 'await',\n",
       " 'break',\n",
       " 'class',\n",
       " 'continue',\n",
       " 'def',\n",
       " 'del',\n",
       " 'elif',\n",
       " 'else',\n",
       " 'except',\n",
       " 'finally',\n",
       " 'for',\n",
       " 'from',\n",
       " 'global',\n",
       " 'if',\n",
       " 'import',\n",
       " 'in',\n",
       " 'is',\n",
       " 'lambda',\n",
       " 'nonlocal',\n",
       " 'not',\n",
       " 'or',\n",
       " 'pass',\n",
       " 'raise',\n",
       " 'return',\n",
       " 'try',\n",
       " 'while',\n",
       " 'with',\n",
       " 'yield']"
      ]
     },
     "execution_count": 9,
     "metadata": {},
     "output_type": "execute_result"
    }
   ],
   "source": [
    "import keyword\n",
    "keyword.kwlist"
   ]
  },
  {
   "cell_type": "markdown",
   "id": "3753ef9a",
   "metadata": {},
   "source": [
    "# code for math functions"
   ]
  },
  {
   "cell_type": "code",
   "execution_count": 11,
   "id": "9cae629d",
   "metadata": {},
   "outputs": [
    {
     "data": {
      "text/plain": [
       "5.0"
      ]
     },
     "execution_count": 11,
     "metadata": {},
     "output_type": "execute_result"
    }
   ],
   "source": [
    "import math\n",
    "math.sqrt(25)"
   ]
  },
  {
   "cell_type": "markdown",
   "id": "420c9dae",
   "metadata": {},
   "source": [
    "# to find functions of any library"
   ]
  },
  {
   "cell_type": "code",
   "execution_count": 12,
   "id": "a76868bb",
   "metadata": {},
   "outputs": [
    {
     "data": {
      "text/plain": [
       "['__doc__',\n",
       " '__loader__',\n",
       " '__name__',\n",
       " '__package__',\n",
       " '__spec__',\n",
       " 'acos',\n",
       " 'acosh',\n",
       " 'asin',\n",
       " 'asinh',\n",
       " 'atan',\n",
       " 'atan2',\n",
       " 'atanh',\n",
       " 'cbrt',\n",
       " 'ceil',\n",
       " 'comb',\n",
       " 'copysign',\n",
       " 'cos',\n",
       " 'cosh',\n",
       " 'degrees',\n",
       " 'dist',\n",
       " 'e',\n",
       " 'erf',\n",
       " 'erfc',\n",
       " 'exp',\n",
       " 'exp2',\n",
       " 'expm1',\n",
       " 'fabs',\n",
       " 'factorial',\n",
       " 'floor',\n",
       " 'fmod',\n",
       " 'frexp',\n",
       " 'fsum',\n",
       " 'gamma',\n",
       " 'gcd',\n",
       " 'hypot',\n",
       " 'inf',\n",
       " 'isclose',\n",
       " 'isfinite',\n",
       " 'isinf',\n",
       " 'isnan',\n",
       " 'isqrt',\n",
       " 'lcm',\n",
       " 'ldexp',\n",
       " 'lgamma',\n",
       " 'log',\n",
       " 'log10',\n",
       " 'log1p',\n",
       " 'log2',\n",
       " 'modf',\n",
       " 'nan',\n",
       " 'nextafter',\n",
       " 'perm',\n",
       " 'pi',\n",
       " 'pow',\n",
       " 'prod',\n",
       " 'radians',\n",
       " 'remainder',\n",
       " 'sin',\n",
       " 'sinh',\n",
       " 'sqrt',\n",
       " 'tan',\n",
       " 'tanh',\n",
       " 'tau',\n",
       " 'trunc',\n",
       " 'ulp']"
      ]
     },
     "execution_count": 12,
     "metadata": {},
     "output_type": "execute_result"
    }
   ],
   "source": [
    "dir(math)"
   ]
  },
  {
   "cell_type": "markdown",
   "id": "bbb7433a",
   "metadata": {},
   "source": [
    "# operators  +   -    *  /  //  **  %  <  <=  >=  >=  ==  !=  &&  ||  !         ===        !=="
   ]
  },
  {
   "cell_type": "code",
   "execution_count": 16,
   "id": "627624b8",
   "metadata": {},
   "outputs": [
    {
     "name": "stdout",
     "output_type": "stream",
     "text": [
      "5.333333333333333\n",
      "5\n",
      "1\n",
      "256\n"
     ]
    }
   ],
   "source": [
    "a=16\n",
    "b=3\n",
    "print(a/b)\n",
    "print(a//b)\n",
    "print(a%b)\n",
    "print(a**2)"
   ]
  },
  {
   "cell_type": "markdown",
   "id": "b6545389",
   "metadata": {},
   "source": [
    "# bitwise operator & | !"
   ]
  },
  {
   "cell_type": "code",
   "execution_count": 32,
   "id": "448a1c43",
   "metadata": {},
   "outputs": [
    {
     "name": "stdout",
     "output_type": "stream",
     "text": [
      "0\n"
     ]
    }
   ],
   "source": [
    "a=2\n",
    "b=5\n",
    "print(a&b)"
   ]
  },
  {
   "cell_type": "markdown",
   "id": "92b90f28",
   "metadata": {},
   "source": [
    "# shift operations << >>"
   ]
  },
  {
   "cell_type": "code",
   "execution_count": 36,
   "id": "3ad4dd39",
   "metadata": {},
   "outputs": [
    {
     "name": "stdout",
     "output_type": "stream",
     "text": [
      "4\n"
     ]
    }
   ],
   "source": [
    "a=2\n",
    "a=a<<1\n",
    "print(a)"
   ]
  },
  {
   "cell_type": "markdown",
   "id": "e96b7510",
   "metadata": {},
   "source": [
    "# special operators in python is , is not ,in , not in"
   ]
  },
  {
   "cell_type": "code",
   "execution_count": 45,
   "id": "83411261",
   "metadata": {},
   "outputs": [
    {
     "name": "stdout",
     "output_type": "stream",
     "text": [
      "a is b True\n",
      "a is not b False\n",
      "True\n",
      "True\n",
      "False\n",
      "False\n"
     ]
    }
   ],
   "source": [
    "a=10\n",
    "b=10\n",
    "print(\"a is b\",a is b)\n",
    "print(\"a is not b\",a is not b)\n",
    "c= \"dipu\"\n",
    "print(\"d\" in c)\n",
    "print(\"x\" not in c)\n",
    "print(\"D\" in c)\n",
    "print(\"d \" in c)"
   ]
  },
  {
   "cell_type": "markdown",
   "id": "10a9ed3a",
   "metadata": {},
   "source": [
    "# conditional operator if, if else,if elif else"
   ]
  },
  {
   "cell_type": "code",
   "execution_count": 15,
   "id": "1d810ee9",
   "metadata": {},
   "outputs": [
    {
     "name": "stdout",
     "output_type": "stream",
     "text": [
      "Enter a number 5\n",
      "Enter another number 1\n",
      "greater\n"
     ]
    }
   ],
   "source": [
    "a=int(input(\"Enter a number \"))\n",
    "b=int(input(\"Enter another number \"))\n",
    "if(a==b):\n",
    "    print(\"True\")\n",
    "elif(a>b):\n",
    "    print(\"greater\")\n",
    "else:\n",
    "    print(\"smaller\")"
   ]
  },
  {
   "cell_type": "code",
   "execution_count": 25,
   "id": "48663495",
   "metadata": {},
   "outputs": [
    {
     "name": "stdout",
     "output_type": "stream",
     "text": [
      "Enter a number A: 2\n",
      "Enter another number B: 1\n",
      "Enter another number C: 3\n",
      "C is greater \n"
     ]
    }
   ],
   "source": [
    "a=int(input(\"Enter a number A: \"))\n",
    "b=int(input(\"Enter another number B: \"))\n",
    "c=int(input(\"Enter another number C: \"))\n",
    "if((a>b) & (a>c)):\n",
    "    print(\"A is  largest\")\n",
    "elif((b>a) & (b>c)):\n",
    "    print(\"B is greater \")\n",
    "elif((c>a) & (c>b)):\n",
    "    print(\"C is greater \")\n",
    "else:\n",
    "    print(\"all are equal\")"
   ]
  },
  {
   "cell_type": "code",
   "execution_count": 14,
   "id": "598c004f",
   "metadata": {},
   "outputs": [
    {
     "name": "stdout",
     "output_type": "stream",
     "text": [
      "Enter a number2 7\n",
      "a is smaller\n"
     ]
    }
   ],
   "source": [
    "a,b=input(\"Enter a number\").split()\n",
    "print(\"a is greater\" if int(a)>int(b) else \"a is smaller\")"
   ]
  },
  {
   "cell_type": "code",
   "execution_count": 35,
   "id": "fd7c0101",
   "metadata": {},
   "outputs": [
    {
     "name": "stdout",
     "output_type": "stream",
     "text": [
      "enter a number ,operator and another number 9  *  9\n",
      "81\n"
     ]
    }
   ],
   "source": [
    "a,b,c=input(\"enter a number ,operator and another number \").split()\n",
    "if (b==\"+\"):\n",
    "    print(int(a)+int(c))\n",
    "elif (b==\"-\"):\n",
    "    print(int(a)-int(c))\n",
    "elif (b==\"*\"):\n",
    "    print(int(a)*int(c))\n",
    "elif (b==\"/\"):\n",
    "    print(int(a)/int(c))\n",
    "else:\n",
    "    print(\"invalid details\")"
   ]
  },
  {
   "cell_type": "markdown",
   "id": "79c2a924",
   "metadata": {},
   "source": [
    "# while loop"
   ]
  },
  {
   "cell_type": "code",
   "execution_count": 1,
   "id": "c87c2284",
   "metadata": {},
   "outputs": [
    {
     "name": "stdout",
     "output_type": "stream",
     "text": [
      "54\n",
      "after 30second\n",
      "1\n",
      "2\n",
      "3\n",
      "4\n",
      "5\n",
      "6\n",
      "7\n",
      "8\n",
      "9\n",
      "10\n"
     ]
    }
   ],
   "source": [
    "import time\n",
    "a=54\n",
    "print(a)\n",
    "time.sleep(30)\n",
    "print(\"after 30second\")\n",
    "a=1\n",
    "while(a<=10):\n",
    "    print(a)\n",
    "    a=a+1"
   ]
  },
  {
   "cell_type": "code",
   "execution_count": null,
   "id": "fa639bcf",
   "metadata": {},
   "outputs": [],
   "source": []
  }
 ],
 "metadata": {
  "kernelspec": {
   "display_name": "Python 3 (ipykernel)",
   "language": "python",
   "name": "python3"
  },
  "language_info": {
   "codemirror_mode": {
    "name": "ipython",
    "version": 3
   },
   "file_extension": ".py",
   "mimetype": "text/x-python",
   "name": "python",
   "nbconvert_exporter": "python",
   "pygments_lexer": "ipython3",
   "version": "3.9.13"
  }
 },
 "nbformat": 4,
 "nbformat_minor": 5
}
