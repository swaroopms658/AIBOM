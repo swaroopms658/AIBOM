{
    "cells": [
        {
            "cell_type": "markdown",
            "metadata": {},
            "source": [
                "# MIT License\n",
                "\n",
                "Copyright (c) 2025 Swaroop\n",
                "\n",
                "Permission is hereby granted, free of charge, to any person obtaining a copy\n",
                "of this software and associated documentation files (the 'Software'), to deal\n",
                "in the Software without restriction, including without limitation the rights\n",
                "to use, copy, modify, merge, publish, distribute, sublicense, and/or sell\n",
                "copies of the Software, and to permit persons to whom the Software is\n",
                "furnished to do so, subject to the following conditions:\n",
                "\n",
                "(Full MIT license text...)"
            ]
        },
        {
            "cell_type": "code",
            "execution_count": 1,
            "metadata": {},
            "outputs": [],
            "source": [
                "import numpy as np\n",
                "import pandas as pd\n",
                "\n",
                "data = {'A': [1, 2, 3], 'B': [4, 5, 6]}\n",
                "df = pd.DataFrame(data)\n",
                "df.head()"
            ]
        }
    ],
    "metadata": {
        "kernelspec": {
            "display_name": "Python 3",
            "language": "python",
            "name": "python3"
        },
        "language_info": {
            "codemirror_mode": {
                "name": "ipython",
                "version": 3
            },
            "file_extension": ".py",
            "mimetype": "text/x-python",
            "name": "python",
            "nbconvert_exporter": "python",
            "pygments_lexer": "ipython3",
            "version": "3.8.10"
        }
    },
    "nbformat": 4,
    "nbformat_minor": 4
}