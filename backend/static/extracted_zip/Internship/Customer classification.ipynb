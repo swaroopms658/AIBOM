{
 "cells": [
  {
   "cell_type": "markdown",
   "id": "cc0b4128",
   "metadata": {},
   "source": [
    "# KNN"
   ]
  },
  {
   "cell_type": "code",
   "execution_count": 5,
   "id": "054c440f",
   "metadata": {},
   "outputs": [
    {
     "name": "stdout",
     "output_type": "stream",
     "text": [
      "     region  tenure  age  income  marital  address  ed  employ  retire  \\\n",
      "0         2      13   44      64        1        9   4       5       0   \n",
      "1         3      11   33     136        1        7   5       5       0   \n",
      "2         3      68   52     116        1       24   1      29       0   \n",
      "3         2      33   33      33        0       12   2       0       0   \n",
      "4         2      23   30      30        1        9   1       2       0   \n",
      "..      ...     ...  ...     ...      ...      ...  ..     ...     ...   \n",
      "995       3      10   39      27        0        0   3       0       0   \n",
      "996       1       7   34      22        0        2   5       5       0   \n",
      "997       3      67   59     944        0       40   5      33       0   \n",
      "998       3      70   49      87        0       18   2      22       0   \n",
      "999       3      50   36      39        1        7   3       3       0   \n",
      "\n",
      "     gender  reside custcat  \n",
      "0         0       2       A  \n",
      "1         0       6       D  \n",
      "2         1       2       C  \n",
      "3         1       1       A  \n",
      "4         0       4       C  \n",
      "..      ...     ...     ...  \n",
      "995       1       3       A  \n",
      "996       1       1       A  \n",
      "997       1       1       D  \n",
      "998       1       1       C  \n",
      "999       1       3       B  \n",
      "\n",
      "[1000 rows x 12 columns]\n",
      "<class 'pandas.core.frame.DataFrame'>\n",
      "RangeIndex: 1000 entries, 0 to 999\n",
      "Data columns (total 12 columns):\n",
      " #   Column   Non-Null Count  Dtype \n",
      "---  ------   --------------  ----- \n",
      " 0   region   1000 non-null   int64 \n",
      " 1   tenure   1000 non-null   int64 \n",
      " 2   age      1000 non-null   int64 \n",
      " 3   income   1000 non-null   int64 \n",
      " 4   marital  1000 non-null   int64 \n",
      " 5   address  1000 non-null   int64 \n",
      " 6   ed       1000 non-null   int64 \n",
      " 7   employ   1000 non-null   int64 \n",
      " 8   retire   1000 non-null   int64 \n",
      " 9   gender   1000 non-null   int64 \n",
      " 10  reside   1000 non-null   int64 \n",
      " 11  custcat  1000 non-null   object\n",
      "dtypes: int64(11), object(1)\n",
      "memory usage: 93.9+ KB\n",
      "None\n"
     ]
    }
   ],
   "source": [
    "import pandas as pd\n",
    "path=\"C:\\\\Users\\\\Sriram\\\\Downloads\\\\40_customerClassification\\\\Telecust1.csv\"\n",
    "data=pd.read_csv(path)\n",
    "print(data)\n",
    "print(data.info())\n",
    "# import sklearn\n",
    "# from sklearn.preprocessing import LabelEncoder\n",
    "# le=LabelEncoder()\n",
    "# data['custcat']=le.fit_transform(data[['custcat']])\n",
    "# inputs=data.drop(['custcat'],'columns')\n",
    "# output=data.drop(['region','tenure','age','income','marital','address','ed','employ','retire','gender','reside'],'columns')\n",
    "# print(inputs)\n",
    "# print(output)\n",
    "# import sklearn\n",
    "# from sklearn.model_selection import train_test_split\n",
    "# x_train,x_test,y_train,y_test=train_test_split(inputs,output,test_size=0.2)\n",
    "# print(x_train)\n",
    "# print(x_test)\n",
    "# print(y_train)\n",
    "# print(y_test)\n",
    "# from sklearn.svm import SVC\n",
    "# model=SVC()\n",
    "# model.fit(x_train,y_train)\n"
   ]
  },
  {
   "cell_type": "code",
   "execution_count": 3,
   "id": "f086def3",
   "metadata": {},
   "outputs": [
    {
     "ename": "NameError",
     "evalue": "name 'inputs' is not defined",
     "output_type": "error",
     "traceback": [
      "\u001b[1;31m---------------------------------------------------------------------------\u001b[0m",
      "\u001b[1;31mNameError\u001b[0m                                 Traceback (most recent call last)",
      "\u001b[1;32m~\\AppData\\Local\\Temp\\ipykernel_19620\\3243875734.py\u001b[0m in \u001b[0;36m<module>\u001b[1;34m\u001b[0m\n\u001b[1;32m----> 1\u001b[1;33m \u001b[0mprint\u001b[0m\u001b[1;33m(\u001b[0m\u001b[0minputs\u001b[0m\u001b[1;33m)\u001b[0m\u001b[1;33m\u001b[0m\u001b[1;33m\u001b[0m\u001b[0m\n\u001b[0m",
      "\u001b[1;31mNameError\u001b[0m: name 'inputs' is not defined"
     ]
    }
   ],
   "source": []
  },
  {
   "cell_type": "code",
   "execution_count": null,
   "id": "5599424f",
   "metadata": {},
   "outputs": [],
   "source": []
  },
  {
   "cell_type": "code",
   "execution_count": 7,
   "id": "821ee0d4",
   "metadata": {},
   "outputs": [
    {
     "name": "stdout",
     "output_type": "stream",
     "text": [
      "     region  tenure  age  income  marital  address  ed  employ  retire  \\\n",
      "144       1       2   36      25        0        3   1       6       0   \n",
      "160       3      50   37      48        1       11   3       8       0   \n",
      "859       3       7   31      31        1       12   2       7       0   \n",
      "388       3      15   38      56        1        5   3      13       0   \n",
      "977       3      45   51     146        0       13   4      16       0   \n",
      "..      ...     ...  ...     ...      ...      ...  ..     ...     ...   \n",
      "111       2      45   22      36        1        2   4       0       0   \n",
      "787       2      59   54     126        0       32   1      22       0   \n",
      "424       1      49   37      50        1       17   2      12       0   \n",
      "338       2       5   69      11        0        0   2      14       1   \n",
      "754       2      70   35      48        1        4   2       9       0   \n",
      "\n",
      "     gender  reside  \n",
      "144       1       1  \n",
      "160       1       2  \n",
      "859       1       6  \n",
      "388       0       3  \n",
      "977       0       2  \n",
      "..      ...     ...  \n",
      "111       1       5  \n",
      "787       1       1  \n",
      "424       1       2  \n",
      "338       0       1  \n",
      "754       0       3  \n",
      "\n",
      "[800 rows x 11 columns]\n",
      "     region  tenure  age  income  marital  address  ed  employ  retire  \\\n",
      "705       3      56   30      57        1        9   5       2       0   \n",
      "680       1      65   59     732        0       27   3      31       0   \n",
      "998       3      70   49      87        0       18   2      22       0   \n",
      "381       1      10   31      32        0        0   4       7       0   \n",
      "936       3      14   49      26        0        4   1       8       0   \n",
      "..      ...     ...  ...     ...      ...      ...  ..     ...     ...   \n",
      "293       1      24   43     138        0       14   4      11       0   \n",
      "477       2      25   41      81        0        3   3      20       0   \n",
      "172       2      64   46     168        1       19   2      26       0   \n",
      "759       3      54   59      28        0       28   2      15       0   \n",
      "781       1       4   37      25        1        8   1       1       0   \n",
      "\n",
      "     gender  reside  \n",
      "705       0       4  \n",
      "680       1       1  \n",
      "998       1       1  \n",
      "381       1       2  \n",
      "936       0       1  \n",
      "..      ...     ...  \n",
      "293       1       1  \n",
      "477       1       4  \n",
      "172       1       2  \n",
      "759       0       1  \n",
      "781       1       5  \n",
      "\n",
      "[200 rows x 11 columns]\n",
      "     custcat\n",
      "144        2\n",
      "160        2\n",
      "859        0\n",
      "388        2\n",
      "977        0\n",
      "..       ...\n",
      "111        1\n",
      "787        2\n",
      "424        1\n",
      "338        0\n",
      "754        1\n",
      "\n",
      "[800 rows x 1 columns]\n",
      "     custcat\n",
      "705        1\n",
      "680        1\n",
      "998        2\n",
      "381        1\n",
      "936        0\n",
      "..       ...\n",
      "293        2\n",
      "477        2\n",
      "172        3\n",
      "759        1\n",
      "781        0\n",
      "\n",
      "[200 rows x 1 columns]\n"
     ]
    }
   ],
   "source": []
  },
  {
   "cell_type": "code",
   "execution_count": 8,
   "id": "274960eb",
   "metadata": {},
   "outputs": [],
   "source": [
    "# from sklearn.neighbors import KNeighborsClassifier\n",
    "# model=KNeighborsClassifier(n_neighbors=13)\n",
    "# model.fit(x_train,y_train)\n",
    "# y_pred=model.predict(x_test)\n",
    "# print(y_pred)\n",
    "# print(y_test)\n"
   ]
  },
  {
   "cell_type": "code",
   "execution_count": 9,
   "id": "0b4833bd",
   "metadata": {},
   "outputs": [
    {
     "ename": "NameError",
     "evalue": "name 'y_pred' is not defined",
     "output_type": "error",
     "traceback": [
      "\u001b[1;31m---------------------------------------------------------------------------\u001b[0m",
      "\u001b[1;31mNameError\u001b[0m                                 Traceback (most recent call last)",
      "\u001b[1;32m~\\AppData\\Local\\Temp\\ipykernel_14932\\1120762378.py\u001b[0m in \u001b[0;36m<module>\u001b[1;34m\u001b[0m\n\u001b[0;32m      1\u001b[0m \u001b[1;32mfrom\u001b[0m \u001b[0msklearn\u001b[0m\u001b[1;33m.\u001b[0m\u001b[0mmetrics\u001b[0m \u001b[1;32mimport\u001b[0m \u001b[0mconfusion_matrix\u001b[0m\u001b[1;33m\u001b[0m\u001b[1;33m\u001b[0m\u001b[0m\n\u001b[1;32m----> 2\u001b[1;33m \u001b[0mcm\u001b[0m\u001b[1;33m=\u001b[0m\u001b[0mconfusion_matrix\u001b[0m\u001b[1;33m(\u001b[0m\u001b[0my_test\u001b[0m\u001b[1;33m,\u001b[0m\u001b[0my_pred\u001b[0m\u001b[1;33m)\u001b[0m\u001b[1;33m\u001b[0m\u001b[1;33m\u001b[0m\u001b[0m\n\u001b[0m\u001b[0;32m      3\u001b[0m \u001b[0mprint\u001b[0m\u001b[1;33m(\u001b[0m\u001b[0mcm\u001b[0m\u001b[1;33m)\u001b[0m\u001b[1;33m\u001b[0m\u001b[1;33m\u001b[0m\u001b[0m\n",
      "\u001b[1;31mNameError\u001b[0m: name 'y_pred' is not defined"
     ]
    }
   ],
   "source": [
    "from sklearn.metrics import confusion_matrix\n",
    "cm=confusion_matrix(y_test,y_pred)\n",
    "print(cm)"
   ]
  },
  {
   "cell_type": "code",
   "execution_count": 10,
   "id": "75ab8383",
   "metadata": {},
   "outputs": [
    {
     "ename": "NameError",
     "evalue": "name 'y_pred' is not defined",
     "output_type": "error",
     "traceback": [
      "\u001b[1;31m---------------------------------------------------------------------------\u001b[0m",
      "\u001b[1;31mNameError\u001b[0m                                 Traceback (most recent call last)",
      "\u001b[1;32m~\\AppData\\Local\\Temp\\ipykernel_14932\\170158471.py\u001b[0m in \u001b[0;36m<module>\u001b[1;34m\u001b[0m\n\u001b[0;32m      1\u001b[0m \u001b[1;32mfrom\u001b[0m \u001b[0msklearn\u001b[0m\u001b[1;33m.\u001b[0m\u001b[0mmetrics\u001b[0m \u001b[1;32mimport\u001b[0m \u001b[0maccuracy_score\u001b[0m\u001b[1;33m\u001b[0m\u001b[1;33m\u001b[0m\u001b[0m\n\u001b[1;32m----> 2\u001b[1;33m \u001b[0mprint\u001b[0m\u001b[1;33m(\u001b[0m\u001b[1;34m\"accuracy score :\"\u001b[0m\u001b[1;33m,\u001b[0m\u001b[0maccuracy_score\u001b[0m\u001b[1;33m(\u001b[0m\u001b[0my_test\u001b[0m\u001b[1;33m,\u001b[0m\u001b[0my_pred\u001b[0m\u001b[1;33m)\u001b[0m\u001b[1;33m*\u001b[0m\u001b[1;36m100\u001b[0m\u001b[1;33m,\u001b[0m\u001b[1;34m\"%\"\u001b[0m\u001b[1;33m)\u001b[0m\u001b[1;33m\u001b[0m\u001b[1;33m\u001b[0m\u001b[0m\n\u001b[0m",
      "\u001b[1;31mNameError\u001b[0m: name 'y_pred' is not defined"
     ]
    }
   ],
   "source": [
    "from sklearn.metrics import accuracy_score\n",
    "print(\"accuracy score :\",accuracy_score(y_test,y_pred)*100,\"%\")"
   ]
  },
  {
   "cell_type": "code",
   "execution_count": 11,
   "id": "aac285c8",
   "metadata": {},
   "outputs": [],
   "source": [
    "from sklearn.preprocessing import MinMaxScaler\n",
    "scaler=MinMaxScaler()\n",
    "scaler.fit(data[['region']])\n",
    "data['region']=scaler.transform(data[['region']])\n",
    "scaler.fit(data[['tenure']])\n",
    "data['tenure']=scaler.transform(data[['tenure']])\n",
    "scaler.fit(data[['age']])\n",
    "data['age']=scaler.transform(data[['age']])\n",
    "scaler.fit(data[['income']])\n",
    "data['income']=scaler.transform(data[['income']])\n",
    "scaler.fit(data[['address']])\n",
    "data['address']=scaler.transform(data[['address']])\n",
    "scaler.fit(data[['ed']])\n",
    "data['ed']=scaler.transform(data[['ed']])\n",
    "scaler.fit(data[['employ']])\n",
    "data['employ']=scaler.transform(data[['employ']])\n",
    "scaler.fit(data[['reside']])\n",
    "data['reside']=scaler.transform(data[['reside']])\n"
   ]
  },
  {
   "cell_type": "code",
   "execution_count": 12,
   "id": "e1ae8bb9",
   "metadata": {},
   "outputs": [
    {
     "name": "stderr",
     "output_type": "stream",
     "text": [
      "C:\\ProgramData\\Anaconda3\\lib\\site-packages\\sklearn\\preprocessing\\_label.py:115: DataConversionWarning: A column-vector y was passed when a 1d array was expected. Please change the shape of y to (n_samples, ), for example using ravel().\n",
      "  y = column_or_1d(y, warn=True)\n",
      "C:\\Users\\Sriram\\AppData\\Local\\Temp\\ipykernel_14932\\585491344.py:5: FutureWarning: In a future version of pandas all arguments of DataFrame.drop except for the argument 'labels' will be keyword-only.\n",
      "  inputs=data.drop(['custcat'],'columns')\n",
      "C:\\Users\\Sriram\\AppData\\Local\\Temp\\ipykernel_14932\\585491344.py:6: FutureWarning: In a future version of pandas all arguments of DataFrame.drop except for the argument 'labels' will be keyword-only.\n",
      "  output=data.drop(['region','tenure','age','income','marital','address','ed','employ','retire','gender','reside'],'columns')\n"
     ]
    }
   ],
   "source": []
  },
  {
   "cell_type": "code",
   "execution_count": 13,
   "id": "a44067d3",
   "metadata": {},
   "outputs": [
    {
     "name": "stdout",
     "output_type": "stream",
     "text": [
      "     region    tenure       age    income  marital   address    ed    employ  \\\n",
      "0       0.5  0.169014  0.440678  0.033153        1  0.163636  0.75  0.106383   \n",
      "1       1.0  0.140845  0.254237  0.076552        1  0.127273  1.00  0.106383   \n",
      "2       1.0  0.943662  0.576271  0.064497        1  0.436364  0.00  0.617021   \n",
      "3       0.5  0.450704  0.254237  0.014467        0  0.218182  0.25  0.000000   \n",
      "4       0.5  0.309859  0.203390  0.012658        1  0.163636  0.00  0.042553   \n",
      "..      ...       ...       ...       ...      ...       ...   ...       ...   \n",
      "995     1.0  0.126761  0.355932  0.010850        0  0.000000  0.50  0.000000   \n",
      "996     0.0  0.084507  0.271186  0.007836        0  0.036364  1.00  0.106383   \n",
      "997     1.0  0.929577  0.694915  0.563593        0  0.727273  1.00  0.702128   \n",
      "998     1.0  0.971831  0.525424  0.047016        0  0.327273  0.25  0.468085   \n",
      "999     1.0  0.690141  0.305085  0.018083        1  0.127273  0.50  0.063830   \n",
      "\n",
      "     retire  gender    reside  \n",
      "0         0       0  0.142857  \n",
      "1         0       0  0.714286  \n",
      "2         0       1  0.142857  \n",
      "3         0       1  0.000000  \n",
      "4         0       0  0.428571  \n",
      "..      ...     ...       ...  \n",
      "995       0       1  0.285714  \n",
      "996       0       1  0.000000  \n",
      "997       0       1  0.000000  \n",
      "998       0       1  0.000000  \n",
      "999       0       1  0.285714  \n",
      "\n",
      "[1000 rows x 11 columns]\n"
     ]
    }
   ],
   "source": [
    "print(inputs)"
   ]
  },
  {
   "cell_type": "code",
   "execution_count": 14,
   "id": "01ff7809",
   "metadata": {},
   "outputs": [
    {
     "name": "stdout",
     "output_type": "stream",
     "text": [
      "     custcat\n",
      "0          0\n",
      "1          3\n",
      "2          2\n",
      "3          0\n",
      "4          2\n",
      "..       ...\n",
      "995        0\n",
      "996        0\n",
      "997        3\n",
      "998        2\n",
      "999        1\n",
      "\n",
      "[1000 rows x 1 columns]\n"
     ]
    }
   ],
   "source": [
    "print(output)"
   ]
  },
  {
   "cell_type": "code",
   "execution_count": 15,
   "id": "622c15bf",
   "metadata": {},
   "outputs": [
    {
     "name": "stdout",
     "output_type": "stream",
     "text": [
      "     region    tenure       age    income  marital   address    ed    employ  \\\n",
      "529     1.0  0.478873  0.542373  0.171187        1  0.200000  0.50  0.446809   \n",
      "206     0.0  1.000000  0.864407  0.021097        1  0.890909  0.25  0.936170   \n",
      "97      1.0  0.591549  0.305085  0.059072        1  0.090909  0.00  0.404255   \n",
      "28      0.0  0.112676  0.050847  0.004822        1  0.018182  0.25  0.042553   \n",
      "286     0.0  0.521127  0.322034  0.025919        1  0.018182  0.00  0.425532   \n",
      "..      ...       ...       ...       ...      ...       ...   ...       ...   \n",
      "620     1.0  0.760563  0.491525  0.016878        0  0.200000  0.00  0.234043   \n",
      "37      0.0  0.605634  0.661017  0.106691        1  0.018182  0.25  0.361702   \n",
      "592     0.5  0.619718  0.525424  0.043400        1  0.490909  0.25  0.148936   \n",
      "263     1.0  0.971831  0.593220  0.104882        1  0.290909  0.25  0.744681   \n",
      "317     0.5  0.000000  0.135593  0.012658        1  0.054545  0.25  0.148936   \n",
      "\n",
      "     retire  gender    reside  \n",
      "529       0       0  0.142857  \n",
      "206       1       1  0.142857  \n",
      "97        0       1  0.285714  \n",
      "28        0       1  0.285714  \n",
      "286       0       1  0.428571  \n",
      "..      ...     ...       ...  \n",
      "620       0       0  0.000000  \n",
      "37        0       0  0.142857  \n",
      "592       0       1  0.428571  \n",
      "263       0       1  0.142857  \n",
      "317       0       1  0.571429  \n",
      "\n",
      "[800 rows x 11 columns]\n",
      "     region    tenure       age    income  marital   address    ed    employ  \\\n",
      "414     0.5  0.943662  0.711864  0.152502        0  0.727273  0.25  0.829787   \n",
      "125     0.5  0.802817  0.305085  0.017480        0  0.181818  0.25  0.297872   \n",
      "50      0.5  0.408451  0.271186  0.010850        1  0.072727  0.25  0.021277   \n",
      "250     0.0  0.014085  0.372881  0.075347        0  0.163636  0.75  0.042553   \n",
      "365     1.0  0.507042  0.983051  0.065099        0  0.690909  0.75  0.446809   \n",
      "..      ...       ...       ...       ...      ...       ...   ...       ...   \n",
      "232     0.0  0.985915  0.491525  0.080169        1  0.418182  0.00  0.638298   \n",
      "350     1.0  0.985915  0.711864  0.300784        1  0.709091  0.75  0.744681   \n",
      "282     0.0  0.478873  0.355932  0.012658        1  0.200000  0.50  0.042553   \n",
      "586     0.0  0.352113  0.389831  0.006028        1  0.363636  0.00  0.000000   \n",
      "537     1.0  0.760563  0.457627  0.016275        0  0.145455  0.25  0.191489   \n",
      "\n",
      "     retire  gender    reside  \n",
      "414       0       1  0.000000  \n",
      "125       0       1  0.000000  \n",
      "50        0       0  0.571429  \n",
      "250       0       0  0.000000  \n",
      "365       0       1  0.000000  \n",
      "..      ...     ...       ...  \n",
      "232       0       0  0.142857  \n",
      "350       0       0  0.428571  \n",
      "282       0       1  0.285714  \n",
      "586       0       1  0.714286  \n",
      "537       0       0  0.285714  \n",
      "\n",
      "[200 rows x 11 columns]\n",
      "     custcat\n",
      "529        0\n",
      "206        2\n",
      "97         1\n",
      "28         0\n",
      "286        3\n",
      "..       ...\n",
      "620        2\n",
      "37         2\n",
      "592        2\n",
      "263        1\n",
      "317        0\n",
      "\n",
      "[800 rows x 1 columns]\n",
      "     custcat\n",
      "414        2\n",
      "125        1\n",
      "50         0\n",
      "250        0\n",
      "365        0\n",
      "..       ...\n",
      "232        1\n",
      "350        3\n",
      "282        2\n",
      "586        0\n",
      "537        2\n",
      "\n",
      "[200 rows x 1 columns]\n"
     ]
    }
   ],
   "source": [
    "import sklearn\n",
    "from sklearn.model_selection import train_test_split\n",
    "x_train,x_test,y_train,y_test=train_test_split(inputs,output,test_size=0.2)\n",
    "print(x_train)\n",
    "print(x_test)\n",
    "print(y_train)\n",
    "print(y_test)"
   ]
  },
  {
   "cell_type": "code",
   "execution_count": 16,
   "id": "cf8a8a7f",
   "metadata": {},
   "outputs": [],
   "source": [
    "# from sklearn.neighbors import KNeighborsClassifier\n",
    "# model=KNeighborsClassifier(n_neighbors=13)\n",
    "# model.fit(x_train,y_train)\n",
    "# y_pred=model.predict(x_test)\n",
    "# print(y_pred)\n",
    "# print(y_test)\n"
   ]
  },
  {
   "cell_type": "code",
   "execution_count": 17,
   "id": "98b1aa3d",
   "metadata": {},
   "outputs": [
    {
     "ename": "NameError",
     "evalue": "name 'y_pred' is not defined",
     "output_type": "error",
     "traceback": [
      "\u001b[1;31m---------------------------------------------------------------------------\u001b[0m",
      "\u001b[1;31mNameError\u001b[0m                                 Traceback (most recent call last)",
      "\u001b[1;32m~\\AppData\\Local\\Temp\\ipykernel_14932\\1120762378.py\u001b[0m in \u001b[0;36m<module>\u001b[1;34m\u001b[0m\n\u001b[0;32m      1\u001b[0m \u001b[1;32mfrom\u001b[0m \u001b[0msklearn\u001b[0m\u001b[1;33m.\u001b[0m\u001b[0mmetrics\u001b[0m \u001b[1;32mimport\u001b[0m \u001b[0mconfusion_matrix\u001b[0m\u001b[1;33m\u001b[0m\u001b[1;33m\u001b[0m\u001b[0m\n\u001b[1;32m----> 2\u001b[1;33m \u001b[0mcm\u001b[0m\u001b[1;33m=\u001b[0m\u001b[0mconfusion_matrix\u001b[0m\u001b[1;33m(\u001b[0m\u001b[0my_test\u001b[0m\u001b[1;33m,\u001b[0m\u001b[0my_pred\u001b[0m\u001b[1;33m)\u001b[0m\u001b[1;33m\u001b[0m\u001b[1;33m\u001b[0m\u001b[0m\n\u001b[0m\u001b[0;32m      3\u001b[0m \u001b[0mprint\u001b[0m\u001b[1;33m(\u001b[0m\u001b[0mcm\u001b[0m\u001b[1;33m)\u001b[0m\u001b[1;33m\u001b[0m\u001b[1;33m\u001b[0m\u001b[0m\n",
      "\u001b[1;31mNameError\u001b[0m: name 'y_pred' is not defined"
     ]
    }
   ],
   "source": [
    "from sklearn.metrics import confusion_matrix\n",
    "cm=confusion_matrix(y_test,y_pred)\n",
    "print(cm)"
   ]
  },
  {
   "cell_type": "code",
   "execution_count": 18,
   "id": "7e9e26c0",
   "metadata": {},
   "outputs": [
    {
     "ename": "NameError",
     "evalue": "name 'y_pred' is not defined",
     "output_type": "error",
     "traceback": [
      "\u001b[1;31m---------------------------------------------------------------------------\u001b[0m",
      "\u001b[1;31mNameError\u001b[0m                                 Traceback (most recent call last)",
      "\u001b[1;32m~\\AppData\\Local\\Temp\\ipykernel_14932\\170158471.py\u001b[0m in \u001b[0;36m<module>\u001b[1;34m\u001b[0m\n\u001b[0;32m      1\u001b[0m \u001b[1;32mfrom\u001b[0m \u001b[0msklearn\u001b[0m\u001b[1;33m.\u001b[0m\u001b[0mmetrics\u001b[0m \u001b[1;32mimport\u001b[0m \u001b[0maccuracy_score\u001b[0m\u001b[1;33m\u001b[0m\u001b[1;33m\u001b[0m\u001b[0m\n\u001b[1;32m----> 2\u001b[1;33m \u001b[0mprint\u001b[0m\u001b[1;33m(\u001b[0m\u001b[1;34m\"accuracy score :\"\u001b[0m\u001b[1;33m,\u001b[0m\u001b[0maccuracy_score\u001b[0m\u001b[1;33m(\u001b[0m\u001b[0my_test\u001b[0m\u001b[1;33m,\u001b[0m\u001b[0my_pred\u001b[0m\u001b[1;33m)\u001b[0m\u001b[1;33m*\u001b[0m\u001b[1;36m100\u001b[0m\u001b[1;33m,\u001b[0m\u001b[1;34m\"%\"\u001b[0m\u001b[1;33m)\u001b[0m\u001b[1;33m\u001b[0m\u001b[1;33m\u001b[0m\u001b[0m\n\u001b[0m",
      "\u001b[1;31mNameError\u001b[0m: name 'y_pred' is not defined"
     ]
    }
   ],
   "source": [
    "from sklearn.metrics import accuracy_score\n",
    "print(\"accuracy score :\",accuracy_score(y_test,y_pred)*100,\"%\")"
   ]
  },
  {
   "cell_type": "markdown",
   "id": "c5035c53",
   "metadata": {},
   "source": [
    "# SVM"
   ]
  },
  {
   "cell_type": "code",
   "execution_count": null,
   "id": "685cbc32",
   "metadata": {},
   "outputs": [],
   "source": [
    "\n",
    "\n"
   ]
  },
  {
   "cell_type": "code",
   "execution_count": 63,
   "id": "91818c7a",
   "metadata": {},
   "outputs": [
    {
     "name": "stderr",
     "output_type": "stream",
     "text": [
      "C:\\ProgramData\\Anaconda3\\lib\\site-packages\\sklearn\\preprocessing\\_label.py:115: DataConversionWarning: A column-vector y was passed when a 1d array was expected. Please change the shape of y to (n_samples, ), for example using ravel().\n",
      "  y = column_or_1d(y, warn=True)\n",
      "C:\\Users\\Sriram\\AppData\\Local\\Temp\\ipykernel_14932\\585491344.py:5: FutureWarning: In a future version of pandas all arguments of DataFrame.drop except for the argument 'labels' will be keyword-only.\n",
      "  inputs=data.drop(['custcat'],'columns')\n",
      "C:\\Users\\Sriram\\AppData\\Local\\Temp\\ipykernel_14932\\585491344.py:6: FutureWarning: In a future version of pandas all arguments of DataFrame.drop except for the argument 'labels' will be keyword-only.\n",
      "  output=data.drop(['region','tenure','age','income','marital','address','ed','employ','retire','gender','reside'],'columns')\n"
     ]
    }
   ],
   "source": [
    "import sklearn\n",
    "from sklearn.preprocessing import LabelEncoder\n",
    "le=LabelEncoder()\n",
    "data['custcat']=le.fit_transform(data[['custcat']])\n",
    "inputs=data.drop(['custcat'],'columns')\n",
    "output=data.drop(['region','tenure','age','income','marital','address','ed','employ','retire','gender','reside'],'columns')\n"
   ]
  },
  {
   "cell_type": "code",
   "execution_count": 64,
   "id": "b3e5ecfd",
   "metadata": {},
   "outputs": [
    {
     "name": "stdout",
     "output_type": "stream",
     "text": [
      "       region    tenure       age    income  marital   address        ed  \\\n",
      "0   -0.026968 -1.055125  0.184505 -0.126506        1 -0.253034  1.087753   \n",
      "1    1.198836 -1.148806 -0.691812  0.546450        1 -0.451415  1.906227   \n",
      "2    1.198836  1.521092  0.821826  0.359517        1  1.234819 -1.367671   \n",
      "3   -0.026968 -0.118319 -0.691812 -0.416251        0  0.044536 -0.549196   \n",
      "4   -0.026968 -0.586722 -0.930808 -0.444291        1 -0.253034 -1.367671   \n",
      "..        ...       ...       ...       ...      ...       ...       ...   \n",
      "995  1.198836 -1.195646 -0.213821 -0.472331        0 -1.145747  0.269278   \n",
      "996 -1.252771 -1.336167 -0.612147 -0.519064        0 -0.947366  1.906227   \n",
      "997  1.198836  1.474252  1.379482  8.098513        0  2.821863  1.906227   \n",
      "998  1.198836  1.614773  0.582830  0.088466        0  0.639678 -0.549196   \n",
      "999  1.198836  0.677967 -0.452817 -0.360172        1 -0.451415  0.269278   \n",
      "\n",
      "       employ  retire  gender    reside  \n",
      "0   -0.594123       0       0 -0.230650  \n",
      "1   -0.594123       0       0  2.556662  \n",
      "2    1.787528       0       1 -0.230650  \n",
      "3   -1.090300       0       1 -0.927478  \n",
      "4   -0.891829       0       0  1.163006  \n",
      "..        ...     ...     ...       ...  \n",
      "995 -1.090300       0       1  0.466178  \n",
      "996 -0.594123       0       1 -0.927478  \n",
      "997  2.184470       0       1 -0.927478  \n",
      "998  1.092880       0       1 -0.927478  \n",
      "999 -0.792593       0       1  0.466178  \n",
      "\n",
      "[1000 rows x 11 columns]\n"
     ]
    }
   ],
   "source": [
    "print(inputs)"
   ]
  },
  {
   "cell_type": "code",
   "execution_count": 65,
   "id": "796bb577",
   "metadata": {},
   "outputs": [
    {
     "name": "stdout",
     "output_type": "stream",
     "text": [
      "     custcat\n",
      "0          0\n",
      "1          3\n",
      "2          2\n",
      "3          0\n",
      "4          2\n",
      "..       ...\n",
      "995        0\n",
      "996        0\n",
      "997        3\n",
      "998        2\n",
      "999        1\n",
      "\n",
      "[1000 rows x 1 columns]\n"
     ]
    }
   ],
   "source": [
    "print(output)"
   ]
  },
  {
   "cell_type": "code",
   "execution_count": 23,
   "id": "2b3cdd13",
   "metadata": {},
   "outputs": [
    {
     "name": "stderr",
     "output_type": "stream",
     "text": [
      "C:\\ProgramData\\Anaconda3\\lib\\site-packages\\sklearn\\utils\\validation.py:993: DataConversionWarning: A column-vector y was passed when a 1d array was expected. Please change the shape of y to (n_samples, ), for example using ravel().\n",
      "  y = column_or_1d(y, warn=True)\n"
     ]
    },
    {
     "data": {
      "text/plain": [
       "SVC()"
      ]
     },
     "execution_count": 23,
     "metadata": {},
     "output_type": "execute_result"
    }
   ],
   "source": []
  },
  {
   "cell_type": "code",
   "execution_count": 24,
   "id": "be0f880a",
   "metadata": {},
   "outputs": [
    {
     "ename": "NameError",
     "evalue": "name 'y_pred' is not defined",
     "output_type": "error",
     "traceback": [
      "\u001b[1;31m---------------------------------------------------------------------------\u001b[0m",
      "\u001b[1;31mNameError\u001b[0m                                 Traceback (most recent call last)",
      "\u001b[1;32m~\\AppData\\Local\\Temp\\ipykernel_14932\\1120762378.py\u001b[0m in \u001b[0;36m<module>\u001b[1;34m\u001b[0m\n\u001b[0;32m      1\u001b[0m \u001b[1;32mfrom\u001b[0m \u001b[0msklearn\u001b[0m\u001b[1;33m.\u001b[0m\u001b[0mmetrics\u001b[0m \u001b[1;32mimport\u001b[0m \u001b[0mconfusion_matrix\u001b[0m\u001b[1;33m\u001b[0m\u001b[1;33m\u001b[0m\u001b[0m\n\u001b[1;32m----> 2\u001b[1;33m \u001b[0mcm\u001b[0m\u001b[1;33m=\u001b[0m\u001b[0mconfusion_matrix\u001b[0m\u001b[1;33m(\u001b[0m\u001b[0my_test\u001b[0m\u001b[1;33m,\u001b[0m\u001b[0my_pred\u001b[0m\u001b[1;33m)\u001b[0m\u001b[1;33m\u001b[0m\u001b[1;33m\u001b[0m\u001b[0m\n\u001b[0m\u001b[0;32m      3\u001b[0m \u001b[0mprint\u001b[0m\u001b[1;33m(\u001b[0m\u001b[0mcm\u001b[0m\u001b[1;33m)\u001b[0m\u001b[1;33m\u001b[0m\u001b[1;33m\u001b[0m\u001b[0m\n",
      "\u001b[1;31mNameError\u001b[0m: name 'y_pred' is not defined"
     ]
    }
   ],
   "source": [
    "from sklearn.metrics import confusion_matrix\n",
    "cm=confusion_matrix(y_test,y_pred)\n",
    "print(cm)"
   ]
  },
  {
   "cell_type": "code",
   "execution_count": 25,
   "id": "fea550d8",
   "metadata": {},
   "outputs": [
    {
     "ename": "NameError",
     "evalue": "name 'y_pred' is not defined",
     "output_type": "error",
     "traceback": [
      "\u001b[1;31m---------------------------------------------------------------------------\u001b[0m",
      "\u001b[1;31mNameError\u001b[0m                                 Traceback (most recent call last)",
      "\u001b[1;32m~\\AppData\\Local\\Temp\\ipykernel_14932\\170158471.py\u001b[0m in \u001b[0;36m<module>\u001b[1;34m\u001b[0m\n\u001b[0;32m      1\u001b[0m \u001b[1;32mfrom\u001b[0m \u001b[0msklearn\u001b[0m\u001b[1;33m.\u001b[0m\u001b[0mmetrics\u001b[0m \u001b[1;32mimport\u001b[0m \u001b[0maccuracy_score\u001b[0m\u001b[1;33m\u001b[0m\u001b[1;33m\u001b[0m\u001b[0m\n\u001b[1;32m----> 2\u001b[1;33m \u001b[0mprint\u001b[0m\u001b[1;33m(\u001b[0m\u001b[1;34m\"accuracy score :\"\u001b[0m\u001b[1;33m,\u001b[0m\u001b[0maccuracy_score\u001b[0m\u001b[1;33m(\u001b[0m\u001b[0my_test\u001b[0m\u001b[1;33m,\u001b[0m\u001b[0my_pred\u001b[0m\u001b[1;33m)\u001b[0m\u001b[1;33m*\u001b[0m\u001b[1;36m100\u001b[0m\u001b[1;33m,\u001b[0m\u001b[1;34m\"%\"\u001b[0m\u001b[1;33m)\u001b[0m\u001b[1;33m\u001b[0m\u001b[1;33m\u001b[0m\u001b[0m\n\u001b[0m",
      "\u001b[1;31mNameError\u001b[0m: name 'y_pred' is not defined"
     ]
    }
   ],
   "source": [
    "from sklearn.metrics import accuracy_score\n",
    "print(\"accuracy score :\",accuracy_score(y_test,y_pred)*100,\"%\")"
   ]
  },
  {
   "cell_type": "code",
   "execution_count": 26,
   "id": "baac40b7",
   "metadata": {},
   "outputs": [
    {
     "name": "stdout",
     "output_type": "stream",
     "text": [
      "3\n"
     ]
    },
    {
     "name": "stderr",
     "output_type": "stream",
     "text": [
      "C:\\ProgramData\\Anaconda3\\lib\\site-packages\\sklearn\\base.py:450: UserWarning: X does not have valid feature names, but SVC was fitted with feature names\n",
      "  warnings.warn(\n"
     ]
    }
   ],
   "source": [
    "res=model.predict([[ 0.5,0.169014,0.440678,0.033153,1,0.163636,0.75,0.106383,0,0,0.142857]])\n",
    "print(res[0])"
   ]
  },
  {
   "cell_type": "code",
   "execution_count": 27,
   "id": "12cb0924",
   "metadata": {},
   "outputs": [],
   "source": [
    "from sklearn.preprocessing import StandardScaler\n",
    "scaler=StandardScaler()\n",
    "scaler.fit(data[['region']])\n",
    "data['region']=scaler.transform(data[['region']])\n",
    "scaler.fit(data[['tenure']])\n",
    "data['tenure']=scaler.transform(data[['tenure']])\n",
    "scaler.fit(data[['age']])\n",
    "data['age']=scaler.transform(data[['age']])\n",
    "scaler.fit(data[['income']])\n",
    "data['income']=scaler.transform(data[['income']])\n",
    "scaler.fit(data[['address']])\n",
    "data['address']=scaler.transform(data[['address']])\n",
    "scaler.fit(data[['ed']])\n",
    "data['ed']=scaler.transform(data[['ed']])\n",
    "scaler.fit(data[['employ']])\n",
    "data['employ']=scaler.transform(data[['employ']])\n",
    "scaler.fit(data[['reside']])\n",
    "data['reside']=scaler.transform(data[['reside']])"
   ]
  },
  {
   "cell_type": "code",
   "execution_count": 28,
   "id": "cfc2a508",
   "metadata": {},
   "outputs": [
    {
     "name": "stderr",
     "output_type": "stream",
     "text": [
      "C:\\ProgramData\\Anaconda3\\lib\\site-packages\\sklearn\\preprocessing\\_label.py:115: DataConversionWarning: A column-vector y was passed when a 1d array was expected. Please change the shape of y to (n_samples, ), for example using ravel().\n",
      "  y = column_or_1d(y, warn=True)\n",
      "C:\\Users\\Sriram\\AppData\\Local\\Temp\\ipykernel_14932\\585491344.py:5: FutureWarning: In a future version of pandas all arguments of DataFrame.drop except for the argument 'labels' will be keyword-only.\n",
      "  inputs=data.drop(['custcat'],'columns')\n",
      "C:\\Users\\Sriram\\AppData\\Local\\Temp\\ipykernel_14932\\585491344.py:6: FutureWarning: In a future version of pandas all arguments of DataFrame.drop except for the argument 'labels' will be keyword-only.\n",
      "  output=data.drop(['region','tenure','age','income','marital','address','ed','employ','retire','gender','reside'],'columns')\n"
     ]
    }
   ],
   "source": [
    "import sklearn\n",
    "from sklearn.preprocessing import LabelEncoder\n",
    "le=LabelEncoder()\n",
    "data['custcat']=le.fit_transform(data[['custcat']])\n",
    "inputs=data.drop(['custcat'],'columns')\n",
    "output=data.drop(['region','tenure','age','income','marital','address','ed','employ','retire','gender','reside'],'columns')\n"
   ]
  },
  {
   "cell_type": "code",
   "execution_count": 29,
   "id": "deeaa09d",
   "metadata": {},
   "outputs": [
    {
     "name": "stdout",
     "output_type": "stream",
     "text": [
      "       region    tenure       age    income  marital   address        ed  \\\n",
      "0   -0.026968 -1.055125  0.184505 -0.126506        1 -0.253034  1.087753   \n",
      "1    1.198836 -1.148806 -0.691812  0.546450        1 -0.451415  1.906227   \n",
      "2    1.198836  1.521092  0.821826  0.359517        1  1.234819 -1.367671   \n",
      "3   -0.026968 -0.118319 -0.691812 -0.416251        0  0.044536 -0.549196   \n",
      "4   -0.026968 -0.586722 -0.930808 -0.444291        1 -0.253034 -1.367671   \n",
      "..        ...       ...       ...       ...      ...       ...       ...   \n",
      "995  1.198836 -1.195646 -0.213821 -0.472331        0 -1.145747  0.269278   \n",
      "996 -1.252771 -1.336167 -0.612147 -0.519064        0 -0.947366  1.906227   \n",
      "997  1.198836  1.474252  1.379482  8.098513        0  2.821863  1.906227   \n",
      "998  1.198836  1.614773  0.582830  0.088466        0  0.639678 -0.549196   \n",
      "999  1.198836  0.677967 -0.452817 -0.360172        1 -0.451415  0.269278   \n",
      "\n",
      "       employ  retire  gender    reside  \n",
      "0   -0.594123       0       0 -0.230650  \n",
      "1   -0.594123       0       0  2.556662  \n",
      "2    1.787528       0       1 -0.230650  \n",
      "3   -1.090300       0       1 -0.927478  \n",
      "4   -0.891829       0       0  1.163006  \n",
      "..        ...     ...     ...       ...  \n",
      "995 -1.090300       0       1  0.466178  \n",
      "996 -0.594123       0       1 -0.927478  \n",
      "997  2.184470       0       1 -0.927478  \n",
      "998  1.092880       0       1 -0.927478  \n",
      "999 -0.792593       0       1  0.466178  \n",
      "\n",
      "[1000 rows x 11 columns]\n"
     ]
    }
   ],
   "source": [
    "print(inputs)"
   ]
  },
  {
   "cell_type": "code",
   "execution_count": 30,
   "id": "9e5a9aae",
   "metadata": {},
   "outputs": [
    {
     "name": "stdout",
     "output_type": "stream",
     "text": [
      "     custcat\n",
      "0          0\n",
      "1          3\n",
      "2          2\n",
      "3          0\n",
      "4          2\n",
      "..       ...\n",
      "995        0\n",
      "996        0\n",
      "997        3\n",
      "998        2\n",
      "999        1\n",
      "\n",
      "[1000 rows x 1 columns]\n"
     ]
    }
   ],
   "source": [
    "print(output)"
   ]
  },
  {
   "cell_type": "code",
   "execution_count": 31,
   "id": "119317fd",
   "metadata": {},
   "outputs": [],
   "source": [
    "# from sklearn.svm import SVC\n",
    "# model=SVC()\n",
    "# model.fit(x_train,y_train)\n",
    "# y_pred=model.predict(x_test)\n",
    "# print(y_pred)\n",
    "# print(y_test)"
   ]
  },
  {
   "cell_type": "code",
   "execution_count": 32,
   "id": "776771ac",
   "metadata": {},
   "outputs": [
    {
     "ename": "NameError",
     "evalue": "name 'y_pred' is not defined",
     "output_type": "error",
     "traceback": [
      "\u001b[1;31m---------------------------------------------------------------------------\u001b[0m",
      "\u001b[1;31mNameError\u001b[0m                                 Traceback (most recent call last)",
      "\u001b[1;32m~\\AppData\\Local\\Temp\\ipykernel_14932\\1120762378.py\u001b[0m in \u001b[0;36m<module>\u001b[1;34m\u001b[0m\n\u001b[0;32m      1\u001b[0m \u001b[1;32mfrom\u001b[0m \u001b[0msklearn\u001b[0m\u001b[1;33m.\u001b[0m\u001b[0mmetrics\u001b[0m \u001b[1;32mimport\u001b[0m \u001b[0mconfusion_matrix\u001b[0m\u001b[1;33m\u001b[0m\u001b[1;33m\u001b[0m\u001b[0m\n\u001b[1;32m----> 2\u001b[1;33m \u001b[0mcm\u001b[0m\u001b[1;33m=\u001b[0m\u001b[0mconfusion_matrix\u001b[0m\u001b[1;33m(\u001b[0m\u001b[0my_test\u001b[0m\u001b[1;33m,\u001b[0m\u001b[0my_pred\u001b[0m\u001b[1;33m)\u001b[0m\u001b[1;33m\u001b[0m\u001b[1;33m\u001b[0m\u001b[0m\n\u001b[0m\u001b[0;32m      3\u001b[0m \u001b[0mprint\u001b[0m\u001b[1;33m(\u001b[0m\u001b[0mcm\u001b[0m\u001b[1;33m)\u001b[0m\u001b[1;33m\u001b[0m\u001b[1;33m\u001b[0m\u001b[0m\n",
      "\u001b[1;31mNameError\u001b[0m: name 'y_pred' is not defined"
     ]
    }
   ],
   "source": [
    "from sklearn.metrics import confusion_matrix\n",
    "cm=confusion_matrix(y_test,y_pred)\n",
    "print(cm)"
   ]
  },
  {
   "cell_type": "code",
   "execution_count": 33,
   "id": "58e0a538",
   "metadata": {},
   "outputs": [
    {
     "ename": "NameError",
     "evalue": "name 'y_pred' is not defined",
     "output_type": "error",
     "traceback": [
      "\u001b[1;31m---------------------------------------------------------------------------\u001b[0m",
      "\u001b[1;31mNameError\u001b[0m                                 Traceback (most recent call last)",
      "\u001b[1;32m~\\AppData\\Local\\Temp\\ipykernel_14932\\170158471.py\u001b[0m in \u001b[0;36m<module>\u001b[1;34m\u001b[0m\n\u001b[0;32m      1\u001b[0m \u001b[1;32mfrom\u001b[0m \u001b[0msklearn\u001b[0m\u001b[1;33m.\u001b[0m\u001b[0mmetrics\u001b[0m \u001b[1;32mimport\u001b[0m \u001b[0maccuracy_score\u001b[0m\u001b[1;33m\u001b[0m\u001b[1;33m\u001b[0m\u001b[0m\n\u001b[1;32m----> 2\u001b[1;33m \u001b[0mprint\u001b[0m\u001b[1;33m(\u001b[0m\u001b[1;34m\"accuracy score :\"\u001b[0m\u001b[1;33m,\u001b[0m\u001b[0maccuracy_score\u001b[0m\u001b[1;33m(\u001b[0m\u001b[0my_test\u001b[0m\u001b[1;33m,\u001b[0m\u001b[0my_pred\u001b[0m\u001b[1;33m)\u001b[0m\u001b[1;33m*\u001b[0m\u001b[1;36m100\u001b[0m\u001b[1;33m,\u001b[0m\u001b[1;34m\"%\"\u001b[0m\u001b[1;33m)\u001b[0m\u001b[1;33m\u001b[0m\u001b[1;33m\u001b[0m\u001b[0m\n\u001b[0m",
      "\u001b[1;31mNameError\u001b[0m: name 'y_pred' is not defined"
     ]
    }
   ],
   "source": [
    "from sklearn.metrics import accuracy_score\n",
    "print(\"accuracy score :\",accuracy_score(y_test,y_pred)*100,\"%\")"
   ]
  },
  {
   "cell_type": "markdown",
   "id": "556865c7",
   "metadata": {},
   "source": [
    "# Random forest\n"
   ]
  },
  {
   "cell_type": "code",
   "execution_count": 34,
   "id": "7d40b7e0",
   "metadata": {},
   "outputs": [],
   "source": [
    "from sklearn.preprocessing import MinMaxScaler\n",
    "scaler=MinMaxScaler()\n",
    "scaler.fit(data[['region']])\n",
    "data['region']=scaler.transform(data[['region']])\n",
    "scaler.fit(data[['tenure']])\n",
    "data['tenure']=scaler.transform(data[['tenure']])\n",
    "scaler.fit(data[['age']])\n",
    "data['age']=scaler.transform(data[['age']])\n",
    "scaler.fit(data[['income']])\n",
    "data['income']=scaler.transform(data[['income']])\n",
    "scaler.fit(data[['address']])\n",
    "data['address']=scaler.transform(data[['address']])\n",
    "scaler.fit(data[['ed']])\n",
    "data['ed']=scaler.transform(data[['ed']])\n",
    "scaler.fit(data[['employ']])\n",
    "data['employ']=scaler.transform(data[['employ']])\n",
    "scaler.fit(data[['reside']])\n",
    "data['reside']=scaler.transform(data[['reside']])"
   ]
  },
  {
   "cell_type": "code",
   "execution_count": 35,
   "id": "edc789dd",
   "metadata": {},
   "outputs": [
    {
     "name": "stderr",
     "output_type": "stream",
     "text": [
      "C:\\ProgramData\\Anaconda3\\lib\\site-packages\\sklearn\\preprocessing\\_label.py:115: DataConversionWarning: A column-vector y was passed when a 1d array was expected. Please change the shape of y to (n_samples, ), for example using ravel().\n",
      "  y = column_or_1d(y, warn=True)\n",
      "C:\\Users\\Sriram\\AppData\\Local\\Temp\\ipykernel_14932\\585491344.py:5: FutureWarning: In a future version of pandas all arguments of DataFrame.drop except for the argument 'labels' will be keyword-only.\n",
      "  inputs=data.drop(['custcat'],'columns')\n",
      "C:\\Users\\Sriram\\AppData\\Local\\Temp\\ipykernel_14932\\585491344.py:6: FutureWarning: In a future version of pandas all arguments of DataFrame.drop except for the argument 'labels' will be keyword-only.\n",
      "  output=data.drop(['region','tenure','age','income','marital','address','ed','employ','retire','gender','reside'],'columns')\n"
     ]
    }
   ],
   "source": [
    "import sklearn\n",
    "from sklearn.preprocessing import LabelEncoder\n",
    "le=LabelEncoder()\n",
    "data['custcat']=le.fit_transform(data[['custcat']])\n",
    "inputs=data.drop(['custcat'],'columns')\n",
    "output=data.drop(['region','tenure','age','income','marital','address','ed','employ','retire','gender','reside'],'columns')\n"
   ]
  },
  {
   "cell_type": "code",
   "execution_count": 36,
   "id": "3abab13d",
   "metadata": {},
   "outputs": [
    {
     "name": "stdout",
     "output_type": "stream",
     "text": [
      "     region    tenure       age    income  marital   address    ed    employ  \\\n",
      "0       0.5  0.169014  0.440678  0.033153        1  0.163636  0.75  0.106383   \n",
      "1       1.0  0.140845  0.254237  0.076552        1  0.127273  1.00  0.106383   \n",
      "2       1.0  0.943662  0.576271  0.064497        1  0.436364  0.00  0.617021   \n",
      "3       0.5  0.450704  0.254237  0.014467        0  0.218182  0.25  0.000000   \n",
      "4       0.5  0.309859  0.203390  0.012658        1  0.163636  0.00  0.042553   \n",
      "..      ...       ...       ...       ...      ...       ...   ...       ...   \n",
      "995     1.0  0.126761  0.355932  0.010850        0  0.000000  0.50  0.000000   \n",
      "996     0.0  0.084507  0.271186  0.007836        0  0.036364  1.00  0.106383   \n",
      "997     1.0  0.929577  0.694915  0.563593        0  0.727273  1.00  0.702128   \n",
      "998     1.0  0.971831  0.525424  0.047016        0  0.327273  0.25  0.468085   \n",
      "999     1.0  0.690141  0.305085  0.018083        1  0.127273  0.50  0.063830   \n",
      "\n",
      "     retire  gender    reside  \n",
      "0         0       0  0.142857  \n",
      "1         0       0  0.714286  \n",
      "2         0       1  0.142857  \n",
      "3         0       1  0.000000  \n",
      "4         0       0  0.428571  \n",
      "..      ...     ...       ...  \n",
      "995       0       1  0.285714  \n",
      "996       0       1  0.000000  \n",
      "997       0       1  0.000000  \n",
      "998       0       1  0.000000  \n",
      "999       0       1  0.285714  \n",
      "\n",
      "[1000 rows x 11 columns]\n"
     ]
    }
   ],
   "source": [
    "print(inputs)"
   ]
  },
  {
   "cell_type": "code",
   "execution_count": 37,
   "id": "a33e28d9",
   "metadata": {},
   "outputs": [
    {
     "name": "stdout",
     "output_type": "stream",
     "text": [
      "     custcat\n",
      "0          0\n",
      "1          3\n",
      "2          2\n",
      "3          0\n",
      "4          2\n",
      "..       ...\n",
      "995        0\n",
      "996        0\n",
      "997        3\n",
      "998        2\n",
      "999        1\n",
      "\n",
      "[1000 rows x 1 columns]\n"
     ]
    }
   ],
   "source": [
    "print(output)"
   ]
  },
  {
   "cell_type": "code",
   "execution_count": 38,
   "id": "bec4fd7a",
   "metadata": {},
   "outputs": [],
   "source": [
    "# import sklearn\n",
    "# from sklearn.model_selection import train_test_split\n",
    "# x_train,x_test,y_train,y_test=train_test_split(inputs,output,test_size=0.2)\n",
    "# from sklearn.ensemble import RandomForestClassifier\n",
    "# model=RandomForestClassifier(n_estimators=300) #no of decision trees\n",
    "# model.fit(x_train,y_train)\n",
    "# y_pred=model.predict(x_test)\n",
    "# print(y_pred)"
   ]
  },
  {
   "cell_type": "code",
   "execution_count": 39,
   "id": "8267173a",
   "metadata": {},
   "outputs": [
    {
     "ename": "NameError",
     "evalue": "name 'y_pred' is not defined",
     "output_type": "error",
     "traceback": [
      "\u001b[1;31m---------------------------------------------------------------------------\u001b[0m",
      "\u001b[1;31mNameError\u001b[0m                                 Traceback (most recent call last)",
      "\u001b[1;32m~\\AppData\\Local\\Temp\\ipykernel_14932\\1120762378.py\u001b[0m in \u001b[0;36m<module>\u001b[1;34m\u001b[0m\n\u001b[0;32m      1\u001b[0m \u001b[1;32mfrom\u001b[0m \u001b[0msklearn\u001b[0m\u001b[1;33m.\u001b[0m\u001b[0mmetrics\u001b[0m \u001b[1;32mimport\u001b[0m \u001b[0mconfusion_matrix\u001b[0m\u001b[1;33m\u001b[0m\u001b[1;33m\u001b[0m\u001b[0m\n\u001b[1;32m----> 2\u001b[1;33m \u001b[0mcm\u001b[0m\u001b[1;33m=\u001b[0m\u001b[0mconfusion_matrix\u001b[0m\u001b[1;33m(\u001b[0m\u001b[0my_test\u001b[0m\u001b[1;33m,\u001b[0m\u001b[0my_pred\u001b[0m\u001b[1;33m)\u001b[0m\u001b[1;33m\u001b[0m\u001b[1;33m\u001b[0m\u001b[0m\n\u001b[0m\u001b[0;32m      3\u001b[0m \u001b[0mprint\u001b[0m\u001b[1;33m(\u001b[0m\u001b[0mcm\u001b[0m\u001b[1;33m)\u001b[0m\u001b[1;33m\u001b[0m\u001b[1;33m\u001b[0m\u001b[0m\n",
      "\u001b[1;31mNameError\u001b[0m: name 'y_pred' is not defined"
     ]
    }
   ],
   "source": [
    "from sklearn.metrics import confusion_matrix\n",
    "cm=confusion_matrix(y_test,y_pred)\n",
    "print(cm)"
   ]
  },
  {
   "cell_type": "code",
   "execution_count": 40,
   "id": "a3a538c3",
   "metadata": {},
   "outputs": [
    {
     "ename": "NameError",
     "evalue": "name 'y_pred' is not defined",
     "output_type": "error",
     "traceback": [
      "\u001b[1;31m---------------------------------------------------------------------------\u001b[0m",
      "\u001b[1;31mNameError\u001b[0m                                 Traceback (most recent call last)",
      "\u001b[1;32m~\\AppData\\Local\\Temp\\ipykernel_14932\\170158471.py\u001b[0m in \u001b[0;36m<module>\u001b[1;34m\u001b[0m\n\u001b[0;32m      1\u001b[0m \u001b[1;32mfrom\u001b[0m \u001b[0msklearn\u001b[0m\u001b[1;33m.\u001b[0m\u001b[0mmetrics\u001b[0m \u001b[1;32mimport\u001b[0m \u001b[0maccuracy_score\u001b[0m\u001b[1;33m\u001b[0m\u001b[1;33m\u001b[0m\u001b[0m\n\u001b[1;32m----> 2\u001b[1;33m \u001b[0mprint\u001b[0m\u001b[1;33m(\u001b[0m\u001b[1;34m\"accuracy score :\"\u001b[0m\u001b[1;33m,\u001b[0m\u001b[0maccuracy_score\u001b[0m\u001b[1;33m(\u001b[0m\u001b[0my_test\u001b[0m\u001b[1;33m,\u001b[0m\u001b[0my_pred\u001b[0m\u001b[1;33m)\u001b[0m\u001b[1;33m*\u001b[0m\u001b[1;36m100\u001b[0m\u001b[1;33m,\u001b[0m\u001b[1;34m\"%\"\u001b[0m\u001b[1;33m)\u001b[0m\u001b[1;33m\u001b[0m\u001b[1;33m\u001b[0m\u001b[0m\n\u001b[0m",
      "\u001b[1;31mNameError\u001b[0m: name 'y_pred' is not defined"
     ]
    }
   ],
   "source": [
    "from sklearn.metrics import accuracy_score\n",
    "print(\"accuracy score :\",accuracy_score(y_test,y_pred)*100,\"%\")"
   ]
  },
  {
   "cell_type": "code",
   "execution_count": 41,
   "id": "6f3a99bd",
   "metadata": {},
   "outputs": [],
   "source": [
    "from sklearn.preprocessing import StandardScaler\n",
    "scaler=StandardScaler()\n",
    "scaler.fit(data[['region']])\n",
    "data['region']=scaler.transform(data[['region']])\n",
    "scaler.fit(data[['tenure']])\n",
    "data['tenure']=scaler.transform(data[['tenure']])\n",
    "scaler.fit(data[['age']])\n",
    "data['age']=scaler.transform(data[['age']])\n",
    "scaler.fit(data[['income']])\n",
    "data['income']=scaler.transform(data[['income']])\n",
    "scaler.fit(data[['address']])\n",
    "data['address']=scaler.transform(data[['address']])\n",
    "scaler.fit(data[['ed']])\n",
    "data['ed']=scaler.transform(data[['ed']])\n",
    "scaler.fit(data[['employ']])\n",
    "data['employ']=scaler.transform(data[['employ']])\n",
    "scaler.fit(data[['reside']])\n",
    "data['reside']=scaler.transform(data[['reside']])"
   ]
  },
  {
   "cell_type": "code",
   "execution_count": 42,
   "id": "f3a8dc02",
   "metadata": {},
   "outputs": [
    {
     "name": "stderr",
     "output_type": "stream",
     "text": [
      "C:\\ProgramData\\Anaconda3\\lib\\site-packages\\sklearn\\preprocessing\\_label.py:115: DataConversionWarning: A column-vector y was passed when a 1d array was expected. Please change the shape of y to (n_samples, ), for example using ravel().\n",
      "  y = column_or_1d(y, warn=True)\n",
      "C:\\Users\\Sriram\\AppData\\Local\\Temp\\ipykernel_14932\\585491344.py:5: FutureWarning: In a future version of pandas all arguments of DataFrame.drop except for the argument 'labels' will be keyword-only.\n",
      "  inputs=data.drop(['custcat'],'columns')\n",
      "C:\\Users\\Sriram\\AppData\\Local\\Temp\\ipykernel_14932\\585491344.py:6: FutureWarning: In a future version of pandas all arguments of DataFrame.drop except for the argument 'labels' will be keyword-only.\n",
      "  output=data.drop(['region','tenure','age','income','marital','address','ed','employ','retire','gender','reside'],'columns')\n"
     ]
    }
   ],
   "source": [
    "import sklearn\n",
    "from sklearn.preprocessing import LabelEncoder\n",
    "le=LabelEncoder()\n",
    "data['custcat']=le.fit_transform(data[['custcat']])\n",
    "inputs=data.drop(['custcat'],'columns')\n",
    "output=data.drop(['region','tenure','age','income','marital','address','ed','employ','retire','gender','reside'],'columns')\n"
   ]
  },
  {
   "cell_type": "code",
   "execution_count": 43,
   "id": "380dd6df",
   "metadata": {},
   "outputs": [
    {
     "name": "stdout",
     "output_type": "stream",
     "text": [
      "       region    tenure       age    income  marital   address        ed  \\\n",
      "0   -0.026968 -1.055125  0.184505 -0.126506        1 -0.253034  1.087753   \n",
      "1    1.198836 -1.148806 -0.691812  0.546450        1 -0.451415  1.906227   \n",
      "2    1.198836  1.521092  0.821826  0.359517        1  1.234819 -1.367671   \n",
      "3   -0.026968 -0.118319 -0.691812 -0.416251        0  0.044536 -0.549196   \n",
      "4   -0.026968 -0.586722 -0.930808 -0.444291        1 -0.253034 -1.367671   \n",
      "..        ...       ...       ...       ...      ...       ...       ...   \n",
      "995  1.198836 -1.195646 -0.213821 -0.472331        0 -1.145747  0.269278   \n",
      "996 -1.252771 -1.336167 -0.612147 -0.519064        0 -0.947366  1.906227   \n",
      "997  1.198836  1.474252  1.379482  8.098513        0  2.821863  1.906227   \n",
      "998  1.198836  1.614773  0.582830  0.088466        0  0.639678 -0.549196   \n",
      "999  1.198836  0.677967 -0.452817 -0.360172        1 -0.451415  0.269278   \n",
      "\n",
      "       employ  retire  gender    reside  \n",
      "0   -0.594123       0       0 -0.230650  \n",
      "1   -0.594123       0       0  2.556662  \n",
      "2    1.787528       0       1 -0.230650  \n",
      "3   -1.090300       0       1 -0.927478  \n",
      "4   -0.891829       0       0  1.163006  \n",
      "..        ...     ...     ...       ...  \n",
      "995 -1.090300       0       1  0.466178  \n",
      "996 -0.594123       0       1 -0.927478  \n",
      "997  2.184470       0       1 -0.927478  \n",
      "998  1.092880       0       1 -0.927478  \n",
      "999 -0.792593       0       1  0.466178  \n",
      "\n",
      "[1000 rows x 11 columns]\n"
     ]
    }
   ],
   "source": [
    "print(inputs)"
   ]
  },
  {
   "cell_type": "code",
   "execution_count": 44,
   "id": "ce839e83",
   "metadata": {},
   "outputs": [
    {
     "name": "stdout",
     "output_type": "stream",
     "text": [
      "     custcat\n",
      "0          0\n",
      "1          3\n",
      "2          2\n",
      "3          0\n",
      "4          2\n",
      "..       ...\n",
      "995        0\n",
      "996        0\n",
      "997        3\n",
      "998        2\n",
      "999        1\n",
      "\n",
      "[1000 rows x 1 columns]\n"
     ]
    }
   ],
   "source": [
    "print(output)"
   ]
  },
  {
   "cell_type": "code",
   "execution_count": 45,
   "id": "98f9e199",
   "metadata": {},
   "outputs": [],
   "source": [
    "# import sklearn\n",
    "# from sklearn.model_selection import train_test_split\n",
    "# x_train,x_test,y_train,y_test=train_test_split(inputs,output,test_size=0.2)\n",
    "# from sklearn.ensemble import RandomForestClassifier\n",
    "# model=RandomForestClassifier(n_estimators=300) #no of decision trees\n",
    "# model.fit(x_train,y_train)\n",
    "# y_pred=model.predict(x_test)\n",
    "# print(y_pred)"
   ]
  },
  {
   "cell_type": "code",
   "execution_count": 46,
   "id": "a27387a6",
   "metadata": {},
   "outputs": [
    {
     "ename": "NameError",
     "evalue": "name 'y_pred' is not defined",
     "output_type": "error",
     "traceback": [
      "\u001b[1;31m---------------------------------------------------------------------------\u001b[0m",
      "\u001b[1;31mNameError\u001b[0m                                 Traceback (most recent call last)",
      "\u001b[1;32m~\\AppData\\Local\\Temp\\ipykernel_14932\\1120762378.py\u001b[0m in \u001b[0;36m<module>\u001b[1;34m\u001b[0m\n\u001b[0;32m      1\u001b[0m \u001b[1;32mfrom\u001b[0m \u001b[0msklearn\u001b[0m\u001b[1;33m.\u001b[0m\u001b[0mmetrics\u001b[0m \u001b[1;32mimport\u001b[0m \u001b[0mconfusion_matrix\u001b[0m\u001b[1;33m\u001b[0m\u001b[1;33m\u001b[0m\u001b[0m\n\u001b[1;32m----> 2\u001b[1;33m \u001b[0mcm\u001b[0m\u001b[1;33m=\u001b[0m\u001b[0mconfusion_matrix\u001b[0m\u001b[1;33m(\u001b[0m\u001b[0my_test\u001b[0m\u001b[1;33m,\u001b[0m\u001b[0my_pred\u001b[0m\u001b[1;33m)\u001b[0m\u001b[1;33m\u001b[0m\u001b[1;33m\u001b[0m\u001b[0m\n\u001b[0m\u001b[0;32m      3\u001b[0m \u001b[0mprint\u001b[0m\u001b[1;33m(\u001b[0m\u001b[0mcm\u001b[0m\u001b[1;33m)\u001b[0m\u001b[1;33m\u001b[0m\u001b[1;33m\u001b[0m\u001b[0m\n",
      "\u001b[1;31mNameError\u001b[0m: name 'y_pred' is not defined"
     ]
    }
   ],
   "source": [
    "from sklearn.metrics import confusion_matrix\n",
    "cm=confusion_matrix(y_test,y_pred)\n",
    "print(cm)"
   ]
  },
  {
   "cell_type": "code",
   "execution_count": 47,
   "id": "106ba2ec",
   "metadata": {},
   "outputs": [
    {
     "ename": "NameError",
     "evalue": "name 'y_pred' is not defined",
     "output_type": "error",
     "traceback": [
      "\u001b[1;31m---------------------------------------------------------------------------\u001b[0m",
      "\u001b[1;31mNameError\u001b[0m                                 Traceback (most recent call last)",
      "\u001b[1;32m~\\AppData\\Local\\Temp\\ipykernel_14932\\170158471.py\u001b[0m in \u001b[0;36m<module>\u001b[1;34m\u001b[0m\n\u001b[0;32m      1\u001b[0m \u001b[1;32mfrom\u001b[0m \u001b[0msklearn\u001b[0m\u001b[1;33m.\u001b[0m\u001b[0mmetrics\u001b[0m \u001b[1;32mimport\u001b[0m \u001b[0maccuracy_score\u001b[0m\u001b[1;33m\u001b[0m\u001b[1;33m\u001b[0m\u001b[0m\n\u001b[1;32m----> 2\u001b[1;33m \u001b[0mprint\u001b[0m\u001b[1;33m(\u001b[0m\u001b[1;34m\"accuracy score :\"\u001b[0m\u001b[1;33m,\u001b[0m\u001b[0maccuracy_score\u001b[0m\u001b[1;33m(\u001b[0m\u001b[0my_test\u001b[0m\u001b[1;33m,\u001b[0m\u001b[0my_pred\u001b[0m\u001b[1;33m)\u001b[0m\u001b[1;33m*\u001b[0m\u001b[1;36m100\u001b[0m\u001b[1;33m,\u001b[0m\u001b[1;34m\"%\"\u001b[0m\u001b[1;33m)\u001b[0m\u001b[1;33m\u001b[0m\u001b[1;33m\u001b[0m\u001b[0m\n\u001b[0m",
      "\u001b[1;31mNameError\u001b[0m: name 'y_pred' is not defined"
     ]
    }
   ],
   "source": [
    "from sklearn.metrics import accuracy_score\n",
    "print(\"accuracy score :\",accuracy_score(y_test,y_pred)*100,\"%\")"
   ]
  },
  {
   "cell_type": "markdown",
   "id": "147f7210",
   "metadata": {},
   "source": [
    "# Decision Tree"
   ]
  },
  {
   "cell_type": "code",
   "execution_count": 48,
   "id": "4e1320ca",
   "metadata": {},
   "outputs": [],
   "source": [
    "from sklearn.preprocessing import StandardScaler\n",
    "scaler=StandardScaler()\n",
    "scaler.fit(data[['region']])\n",
    "data['region']=scaler.transform(data[['region']])\n",
    "scaler.fit(data[['tenure']])\n",
    "data['tenure']=scaler.transform(data[['tenure']])\n",
    "scaler.fit(data[['age']])\n",
    "data['age']=scaler.transform(data[['age']])\n",
    "scaler.fit(data[['income']])\n",
    "data['income']=scaler.transform(data[['income']])\n",
    "scaler.fit(data[['address']])\n",
    "data['address']=scaler.transform(data[['address']])\n",
    "scaler.fit(data[['ed']])\n",
    "data['ed']=scaler.transform(data[['ed']])\n",
    "scaler.fit(data[['employ']])\n",
    "data['employ']=scaler.transform(data[['employ']])\n",
    "scaler.fit(data[['reside']])\n",
    "data['reside']=scaler.transform(data[['reside']])"
   ]
  },
  {
   "cell_type": "code",
   "execution_count": 49,
   "id": "2a1b95da",
   "metadata": {},
   "outputs": [
    {
     "name": "stderr",
     "output_type": "stream",
     "text": [
      "C:\\ProgramData\\Anaconda3\\lib\\site-packages\\sklearn\\preprocessing\\_label.py:115: DataConversionWarning: A column-vector y was passed when a 1d array was expected. Please change the shape of y to (n_samples, ), for example using ravel().\n",
      "  y = column_or_1d(y, warn=True)\n",
      "C:\\Users\\Sriram\\AppData\\Local\\Temp\\ipykernel_14932\\585491344.py:5: FutureWarning: In a future version of pandas all arguments of DataFrame.drop except for the argument 'labels' will be keyword-only.\n",
      "  inputs=data.drop(['custcat'],'columns')\n",
      "C:\\Users\\Sriram\\AppData\\Local\\Temp\\ipykernel_14932\\585491344.py:6: FutureWarning: In a future version of pandas all arguments of DataFrame.drop except for the argument 'labels' will be keyword-only.\n",
      "  output=data.drop(['region','tenure','age','income','marital','address','ed','employ','retire','gender','reside'],'columns')\n"
     ]
    }
   ],
   "source": [
    "import sklearn\n",
    "from sklearn.preprocessing import LabelEncoder\n",
    "le=LabelEncoder()\n",
    "data['custcat']=le.fit_transform(data[['custcat']])\n",
    "inputs=data.drop(['custcat'],'columns')\n",
    "output=data.drop(['region','tenure','age','income','marital','address','ed','employ','retire','gender','reside'],'columns')\n"
   ]
  },
  {
   "cell_type": "code",
   "execution_count": 50,
   "id": "8b6fc5c6",
   "metadata": {},
   "outputs": [
    {
     "name": "stdout",
     "output_type": "stream",
     "text": [
      "       region    tenure       age    income  marital   address        ed  \\\n",
      "0   -0.026968 -1.055125  0.184505 -0.126506        1 -0.253034  1.087753   \n",
      "1    1.198836 -1.148806 -0.691812  0.546450        1 -0.451415  1.906227   \n",
      "2    1.198836  1.521092  0.821826  0.359517        1  1.234819 -1.367671   \n",
      "3   -0.026968 -0.118319 -0.691812 -0.416251        0  0.044536 -0.549196   \n",
      "4   -0.026968 -0.586722 -0.930808 -0.444291        1 -0.253034 -1.367671   \n",
      "..        ...       ...       ...       ...      ...       ...       ...   \n",
      "995  1.198836 -1.195646 -0.213821 -0.472331        0 -1.145747  0.269278   \n",
      "996 -1.252771 -1.336167 -0.612147 -0.519064        0 -0.947366  1.906227   \n",
      "997  1.198836  1.474252  1.379482  8.098513        0  2.821863  1.906227   \n",
      "998  1.198836  1.614773  0.582830  0.088466        0  0.639678 -0.549196   \n",
      "999  1.198836  0.677967 -0.452817 -0.360172        1 -0.451415  0.269278   \n",
      "\n",
      "       employ  retire  gender    reside  \n",
      "0   -0.594123       0       0 -0.230650  \n",
      "1   -0.594123       0       0  2.556662  \n",
      "2    1.787528       0       1 -0.230650  \n",
      "3   -1.090300       0       1 -0.927478  \n",
      "4   -0.891829       0       0  1.163006  \n",
      "..        ...     ...     ...       ...  \n",
      "995 -1.090300       0       1  0.466178  \n",
      "996 -0.594123       0       1 -0.927478  \n",
      "997  2.184470       0       1 -0.927478  \n",
      "998  1.092880       0       1 -0.927478  \n",
      "999 -0.792593       0       1  0.466178  \n",
      "\n",
      "[1000 rows x 11 columns]\n"
     ]
    }
   ],
   "source": [
    "print(inputs)"
   ]
  },
  {
   "cell_type": "code",
   "execution_count": 51,
   "id": "f4ee0ed2",
   "metadata": {},
   "outputs": [
    {
     "name": "stdout",
     "output_type": "stream",
     "text": [
      "     custcat\n",
      "0          0\n",
      "1          3\n",
      "2          2\n",
      "3          0\n",
      "4          2\n",
      "..       ...\n",
      "995        0\n",
      "996        0\n",
      "997        3\n",
      "998        2\n",
      "999        1\n",
      "\n",
      "[1000 rows x 1 columns]\n"
     ]
    }
   ],
   "source": [
    "print(output)"
   ]
  },
  {
   "cell_type": "code",
   "execution_count": 52,
   "id": "7818f5d7",
   "metadata": {},
   "outputs": [],
   "source": [
    "# import sklearn\n",
    "# from sklearn.model_selection import train_test_split\n",
    "# model.fit(x_train,y_train)\n",
    "# y_pred=model.predict(x_test)\n",
    "# print(y_pred)\n",
    "# from sklearn import tree\n",
    "# model=tree.DecisionTreeClassifier()\n",
    "# model.fit(inputs,output)\n",
    "# res=model.predict([[-0.026968,-1.055125,0.184505,-0.126506,1,-0.253034,1.087753,-0.594123,0,0,-0.230650 ]])\n",
    "# print(res[0])"
   ]
  },
  {
   "cell_type": "code",
   "execution_count": 53,
   "id": "c2a741f8",
   "metadata": {},
   "outputs": [
    {
     "ename": "NameError",
     "evalue": "name 'y_pred' is not defined",
     "output_type": "error",
     "traceback": [
      "\u001b[1;31m---------------------------------------------------------------------------\u001b[0m",
      "\u001b[1;31mNameError\u001b[0m                                 Traceback (most recent call last)",
      "\u001b[1;32m~\\AppData\\Local\\Temp\\ipykernel_14932\\1120762378.py\u001b[0m in \u001b[0;36m<module>\u001b[1;34m\u001b[0m\n\u001b[0;32m      1\u001b[0m \u001b[1;32mfrom\u001b[0m \u001b[0msklearn\u001b[0m\u001b[1;33m.\u001b[0m\u001b[0mmetrics\u001b[0m \u001b[1;32mimport\u001b[0m \u001b[0mconfusion_matrix\u001b[0m\u001b[1;33m\u001b[0m\u001b[1;33m\u001b[0m\u001b[0m\n\u001b[1;32m----> 2\u001b[1;33m \u001b[0mcm\u001b[0m\u001b[1;33m=\u001b[0m\u001b[0mconfusion_matrix\u001b[0m\u001b[1;33m(\u001b[0m\u001b[0my_test\u001b[0m\u001b[1;33m,\u001b[0m\u001b[0my_pred\u001b[0m\u001b[1;33m)\u001b[0m\u001b[1;33m\u001b[0m\u001b[1;33m\u001b[0m\u001b[0m\n\u001b[0m\u001b[0;32m      3\u001b[0m \u001b[0mprint\u001b[0m\u001b[1;33m(\u001b[0m\u001b[0mcm\u001b[0m\u001b[1;33m)\u001b[0m\u001b[1;33m\u001b[0m\u001b[1;33m\u001b[0m\u001b[0m\n",
      "\u001b[1;31mNameError\u001b[0m: name 'y_pred' is not defined"
     ]
    }
   ],
   "source": [
    "from sklearn.metrics import confusion_matrix\n",
    "cm=confusion_matrix(y_test,y_pred)\n",
    "print(cm)"
   ]
  },
  {
   "cell_type": "code",
   "execution_count": 54,
   "id": "a416a7da",
   "metadata": {},
   "outputs": [
    {
     "ename": "NameError",
     "evalue": "name 'y_pred' is not defined",
     "output_type": "error",
     "traceback": [
      "\u001b[1;31m---------------------------------------------------------------------------\u001b[0m",
      "\u001b[1;31mNameError\u001b[0m                                 Traceback (most recent call last)",
      "\u001b[1;32m~\\AppData\\Local\\Temp\\ipykernel_14932\\170158471.py\u001b[0m in \u001b[0;36m<module>\u001b[1;34m\u001b[0m\n\u001b[0;32m      1\u001b[0m \u001b[1;32mfrom\u001b[0m \u001b[0msklearn\u001b[0m\u001b[1;33m.\u001b[0m\u001b[0mmetrics\u001b[0m \u001b[1;32mimport\u001b[0m \u001b[0maccuracy_score\u001b[0m\u001b[1;33m\u001b[0m\u001b[1;33m\u001b[0m\u001b[0m\n\u001b[1;32m----> 2\u001b[1;33m \u001b[0mprint\u001b[0m\u001b[1;33m(\u001b[0m\u001b[1;34m\"accuracy score :\"\u001b[0m\u001b[1;33m,\u001b[0m\u001b[0maccuracy_score\u001b[0m\u001b[1;33m(\u001b[0m\u001b[0my_test\u001b[0m\u001b[1;33m,\u001b[0m\u001b[0my_pred\u001b[0m\u001b[1;33m)\u001b[0m\u001b[1;33m*\u001b[0m\u001b[1;36m100\u001b[0m\u001b[1;33m,\u001b[0m\u001b[1;34m\"%\"\u001b[0m\u001b[1;33m)\u001b[0m\u001b[1;33m\u001b[0m\u001b[1;33m\u001b[0m\u001b[0m\n\u001b[0m",
      "\u001b[1;31mNameError\u001b[0m: name 'y_pred' is not defined"
     ]
    }
   ],
   "source": [
    "from sklearn.metrics import accuracy_score\n",
    "print(\"accuracy score :\",accuracy_score(y_test,y_pred)*100,\"%\")"
   ]
  },
  {
   "cell_type": "markdown",
   "id": "f5d1818b",
   "metadata": {},
   "source": [
    "# Logistic Regression"
   ]
  },
  {
   "cell_type": "code",
   "execution_count": 55,
   "id": "94217c28",
   "metadata": {},
   "outputs": [],
   "source": [
    "from sklearn.preprocessing import StandardScaler\n",
    "scaler=StandardScaler()\n",
    "scaler.fit(data[['region']])\n",
    "data['region']=scaler.transform(data[['region']])\n",
    "scaler.fit(data[['tenure']])\n",
    "data['tenure']=scaler.transform(data[['tenure']])\n",
    "scaler.fit(data[['age']])\n",
    "data['age']=scaler.transform(data[['age']])\n",
    "scaler.fit(data[['income']])\n",
    "data['income']=scaler.transform(data[['income']])\n",
    "scaler.fit(data[['address']])\n",
    "data['address']=scaler.transform(data[['address']])\n",
    "scaler.fit(data[['ed']])\n",
    "data['ed']=scaler.transform(data[['ed']])\n",
    "scaler.fit(data[['employ']])\n",
    "data['employ']=scaler.transform(data[['employ']])\n",
    "scaler.fit(data[['reside']])\n",
    "data['reside']=scaler.transform(data[['reside']])"
   ]
  },
  {
   "cell_type": "code",
   "execution_count": 56,
   "id": "df12b375",
   "metadata": {},
   "outputs": [
    {
     "name": "stderr",
     "output_type": "stream",
     "text": [
      "C:\\ProgramData\\Anaconda3\\lib\\site-packages\\sklearn\\preprocessing\\_label.py:115: DataConversionWarning: A column-vector y was passed when a 1d array was expected. Please change the shape of y to (n_samples, ), for example using ravel().\n",
      "  y = column_or_1d(y, warn=True)\n",
      "C:\\Users\\Sriram\\AppData\\Local\\Temp\\ipykernel_14932\\585491344.py:5: FutureWarning: In a future version of pandas all arguments of DataFrame.drop except for the argument 'labels' will be keyword-only.\n",
      "  inputs=data.drop(['custcat'],'columns')\n",
      "C:\\Users\\Sriram\\AppData\\Local\\Temp\\ipykernel_14932\\585491344.py:6: FutureWarning: In a future version of pandas all arguments of DataFrame.drop except for the argument 'labels' will be keyword-only.\n",
      "  output=data.drop(['region','tenure','age','income','marital','address','ed','employ','retire','gender','reside'],'columns')\n"
     ]
    }
   ],
   "source": [
    "import sklearn\n",
    "from sklearn.preprocessing import LabelEncoder\n",
    "le=LabelEncoder()\n",
    "data['custcat']=le.fit_transform(data[['custcat']])\n",
    "inputs=data.drop(['custcat'],'columns')\n",
    "output=data.drop(['region','tenure','age','income','marital','address','ed','employ','retire','gender','reside'],'columns')\n"
   ]
  },
  {
   "cell_type": "code",
   "execution_count": 57,
   "id": "c7fc3401",
   "metadata": {},
   "outputs": [
    {
     "name": "stdout",
     "output_type": "stream",
     "text": [
      "       region    tenure       age    income  marital   address        ed  \\\n",
      "0   -0.026968 -1.055125  0.184505 -0.126506        1 -0.253034  1.087753   \n",
      "1    1.198836 -1.148806 -0.691812  0.546450        1 -0.451415  1.906227   \n",
      "2    1.198836  1.521092  0.821826  0.359517        1  1.234819 -1.367671   \n",
      "3   -0.026968 -0.118319 -0.691812 -0.416251        0  0.044536 -0.549196   \n",
      "4   -0.026968 -0.586722 -0.930808 -0.444291        1 -0.253034 -1.367671   \n",
      "..        ...       ...       ...       ...      ...       ...       ...   \n",
      "995  1.198836 -1.195646 -0.213821 -0.472331        0 -1.145747  0.269278   \n",
      "996 -1.252771 -1.336167 -0.612147 -0.519064        0 -0.947366  1.906227   \n",
      "997  1.198836  1.474252  1.379482  8.098513        0  2.821863  1.906227   \n",
      "998  1.198836  1.614773  0.582830  0.088466        0  0.639678 -0.549196   \n",
      "999  1.198836  0.677967 -0.452817 -0.360172        1 -0.451415  0.269278   \n",
      "\n",
      "       employ  retire  gender    reside  \n",
      "0   -0.594123       0       0 -0.230650  \n",
      "1   -0.594123       0       0  2.556662  \n",
      "2    1.787528       0       1 -0.230650  \n",
      "3   -1.090300       0       1 -0.927478  \n",
      "4   -0.891829       0       0  1.163006  \n",
      "..        ...     ...     ...       ...  \n",
      "995 -1.090300       0       1  0.466178  \n",
      "996 -0.594123       0       1 -0.927478  \n",
      "997  2.184470       0       1 -0.927478  \n",
      "998  1.092880       0       1 -0.927478  \n",
      "999 -0.792593       0       1  0.466178  \n",
      "\n",
      "[1000 rows x 11 columns]\n"
     ]
    }
   ],
   "source": [
    "print(inputs)"
   ]
  },
  {
   "cell_type": "code",
   "execution_count": 58,
   "id": "d9960fa9",
   "metadata": {},
   "outputs": [
    {
     "name": "stdout",
     "output_type": "stream",
     "text": [
      "     custcat\n",
      "0          0\n",
      "1          3\n",
      "2          2\n",
      "3          0\n",
      "4          2\n",
      "..       ...\n",
      "995        0\n",
      "996        0\n",
      "997        3\n",
      "998        2\n",
      "999        1\n",
      "\n",
      "[1000 rows x 1 columns]\n"
     ]
    }
   ],
   "source": [
    "print(output)"
   ]
  },
  {
   "cell_type": "code",
   "execution_count": 59,
   "id": "79eb0ad1",
   "metadata": {},
   "outputs": [
    {
     "name": "stdout",
     "output_type": "stream",
     "text": [
      "       region    tenure       age    income  marital   address        ed  \\\n",
      "832 -1.252771  1.567933  0.025174 -0.547104        1  1.135629  0.269278   \n",
      "222  1.198836  0.069043 -0.373152  0.882928        0 -0.451415  0.269278   \n",
      "257  1.198836  0.209564  1.698143 -0.154546        1 -0.253034 -1.367671   \n",
      "984  1.198836 -1.383007 -0.771478 -0.285399        0 -0.153844 -1.367671   \n",
      "853 -0.026968 -0.633562 -0.532482 -0.462984        0  0.044536 -0.549196   \n",
      "..        ...       ...       ...       ...      ...       ...       ...   \n",
      "568 -1.252771 -1.055125 -0.134156  0.602529        0  0.441297 -0.549196   \n",
      "377 -1.252771  1.146370 -0.373152 -0.126506        1  0.044536  1.906227   \n",
      "169 -1.252771  1.099530  0.901491  0.322131        0  0.937249  1.087753   \n",
      "112 -0.026968 -1.523528 -0.373152 -0.500371        0  0.143727 -1.367671   \n",
      "968  1.198836 -0.961444 -1.329134 -0.248012        1 -1.145747  0.269278   \n",
      "\n",
      "       employ  retire  gender    reside  \n",
      "832 -1.090300       0       1 -0.230650  \n",
      "222  0.199761       0       0 -0.927478  \n",
      "257  1.092880       0       0 -0.230650  \n",
      "984 -0.097945       0       0 -0.927478  \n",
      "853 -0.792593       0       0 -0.230650  \n",
      "..        ...     ...     ...       ...  \n",
      "568  0.695938       0       1 -0.927478  \n",
      "377 -0.991064       0       1 -0.230650  \n",
      "169  0.497467       0       0 -0.927478  \n",
      "112 -0.792593       0       1 -0.927478  \n",
      "968 -0.891829       0       1 -0.230650  \n",
      "\n",
      "[800 rows x 11 columns]\n",
      "       region    tenure       age    income  marital   address        ed  \\\n",
      "122  1.198836 -1.008285  0.423500 -0.276052        1 -0.451415 -1.367671   \n",
      "29  -0.026968 -1.055125 -0.691812 -0.547104        1 -0.253034  1.087753   \n",
      "739  1.198836  0.115883 -0.691812 -0.547104        0 -0.748986 -0.549196   \n",
      "451 -1.252771 -0.633562 -0.054491 -0.453638        1 -0.253034  0.269278   \n",
      "979 -0.026968  0.912168  0.184505  0.051079        0  1.234819 -1.367671   \n",
      "..        ...       ...       ...       ...      ...       ...       ...   \n",
      "306 -1.252771 -0.961444 -0.532482 -0.406905        1 -0.649795  0.269278   \n",
      "929  1.198836 -0.446201  1.060822 -0.154546        1  0.143727 -1.367671   \n",
      "857  1.198836 -1.476688 -1.090138 -0.360172        0 -1.145747 -0.549196   \n",
      "940 -1.252771 -1.055125 -0.054491 -0.210626        0 -0.253034 -0.549196   \n",
      "900  1.198836 -1.429848  0.821826  0.181932        1 -1.145747  1.906227   \n",
      "\n",
      "       employ  retire  gender    reside  \n",
      "122  0.199761       0       0 -0.230650  \n",
      "29  -1.090300       0       1 -0.230650  \n",
      "739 -0.594123       0       1 -0.230650  \n",
      "451  0.001290       0       0  1.163006  \n",
      "979  1.192115       0       1 -0.927478  \n",
      "..        ...     ...     ...       ...  \n",
      "306 -0.296416       0       0 -0.230650  \n",
      "929  1.489822       0       0 -0.230650  \n",
      "857 -0.792593       0       1 -0.927478  \n",
      "940  0.100526       0       1  0.466178  \n",
      "900 -0.197181       0       0 -0.230650  \n",
      "\n",
      "[200 rows x 11 columns]\n",
      "     custcat\n",
      "832        0\n",
      "222        0\n",
      "257        0\n",
      "984        2\n",
      "853        1\n",
      "..       ...\n",
      "568        0\n",
      "377        1\n",
      "169        1\n",
      "112        0\n",
      "968        0\n",
      "\n",
      "[800 rows x 1 columns]\n",
      "     custcat\n",
      "122        0\n",
      "29         1\n",
      "739        2\n",
      "451        0\n",
      "979        2\n",
      "..       ...\n",
      "306        1\n",
      "929        2\n",
      "857        2\n",
      "940        0\n",
      "900        3\n",
      "\n",
      "[200 rows x 1 columns]\n"
     ]
    }
   ],
   "source": [
    "import sklearn\n",
    "from sklearn.model_selection import train_test_split\n",
    "x_train,x_test,y_train,y_test=train_test_split(inputs,output,train_size=0.8)\n",
    "print(x_train)\n",
    "print(x_test)\n",
    "print(y_train)\n",
    "print(y_test)"
   ]
  },
  {
   "cell_type": "code",
   "execution_count": 60,
   "id": "c59e05a4",
   "metadata": {},
   "outputs": [],
   "source": [
    "# from sklearn.linear_model import LogisticRegression\n",
    "# model=LogisticRegression()\n",
    "# model.fit(x_train,y_train)\n",
    "# y_pred=model.predict(x_test)\n",
    "# print(y_pred)\n",
    "# print(y_test)"
   ]
  },
  {
   "cell_type": "code",
   "execution_count": 61,
   "id": "7a24a0a2",
   "metadata": {},
   "outputs": [
    {
     "ename": "NameError",
     "evalue": "name 'y_pred' is not defined",
     "output_type": "error",
     "traceback": [
      "\u001b[1;31m---------------------------------------------------------------------------\u001b[0m",
      "\u001b[1;31mNameError\u001b[0m                                 Traceback (most recent call last)",
      "\u001b[1;32m~\\AppData\\Local\\Temp\\ipykernel_14932\\1120762378.py\u001b[0m in \u001b[0;36m<module>\u001b[1;34m\u001b[0m\n\u001b[0;32m      1\u001b[0m \u001b[1;32mfrom\u001b[0m \u001b[0msklearn\u001b[0m\u001b[1;33m.\u001b[0m\u001b[0mmetrics\u001b[0m \u001b[1;32mimport\u001b[0m \u001b[0mconfusion_matrix\u001b[0m\u001b[1;33m\u001b[0m\u001b[1;33m\u001b[0m\u001b[0m\n\u001b[1;32m----> 2\u001b[1;33m \u001b[0mcm\u001b[0m\u001b[1;33m=\u001b[0m\u001b[0mconfusion_matrix\u001b[0m\u001b[1;33m(\u001b[0m\u001b[0my_test\u001b[0m\u001b[1;33m,\u001b[0m\u001b[0my_pred\u001b[0m\u001b[1;33m)\u001b[0m\u001b[1;33m\u001b[0m\u001b[1;33m\u001b[0m\u001b[0m\n\u001b[0m\u001b[0;32m      3\u001b[0m \u001b[0mprint\u001b[0m\u001b[1;33m(\u001b[0m\u001b[0mcm\u001b[0m\u001b[1;33m)\u001b[0m\u001b[1;33m\u001b[0m\u001b[1;33m\u001b[0m\u001b[0m\n",
      "\u001b[1;31mNameError\u001b[0m: name 'y_pred' is not defined"
     ]
    }
   ],
   "source": [
    "from sklearn.metrics import confusion_matrix\n",
    "cm=confusion_matrix(y_test,y_pred)\n",
    "print(cm)"
   ]
  },
  {
   "cell_type": "code",
   "execution_count": 62,
   "id": "f24dc2d3",
   "metadata": {},
   "outputs": [
    {
     "ename": "NameError",
     "evalue": "name 'y_pred' is not defined",
     "output_type": "error",
     "traceback": [
      "\u001b[1;31m---------------------------------------------------------------------------\u001b[0m",
      "\u001b[1;31mNameError\u001b[0m                                 Traceback (most recent call last)",
      "\u001b[1;32m~\\AppData\\Local\\Temp\\ipykernel_14932\\170158471.py\u001b[0m in \u001b[0;36m<module>\u001b[1;34m\u001b[0m\n\u001b[0;32m      1\u001b[0m \u001b[1;32mfrom\u001b[0m \u001b[0msklearn\u001b[0m\u001b[1;33m.\u001b[0m\u001b[0mmetrics\u001b[0m \u001b[1;32mimport\u001b[0m \u001b[0maccuracy_score\u001b[0m\u001b[1;33m\u001b[0m\u001b[1;33m\u001b[0m\u001b[0m\n\u001b[1;32m----> 2\u001b[1;33m \u001b[0mprint\u001b[0m\u001b[1;33m(\u001b[0m\u001b[1;34m\"accuracy score :\"\u001b[0m\u001b[1;33m,\u001b[0m\u001b[0maccuracy_score\u001b[0m\u001b[1;33m(\u001b[0m\u001b[0my_test\u001b[0m\u001b[1;33m,\u001b[0m\u001b[0my_pred\u001b[0m\u001b[1;33m)\u001b[0m\u001b[1;33m*\u001b[0m\u001b[1;36m100\u001b[0m\u001b[1;33m,\u001b[0m\u001b[1;34m\"%\"\u001b[0m\u001b[1;33m)\u001b[0m\u001b[1;33m\u001b[0m\u001b[1;33m\u001b[0m\u001b[0m\n\u001b[0m",
      "\u001b[1;31mNameError\u001b[0m: name 'y_pred' is not defined"
     ]
    }
   ],
   "source": [
    "from sklearn.metrics import accuracy_score\n",
    "print(\"accuracy score :\",accuracy_score(y_test,y_pred)*100,\"%\")"
   ]
  },
  {
   "cell_type": "code",
   "execution_count": null,
   "id": "97e9690c",
   "metadata": {},
   "outputs": [],
   "source": []
  },
  {
   "cell_type": "code",
   "execution_count": null,
   "id": "c5776703",
   "metadata": {},
   "outputs": [],
   "source": []
  }
 ],
 "metadata": {
  "kernelspec": {
   "display_name": "Python 3 (ipykernel)",
   "language": "python",
   "name": "python3"
  },
  "language_info": {
   "codemirror_mode": {
    "name": "ipython",
    "version": 3
   },
   "file_extension": ".py",
   "mimetype": "text/x-python",
   "name": "python",
   "nbconvert_exporter": "python",
   "pygments_lexer": "ipython3",
   "version": "3.9.13"
  }
 },
 "nbformat": 4,
 "nbformat_minor": 5
}
