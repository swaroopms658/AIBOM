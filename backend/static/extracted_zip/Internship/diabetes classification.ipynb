{
 "cells": [
  {
   "cell_type": "code",
   "execution_count": 1,
   "id": "c35ab3d4",
   "metadata": {},
   "outputs": [
    {
     "name": "stdout",
     "output_type": "stream",
     "text": [
      "     Age  Gender  BMI Blood Pressure  FBS  HbA1c Family History of Diabetes  \\\n",
      "0     45    Male   25         Normal  100    5.7                         No   \n",
      "1     55  Female   30           High  120    6.4                        Yes   \n",
      "2     65    Male   35           High  140    7.1                        Yes   \n",
      "3     75  Female   40           High  160    7.8                        Yes   \n",
      "4     40    Male   20         Normal   80    5.0                         No   \n",
      "..   ...     ...  ...            ...  ...    ...                        ...   \n",
      "123   17  Female   15         Normal  100    5.7                         No   \n",
      "124   22    Male   19         Normal  120    6.4                         No   \n",
      "125   27  Female   24           High  140    7.1                         No   \n",
      "126   32    Male   29           High  160    7.8                         No   \n",
      "127   37  Female   34           High  180    8.5                         No   \n",
      "\n",
      "    Smoking     Diet Exercise Diagnosis  \n",
      "0        No  Healthy  Regular        No  \n",
      "1       Yes     Poor       No       Yes  \n",
      "2       Yes     Poor       No       Yes  \n",
      "3       Yes     Poor       No       Yes  \n",
      "4        No  Healthy  Regular        No  \n",
      "..      ...      ...      ...       ...  \n",
      "123     Yes     Poor       No       Yes  \n",
      "124     Yes     Poor       No       Yes  \n",
      "125     Yes     Poor       No       Yes  \n",
      "126     Yes     Poor       No       Yes  \n",
      "127     Yes     Poor       No       Yes  \n",
      "\n",
      "[128 rows x 11 columns]\n",
      "<class 'pandas.core.frame.DataFrame'>\n",
      "RangeIndex: 128 entries, 0 to 127\n",
      "Data columns (total 11 columns):\n",
      " #   Column                      Non-Null Count  Dtype  \n",
      "---  ------                      --------------  -----  \n",
      " 0   Age                         128 non-null    int64  \n",
      " 1   Gender                      128 non-null    object \n",
      " 2   BMI                         128 non-null    int64  \n",
      " 3   Blood Pressure              128 non-null    object \n",
      " 4   FBS                         128 non-null    int64  \n",
      " 5   HbA1c                       128 non-null    float64\n",
      " 6   Family History of Diabetes  128 non-null    object \n",
      " 7   Smoking                     128 non-null    object \n",
      " 8   Diet                        128 non-null    object \n",
      " 9   Exercise                    128 non-null    object \n",
      " 10  Diagnosis                   128 non-null    object \n",
      "dtypes: float64(1), int64(3), object(7)\n",
      "memory usage: 11.1+ KB\n",
      "None\n",
      "Age                           0\n",
      "Gender                        0\n",
      "BMI                           0\n",
      "Blood Pressure                0\n",
      "FBS                           0\n",
      "HbA1c                         0\n",
      "Family History of Diabetes    0\n",
      "Smoking                       0\n",
      "Diet                          0\n",
      "Exercise                      0\n",
      "Diagnosis                     0\n",
      "dtype: int64\n"
     ]
    },
    {
     "name": "stderr",
     "output_type": "stream",
     "text": [
      "C:\\ProgramData\\Anaconda3\\lib\\site-packages\\sklearn\\preprocessing\\_label.py:115: DataConversionWarning: A column-vector y was passed when a 1d array was expected. Please change the shape of y to (n_samples, ), for example using ravel().\n",
      "  y = column_or_1d(y, warn=True)\n",
      "C:\\ProgramData\\Anaconda3\\lib\\site-packages\\sklearn\\preprocessing\\_label.py:115: DataConversionWarning: A column-vector y was passed when a 1d array was expected. Please change the shape of y to (n_samples, ), for example using ravel().\n",
      "  y = column_or_1d(y, warn=True)\n",
      "C:\\ProgramData\\Anaconda3\\lib\\site-packages\\sklearn\\preprocessing\\_label.py:115: DataConversionWarning: A column-vector y was passed when a 1d array was expected. Please change the shape of y to (n_samples, ), for example using ravel().\n",
      "  y = column_or_1d(y, warn=True)\n",
      "C:\\ProgramData\\Anaconda3\\lib\\site-packages\\sklearn\\preprocessing\\_label.py:115: DataConversionWarning: A column-vector y was passed when a 1d array was expected. Please change the shape of y to (n_samples, ), for example using ravel().\n",
      "  y = column_or_1d(y, warn=True)\n",
      "C:\\ProgramData\\Anaconda3\\lib\\site-packages\\sklearn\\preprocessing\\_label.py:115: DataConversionWarning: A column-vector y was passed when a 1d array was expected. Please change the shape of y to (n_samples, ), for example using ravel().\n",
      "  y = column_or_1d(y, warn=True)\n",
      "C:\\ProgramData\\Anaconda3\\lib\\site-packages\\sklearn\\preprocessing\\_label.py:115: DataConversionWarning: A column-vector y was passed when a 1d array was expected. Please change the shape of y to (n_samples, ), for example using ravel().\n",
      "  y = column_or_1d(y, warn=True)\n",
      "C:\\ProgramData\\Anaconda3\\lib\\site-packages\\sklearn\\preprocessing\\_label.py:115: DataConversionWarning: A column-vector y was passed when a 1d array was expected. Please change the shape of y to (n_samples, ), for example using ravel().\n",
      "  y = column_or_1d(y, warn=True)\n",
      "C:\\Users\\Sriram\\AppData\\Local\\Temp\\ipykernel_7668\\3593024877.py:17: FutureWarning: In a future version of pandas all arguments of DataFrame.drop except for the argument 'labels' will be keyword-only.\n",
      "  inputs=data.drop(['Diagnosis'],'columns')\n",
      "C:\\Users\\Sriram\\AppData\\Local\\Temp\\ipykernel_7668\\3593024877.py:18: FutureWarning: In a future version of pandas all arguments of DataFrame.drop except for the argument 'labels' will be keyword-only.\n",
      "  output=data.drop(['Age','Gender','BMI', 'Blood Pressure','FBS','HbA1c','Family History of Diabetes','Smoking','Diet','Exercise'],'columns')\n"
     ]
    },
    {
     "name": "stdout",
     "output_type": "stream",
     "text": [
      "     Age  Gender  BMI  Blood Pressure  FBS  HbA1c  Family History of Diabetes  \\\n",
      "0     45       1   25               2  100      5                           0   \n",
      "1     55       0   30               0  120      6                           1   \n",
      "2     65       1   35               0  140      7                           1   \n",
      "3     75       0   40               0  160      7                           1   \n",
      "4     40       1   20               2   80      5                           0   \n",
      "..   ...     ...  ...             ...  ...    ...                         ...   \n",
      "123   17       0   15               2  100      5                           0   \n",
      "124   22       1   19               2  120      6                           0   \n",
      "125   27       0   24               0  140      7                           0   \n",
      "126   32       1   29               0  160      7                           0   \n",
      "127   37       0   34               0  180      8                           0   \n",
      "\n",
      "     Smoking  Diet  Exercise  \n",
      "0          0     0         1  \n",
      "1          1     1         0  \n",
      "2          1     1         0  \n",
      "3          1     1         0  \n",
      "4          0     0         1  \n",
      "..       ...   ...       ...  \n",
      "123        1     1         0  \n",
      "124        1     1         0  \n",
      "125        1     1         0  \n",
      "126        1     1         0  \n",
      "127        1     1         0  \n",
      "\n",
      "[128 rows x 10 columns]\n",
      "     Diagnosis\n",
      "0            0\n",
      "1            1\n",
      "2            1\n",
      "3            1\n",
      "4            0\n",
      "..         ...\n",
      "123          1\n",
      "124          1\n",
      "125          1\n",
      "126          1\n",
      "127          1\n",
      "\n",
      "[128 rows x 1 columns]\n",
      "1\n"
     ]
    },
    {
     "name": "stderr",
     "output_type": "stream",
     "text": [
      "C:\\ProgramData\\Anaconda3\\lib\\site-packages\\sklearn\\base.py:450: UserWarning: X does not have valid feature names, but DecisionTreeClassifier was fitted with feature names\n",
      "  warnings.warn(\n"
     ]
    }
   ],
   "source": [
    "import pandas as pd\n",
    "path=\"C:\\\\Users\\\\Sriram\\\\Downloads\\\\41_EasiestDiabetesClassification\\\\DiabetesClassification.csv\"\n",
    "data=pd.read_csv(path)\n",
    "print(data)\n",
    "print(data.info())\n",
    "print(data.isnull().sum())\n",
    "from sklearn.preprocessing import LabelEncoder\n",
    "le=LabelEncoder()\n",
    "data['Gender']=le.fit_transform(data[['Gender']])\n",
    "data['Blood Pressure']=le.fit_transform(data[['Blood Pressure']])\n",
    "data['Smoking']=le.fit_transform(data[['Smoking']])\n",
    "data['Diet']=le.fit_transform(data[['Diet']])\n",
    "data['Exercise']=le.fit_transform(data[['Exercise']])\n",
    "data['Diagnosis']=le.fit_transform(data[['Diagnosis']])\n",
    "data['Family History of Diabetes']=le.fit_transform(data[['Family History of Diabetes']])\n",
    "data['HbA1c']=data['HbA1c'].astype(int)\n",
    "inputs=data.drop(['Diagnosis'],'columns')\n",
    "output=data.drop(['Age','Gender','BMI', 'Blood Pressure','FBS','HbA1c','Family History of Diabetes','Smoking','Diet','Exercise'],'columns')\n",
    "print(inputs)\n",
    "print(output)\n",
    "from sklearn import tree\n",
    "model=tree.DecisionTreeClassifier()\n",
    "model.fit(inputs,output)\n",
    "res=model.predict([[55,0,30,0,120,6,1,1,1,0]])\n",
    "print(res[0])"
   ]
  },
  {
   "cell_type": "code",
   "execution_count": 2,
   "id": "a7c8a12e",
   "metadata": {},
   "outputs": [
    {
     "name": "stderr",
     "output_type": "stream",
     "text": [
      "C:\\ProgramData\\Anaconda3\\lib\\site-packages\\sklearn\\preprocessing\\_label.py:115: DataConversionWarning: A column-vector y was passed when a 1d array was expected. Please change the shape of y to (n_samples, ), for example using ravel().\n",
      "  y = column_or_1d(y, warn=True)\n",
      "C:\\ProgramData\\Anaconda3\\lib\\site-packages\\sklearn\\preprocessing\\_label.py:115: DataConversionWarning: A column-vector y was passed when a 1d array was expected. Please change the shape of y to (n_samples, ), for example using ravel().\n",
      "  y = column_or_1d(y, warn=True)\n",
      "C:\\ProgramData\\Anaconda3\\lib\\site-packages\\sklearn\\preprocessing\\_label.py:115: DataConversionWarning: A column-vector y was passed when a 1d array was expected. Please change the shape of y to (n_samples, ), for example using ravel().\n",
      "  y = column_or_1d(y, warn=True)\n",
      "C:\\ProgramData\\Anaconda3\\lib\\site-packages\\sklearn\\preprocessing\\_label.py:115: DataConversionWarning: A column-vector y was passed when a 1d array was expected. Please change the shape of y to (n_samples, ), for example using ravel().\n",
      "  y = column_or_1d(y, warn=True)\n",
      "C:\\ProgramData\\Anaconda3\\lib\\site-packages\\sklearn\\preprocessing\\_label.py:115: DataConversionWarning: A column-vector y was passed when a 1d array was expected. Please change the shape of y to (n_samples, ), for example using ravel().\n",
      "  y = column_or_1d(y, warn=True)\n",
      "C:\\ProgramData\\Anaconda3\\lib\\site-packages\\sklearn\\preprocessing\\_label.py:115: DataConversionWarning: A column-vector y was passed when a 1d array was expected. Please change the shape of y to (n_samples, ), for example using ravel().\n",
      "  y = column_or_1d(y, warn=True)\n",
      "C:\\ProgramData\\Anaconda3\\lib\\site-packages\\sklearn\\preprocessing\\_label.py:115: DataConversionWarning: A column-vector y was passed when a 1d array was expected. Please change the shape of y to (n_samples, ), for example using ravel().\n",
      "  y = column_or_1d(y, warn=True)\n",
      "C:\\Users\\Sriram\\AppData\\Local\\Temp\\ipykernel_18676\\3502804715.py:11: FutureWarning: In a future version of pandas all arguments of DataFrame.drop except for the argument 'labels' will be keyword-only.\n",
      "  inputs=data.drop(['Diagnosis'],'columns')\n",
      "C:\\Users\\Sriram\\AppData\\Local\\Temp\\ipykernel_18676\\3502804715.py:12: FutureWarning: In a future version of pandas all arguments of DataFrame.drop except for the argument 'labels' will be keyword-only.\n",
      "  output=data.drop(['Age','Gender','BMI', 'Blood Pressure','FBS','HbA1c','Family History of Diabetes','Smoking','Diet','Exercise'],'columns')\n"
     ]
    }
   ],
   "source": []
  },
  {
   "cell_type": "code",
   "execution_count": 3,
   "id": "0ebdf17a",
   "metadata": {},
   "outputs": [
    {
     "name": "stdout",
     "output_type": "stream",
     "text": [
      "     Age  Gender  BMI  Blood Pressure  FBS  HbA1c  Family History of Diabetes  \\\n",
      "0     45       1   25               2  100      5                           0   \n",
      "1     55       0   30               0  120      6                           1   \n",
      "2     65       1   35               0  140      7                           1   \n",
      "3     75       0   40               0  160      7                           1   \n",
      "4     40       1   20               2   80      5                           0   \n",
      "..   ...     ...  ...             ...  ...    ...                         ...   \n",
      "123   17       0   15               2  100      5                           0   \n",
      "124   22       1   19               2  120      6                           0   \n",
      "125   27       0   24               0  140      7                           0   \n",
      "126   32       1   29               0  160      7                           0   \n",
      "127   37       0   34               0  180      8                           0   \n",
      "\n",
      "     Smoking  Diet  Exercise  \n",
      "0          0     0         1  \n",
      "1          1     1         0  \n",
      "2          1     1         0  \n",
      "3          1     1         0  \n",
      "4          0     0         1  \n",
      "..       ...   ...       ...  \n",
      "123        1     1         0  \n",
      "124        1     1         0  \n",
      "125        1     1         0  \n",
      "126        1     1         0  \n",
      "127        1     1         0  \n",
      "\n",
      "[128 rows x 10 columns]\n"
     ]
    }
   ],
   "source": []
  },
  {
   "cell_type": "code",
   "execution_count": 4,
   "id": "ab551c3a",
   "metadata": {},
   "outputs": [
    {
     "name": "stdout",
     "output_type": "stream",
     "text": [
      "     Diagnosis\n",
      "0            0\n",
      "1            1\n",
      "2            1\n",
      "3            1\n",
      "4            0\n",
      "..         ...\n",
      "123          1\n",
      "124          1\n",
      "125          1\n",
      "126          1\n",
      "127          1\n",
      "\n",
      "[128 rows x 1 columns]\n"
     ]
    }
   ],
   "source": [
    "print(output)"
   ]
  },
  {
   "cell_type": "code",
   "execution_count": 5,
   "id": "74769f46",
   "metadata": {},
   "outputs": [
    {
     "name": "stdout",
     "output_type": "stream",
     "text": [
      "1\n"
     ]
    },
    {
     "name": "stderr",
     "output_type": "stream",
     "text": [
      "C:\\ProgramData\\Anaconda3\\lib\\site-packages\\sklearn\\base.py:450: UserWarning: X does not have valid feature names, but DecisionTreeClassifier was fitted with feature names\n",
      "  warnings.warn(\n"
     ]
    }
   ],
   "source": []
  },
  {
   "cell_type": "code",
   "execution_count": null,
   "id": "eabd70f9",
   "metadata": {},
   "outputs": [],
   "source": []
  },
  {
   "cell_type": "code",
   "execution_count": null,
   "id": "5aa2d5dd",
   "metadata": {},
   "outputs": [],
   "source": []
  },
  {
   "cell_type": "code",
   "execution_count": null,
   "id": "d7d89b0e",
   "metadata": {},
   "outputs": [],
   "source": []
  }
 ],
 "metadata": {
  "kernelspec": {
   "display_name": "Python 3 (ipykernel)",
   "language": "python",
   "name": "python3"
  },
  "language_info": {
   "codemirror_mode": {
    "name": "ipython",
    "version": 3
   },
   "file_extension": ".py",
   "mimetype": "text/x-python",
   "name": "python",
   "nbconvert_exporter": "python",
   "pygments_lexer": "ipython3",
   "version": "3.9.13"
  }
 },
 "nbformat": 4,
 "nbformat_minor": 5
}
