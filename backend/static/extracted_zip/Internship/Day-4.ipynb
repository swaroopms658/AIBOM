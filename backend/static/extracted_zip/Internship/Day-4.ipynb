{
 "cells": [
  {
   "cell_type": "markdown",
   "id": "0f99b7c2",
   "metadata": {},
   "source": [
    "# Functions"
   ]
  },
  {
   "cell_type": "code",
   "execution_count": 6,
   "id": "ed4cdbbe",
   "metadata": {},
   "outputs": [],
   "source": [
    "#fuction without parameters"
   ]
  },
  {
   "cell_type": "code",
   "execution_count": 1,
   "id": "9b6272af",
   "metadata": {},
   "outputs": [
    {
     "name": "stdout",
     "output_type": "stream",
     "text": [
      "hello welcome to programming\n",
      "this is python programming\n"
     ]
    }
   ],
   "source": [
    "def greet():\n",
    "    print('hello welcome to programming')\n",
    "    print('this is python programming')\n",
    "greet()"
   ]
  },
  {
   "cell_type": "code",
   "execution_count": 2,
   "id": "5063a055",
   "metadata": {},
   "outputs": [
    {
     "name": "stdout",
     "output_type": "stream",
     "text": [
      "hello welcome to programming\n",
      "this is python programming\n"
     ]
    }
   ],
   "source": [
    "greet()"
   ]
  },
  {
   "cell_type": "code",
   "execution_count": 7,
   "id": "db3c62bb",
   "metadata": {},
   "outputs": [],
   "source": [
    "#function with parameters"
   ]
  },
  {
   "cell_type": "code",
   "execution_count": 3,
   "id": "255b9198",
   "metadata": {},
   "outputs": [
    {
     "name": "stdout",
     "output_type": "stream",
     "text": [
      "hello welcome to programming sri\n",
      "this is python programming\n"
     ]
    }
   ],
   "source": [
    "def greet(name):\n",
    "    print('hello welcome to programming',name)\n",
    "    print('this is python programming')\n",
    "greet('sri')"
   ]
  },
  {
   "cell_type": "code",
   "execution_count": 8,
   "id": "0cf57ee6",
   "metadata": {},
   "outputs": [
    {
     "name": "stdout",
     "output_type": "stream",
     "text": [
      "hello welcome to programming sri\n",
      "this is python programming ram\n",
      "hello welcome to programming uzumaki\n",
      "this is python programming naruto\n"
     ]
    }
   ],
   "source": [
    "def greet(fname,lname):\n",
    "    print('hello welcome to programming',fname)\n",
    "    print('this is python programming',lname)\n",
    "greet('sri','ram')\n",
    "greet('uzumaki','naruto')"
   ]
  },
  {
   "cell_type": "code",
   "execution_count": 15,
   "id": "72c1c081",
   "metadata": {},
   "outputs": [
    {
     "name": "stdout",
     "output_type": "stream",
     "text": [
      "Enter a :10\n",
      "Enter b:20\n",
      "Enter a operator:*\n",
      "Mul: 200\n"
     ]
    }
   ],
   "source": [
    "def maths(x,y,op):\n",
    "    if op=='+':\n",
    "        add=x+y\n",
    "        print('Add:',add)\n",
    "    elif op=='-':\n",
    "        sub=x-y\n",
    "        print('Sub:',sub)\n",
    "    elif op=='*':\n",
    "        mul=x*y\n",
    "        print('Mul:',mul)\n",
    "    elif op=='//':\n",
    "        div=x//y\n",
    "        print('Div:',div)\n",
    "    else:\n",
    "        print('Invalid operation')\n",
    "    \n",
    "a=int(input('Enter a :'))\n",
    "b=int(input('Enter b:'))\n",
    "c=input('Enter a operator:')\n",
    "maths(a,b,c)"
   ]
  },
  {
   "cell_type": "code",
   "execution_count": 4,
   "id": "f4c9ec32",
   "metadata": {},
   "outputs": [
    {
     "name": "stdout",
     "output_type": "stream",
     "text": [
      "Enter a :6\n",
      "Enter b:0\n",
      "Enter a operator://\n",
      "Divide by zero error\n",
      "do you want to continue:n\n"
     ]
    }
   ],
   "source": [
    "def maths(x,y,op):\n",
    "    if op=='+':\n",
    "        add=x+y\n",
    "        print('Add:',add)\n",
    "    elif op=='-':\n",
    "        sub=x-y\n",
    "        print('Sub:',sub)\n",
    "    elif op=='*':\n",
    "        mul=x*y\n",
    "        print('Mul:',mul)\n",
    "    elif op=='//':\n",
    "        if y==0:\n",
    "            print('Divide by zero error')\n",
    "        else:\n",
    "            div=x//y\n",
    "            print('Div:',div)\n",
    "    else:\n",
    "        print('Invalid operation')\n",
    "while True:   \n",
    "    a=int(input('Enter a :'))\n",
    "    b=int(input('Enter b:'))\n",
    "    c=input('Enter a operator:')\n",
    "    maths(a,b,c)\n",
    "    ch=input('do you want to continue:')\n",
    "    if ch=='y' or ch=='Y':\n",
    "        continue\n",
    "    elif ch=='n' or ch=='N':\n",
    "        break\n",
    "    else:\n",
    "        print('pls enter the valid choice')"
   ]
  },
  {
   "cell_type": "code",
   "execution_count": 5,
   "id": "e0478009",
   "metadata": {},
   "outputs": [],
   "source": [
    "# using return\n"
   ]
  },
  {
   "cell_type": "code",
   "execution_count": 11,
   "id": "382eba1f",
   "metadata": {},
   "outputs": [
    {
     "name": "stdout",
     "output_type": "stream",
     "text": [
      "Enter a :2\n",
      "Enter b:3\n",
      "Enter a operator:$\n"
     ]
    },
    {
     "data": {
      "text/plain": [
       "-1"
      ]
     },
     "execution_count": 11,
     "metadata": {},
     "output_type": "execute_result"
    }
   ],
   "source": [
    "def maths(x,y,op):\n",
    "    if op=='+':\n",
    "        add=x+y\n",
    "        return add\n",
    "    elif op=='-':\n",
    "        sub=x-y\n",
    "        return sub\n",
    "    elif op=='*':\n",
    "        mul=x*y\n",
    "        return mul\n",
    "    elif op=='//':\n",
    "        div=x//y\n",
    "        return div\n",
    "    else:\n",
    "        return -1\n",
    "    \n",
    "a=int(input('Enter a :'))\n",
    "b=int(input('Enter b:'))\n",
    "c=input('Enter a operator:')\n",
    "maths(a,b,c)"
   ]
  },
  {
   "cell_type": "code",
   "execution_count": 16,
   "id": "30ed10aa",
   "metadata": {},
   "outputs": [
    {
     "name": "stdout",
     "output_type": "stream",
     "text": [
      "enter your firstname:sri\n",
      "enter your lastname:ram\n",
      "Welcome to python programming ('sri', 'ram')\n"
     ]
    }
   ],
   "source": [
    "def greet(fname,lname):\n",
    "    return fname,lname\n",
    "a=input('enter your firstname:')\n",
    "b=input('enter your lastname:')\n",
    "c=greet(a,b)\n",
    "print('Welcome to python programming:',c)"
   ]
  },
  {
   "cell_type": "code",
   "execution_count": 17,
   "id": "45642a52",
   "metadata": {},
   "outputs": [],
   "source": [
    "#inbuilt functions"
   ]
  },
  {
   "cell_type": "code",
   "execution_count": 18,
   "id": "cfbdebc1",
   "metadata": {},
   "outputs": [
    {
     "name": "stdout",
     "output_type": "stream",
     "text": [
      "enter the year:2023\n",
      "enter the month:8\n",
      "    August 2023\n",
      "Mo Tu We Th Fr Sa Su\n",
      "    1  2  3  4  5  6\n",
      " 7  8  9 10 11 12 13\n",
      "14 15 16 17 18 19 20\n",
      "21 22 23 24 25 26 27\n",
      "28 29 30 31\n",
      "\n",
      "                                  2023\n",
      "\n",
      "      January                   February                   March\n",
      "Mo Tu We Th Fr Sa Su      Mo Tu We Th Fr Sa Su      Mo Tu We Th Fr Sa Su\n",
      "                   1             1  2  3  4  5             1  2  3  4  5\n",
      " 2  3  4  5  6  7  8       6  7  8  9 10 11 12       6  7  8  9 10 11 12\n",
      " 9 10 11 12 13 14 15      13 14 15 16 17 18 19      13 14 15 16 17 18 19\n",
      "16 17 18 19 20 21 22      20 21 22 23 24 25 26      20 21 22 23 24 25 26\n",
      "23 24 25 26 27 28 29      27 28                     27 28 29 30 31\n",
      "30 31\n",
      "\n",
      "       April                      May                       June\n",
      "Mo Tu We Th Fr Sa Su      Mo Tu We Th Fr Sa Su      Mo Tu We Th Fr Sa Su\n",
      "                1  2       1  2  3  4  5  6  7                1  2  3  4\n",
      " 3  4  5  6  7  8  9       8  9 10 11 12 13 14       5  6  7  8  9 10 11\n",
      "10 11 12 13 14 15 16      15 16 17 18 19 20 21      12 13 14 15 16 17 18\n",
      "17 18 19 20 21 22 23      22 23 24 25 26 27 28      19 20 21 22 23 24 25\n",
      "24 25 26 27 28 29 30      29 30 31                  26 27 28 29 30\n",
      "\n",
      "        July                     August                  September\n",
      "Mo Tu We Th Fr Sa Su      Mo Tu We Th Fr Sa Su      Mo Tu We Th Fr Sa Su\n",
      "                1  2          1  2  3  4  5  6                   1  2  3\n",
      " 3  4  5  6  7  8  9       7  8  9 10 11 12 13       4  5  6  7  8  9 10\n",
      "10 11 12 13 14 15 16      14 15 16 17 18 19 20      11 12 13 14 15 16 17\n",
      "17 18 19 20 21 22 23      21 22 23 24 25 26 27      18 19 20 21 22 23 24\n",
      "24 25 26 27 28 29 30      28 29 30 31               25 26 27 28 29 30\n",
      "31\n",
      "\n",
      "      October                   November                  December\n",
      "Mo Tu We Th Fr Sa Su      Mo Tu We Th Fr Sa Su      Mo Tu We Th Fr Sa Su\n",
      "                   1             1  2  3  4  5                   1  2  3\n",
      " 2  3  4  5  6  7  8       6  7  8  9 10 11 12       4  5  6  7  8  9 10\n",
      " 9 10 11 12 13 14 15      13 14 15 16 17 18 19      11 12 13 14 15 16 17\n",
      "16 17 18 19 20 21 22      20 21 22 23 24 25 26      18 19 20 21 22 23 24\n",
      "23 24 25 26 27 28 29      27 28 29 30               25 26 27 28 29 30 31\n",
      "30 31\n",
      "\n"
     ]
    }
   ],
   "source": [
    "import calendar\n",
    "y=int(input('enter the year:'))\n",
    "m=int(input('enter the month:'))\n",
    "print(calendar.month(y,m))\n",
    "print(calendar.calendar(y))"
   ]
  },
  {
   "cell_type": "code",
   "execution_count": 19,
   "id": "a93d33ab",
   "metadata": {},
   "outputs": [
    {
     "name": "stdout",
     "output_type": "stream",
     "text": [
      "2023-08-24 10:53:05.050543\n"
     ]
    }
   ],
   "source": [
    "import datetime\n",
    "print(datetime.datetime.now())"
   ]
  },
  {
   "cell_type": "code",
   "execution_count": 22,
   "id": "bc75e71e",
   "metadata": {},
   "outputs": [
    {
     "name": "stdout",
     "output_type": "stream",
     "text": [
      "0\n",
      "5\n",
      "2\n",
      "5\n",
      "5\n",
      "5\n"
     ]
    }
   ],
   "source": [
    "import random\n",
    "for i in range(6):\n",
    "    print(random.randint(0,5))"
   ]
  },
  {
   "cell_type": "code",
   "execution_count": 25,
   "id": "50a3180d",
   "metadata": {},
   "outputs": [
    {
     "name": "stdout",
     "output_type": "stream",
     "text": [
      "0 0 4 4 0 4 "
     ]
    }
   ],
   "source": [
    "import random\n",
    "for i in range(6):\n",
    "    print(random.randint(0,5),end=' ')"
   ]
  },
  {
   "cell_type": "code",
   "execution_count": 26,
   "id": "92609ef5",
   "metadata": {},
   "outputs": [
    {
     "name": "stdout",
     "output_type": "stream",
     "text": [
      "2-1-3-1-5-4-"
     ]
    }
   ],
   "source": [
    "import random\n",
    "for i in range(6):\n",
    "    print(random.randint(0,5),end='-')"
   ]
  },
  {
   "cell_type": "code",
   "execution_count": 3,
   "id": "077b3023",
   "metadata": {},
   "outputs": [],
   "source": [
    "# #creating our own module\n",
    "# 1-copy the function with program\n",
    "# 2-create a new textfile and paste it\n",
    "# 3-save as name.py all files option"
   ]
  },
  {
   "cell_type": "code",
   "execution_count": 29,
   "id": "5c70e02c",
   "metadata": {},
   "outputs": [],
   "source": [
    "def add(a,b):\n",
    "    return a+b\n",
    "def sub(a,b):\n",
    "    return a-b\n",
    "def mul(a,b):\n",
    "    return a*b\n",
    "def div(a,b):\n",
    "    return a//b"
   ]
  },
  {
   "cell_type": "code",
   "execution_count": 1,
   "id": "1319e66b",
   "metadata": {},
   "outputs": [],
   "source": [
    "import maths"
   ]
  },
  {
   "cell_type": "code",
   "execution_count": 5,
   "id": "48f0f637",
   "metadata": {},
   "outputs": [
    {
     "data": {
      "text/plain": [
       "50"
      ]
     },
     "execution_count": 5,
     "metadata": {},
     "output_type": "execute_result"
    }
   ],
   "source": [
    "maths.add(20,30)\n"
   ]
  },
  {
   "cell_type": "code",
   "execution_count": 8,
   "id": "38ccabe8",
   "metadata": {},
   "outputs": [
    {
     "data": {
      "text/plain": [
       "30"
      ]
     },
     "execution_count": 8,
     "metadata": {},
     "output_type": "execute_result"
    }
   ],
   "source": [
    "maths.sub(40,10)\n"
   ]
  },
  {
   "cell_type": "code",
   "execution_count": 9,
   "id": "357aa699",
   "metadata": {},
   "outputs": [
    {
     "data": {
      "text/plain": [
       "200"
      ]
     },
     "execution_count": 9,
     "metadata": {},
     "output_type": "execute_result"
    }
   ],
   "source": [
    "maths.mul(20,10)\n"
   ]
  },
  {
   "cell_type": "code",
   "execution_count": 7,
   "id": "6f2bb167",
   "metadata": {},
   "outputs": [
    {
     "data": {
      "text/plain": [
       "3"
      ]
     },
     "execution_count": 7,
     "metadata": {},
     "output_type": "execute_result"
    }
   ],
   "source": [
    "maths.div(6,2)"
   ]
  },
  {
   "cell_type": "markdown",
   "id": "c1e3d7fd",
   "metadata": {},
   "source": [
    "# List"
   ]
  },
  {
   "cell_type": "code",
   "execution_count": 19,
   "id": "a8c09b0c",
   "metadata": {},
   "outputs": [],
   "source": [
    "l=[1,2,3,4,5,3,'hello','world',6,7,8,9]\n"
   ]
  },
  {
   "cell_type": "code",
   "execution_count": 20,
   "id": "af1cd1ef",
   "metadata": {},
   "outputs": [
    {
     "data": {
      "text/plain": [
       "list"
      ]
     },
     "execution_count": 20,
     "metadata": {},
     "output_type": "execute_result"
    }
   ],
   "source": [
    "type(l)"
   ]
  },
  {
   "cell_type": "code",
   "execution_count": 21,
   "id": "a4cf2000",
   "metadata": {},
   "outputs": [
    {
     "data": {
      "text/plain": [
       "12"
      ]
     },
     "execution_count": 21,
     "metadata": {},
     "output_type": "execute_result"
    }
   ],
   "source": [
    "len(l)"
   ]
  },
  {
   "cell_type": "code",
   "execution_count": 22,
   "id": "f8526fe9",
   "metadata": {},
   "outputs": [
    {
     "data": {
      "text/plain": [
       "(1, 2, 3, 9, [2, 3])"
      ]
     },
     "execution_count": 22,
     "metadata": {},
     "output_type": "execute_result"
    }
   ],
   "source": [
    "l[0],l[1],l[2],l[-1],l[1:3]"
   ]
  },
  {
   "cell_type": "code",
   "execution_count": 23,
   "id": "e06b9813",
   "metadata": {},
   "outputs": [
    {
     "data": {
      "text/plain": [
       "[100, 2, 3, 4, 5, 3, 'hello', 'world', 6, 7, 8, 9]"
      ]
     },
     "execution_count": 23,
     "metadata": {},
     "output_type": "execute_result"
    }
   ],
   "source": [
    "l[0]=100\n",
    "l"
   ]
  },
  {
   "cell_type": "code",
   "execution_count": 24,
   "id": "0970f960",
   "metadata": {},
   "outputs": [
    {
     "data": {
      "text/plain": [
       "6"
      ]
     },
     "execution_count": 24,
     "metadata": {},
     "output_type": "execute_result"
    }
   ],
   "source": [
    "l.index('hello')"
   ]
  },
  {
   "cell_type": "code",
   "execution_count": 25,
   "id": "9f1c49dc",
   "metadata": {},
   "outputs": [
    {
     "data": {
      "text/plain": [
       "2"
      ]
     },
     "execution_count": 25,
     "metadata": {},
     "output_type": "execute_result"
    }
   ],
   "source": [
    "l.count(3)"
   ]
  },
  {
   "cell_type": "code",
   "execution_count": 28,
   "id": "3dc296c4",
   "metadata": {},
   "outputs": [
    {
     "data": {
      "text/plain": [
       "[100, 2, 3, 4, 5, 3, 'hello', 'world', 6, 7, 8, 9, 10, 10]"
      ]
     },
     "execution_count": 28,
     "metadata": {},
     "output_type": "execute_result"
    }
   ],
   "source": [
    "l.append(10)\n",
    "l"
   ]
  },
  {
   "cell_type": "code",
   "execution_count": 33,
   "id": "6130e392",
   "metadata": {},
   "outputs": [
    {
     "data": {
      "text/plain": [
       "[11, 11, 100, 2, 3, 4, 5, 3, 'hello', 'world', 6, 7, 8, 9, 10]"
      ]
     },
     "execution_count": 33,
     "metadata": {},
     "output_type": "execute_result"
    }
   ],
   "source": [
    "l.insert(0,11)\n",
    "l"
   ]
  },
  {
   "cell_type": "code",
   "execution_count": 35,
   "id": "e82cbcf3",
   "metadata": {},
   "outputs": [
    {
     "data": {
      "text/plain": [
       "[11, 11, 100, 2, 3, 4, 5, 3, 'hello', 'world', 6, 7, 8]"
      ]
     },
     "execution_count": 35,
     "metadata": {},
     "output_type": "execute_result"
    }
   ],
   "source": [
    "l.pop()\n",
    "l"
   ]
  },
  {
   "cell_type": "code",
   "execution_count": 37,
   "id": "96f5797e",
   "metadata": {},
   "outputs": [
    {
     "data": {
      "text/plain": [
       "[100, 2, 3, 4, 5, 3, 'hello', 'world', 6, 7, 8]"
      ]
     },
     "execution_count": 37,
     "metadata": {},
     "output_type": "execute_result"
    }
   ],
   "source": [
    "l.remove(11)\n",
    "l"
   ]
  },
  {
   "cell_type": "code",
   "execution_count": 38,
   "id": "84ce222c",
   "metadata": {},
   "outputs": [
    {
     "data": {
      "text/plain": [
       "[]"
      ]
     },
     "execution_count": 38,
     "metadata": {},
     "output_type": "execute_result"
    }
   ],
   "source": [
    "l.clear()\n",
    "l"
   ]
  },
  {
   "cell_type": "markdown",
   "id": "b9f6ad7c",
   "metadata": {},
   "source": [
    "# tuple"
   ]
  },
  {
   "cell_type": "code",
   "execution_count": 42,
   "id": "77774c2e",
   "metadata": {},
   "outputs": [],
   "source": [
    "t=(1,2,3,4,5,3,'hello','world',6,7,8,9)\n"
   ]
  },
  {
   "cell_type": "code",
   "execution_count": 43,
   "id": "426e29f4",
   "metadata": {},
   "outputs": [
    {
     "data": {
      "text/plain": [
       "tuple"
      ]
     },
     "execution_count": 43,
     "metadata": {},
     "output_type": "execute_result"
    }
   ],
   "source": [
    "type(l)"
   ]
  },
  {
   "cell_type": "code",
   "execution_count": 44,
   "id": "c2c22f15",
   "metadata": {},
   "outputs": [
    {
     "ename": "TypeError",
     "evalue": "'tuple' object does not support item assignment",
     "output_type": "error",
     "traceback": [
      "\u001b[1;31m---------------------------------------------------------------------------\u001b[0m",
      "\u001b[1;31mTypeError\u001b[0m                                 Traceback (most recent call last)",
      "\u001b[1;32m~\\AppData\\Local\\Temp\\ipykernel_3016\\1937359433.py\u001b[0m in \u001b[0;36m<module>\u001b[1;34m\u001b[0m\n\u001b[1;32m----> 1\u001b[1;33m \u001b[0mt\u001b[0m\u001b[1;33m[\u001b[0m\u001b[1;36m0\u001b[0m\u001b[1;33m]\u001b[0m\u001b[1;33m=\u001b[0m\u001b[1;36m5\u001b[0m\u001b[1;33m\u001b[0m\u001b[1;33m\u001b[0m\u001b[0m\n\u001b[0m\u001b[0;32m      2\u001b[0m \u001b[0mt\u001b[0m\u001b[1;33m\u001b[0m\u001b[1;33m\u001b[0m\u001b[0m\n",
      "\u001b[1;31mTypeError\u001b[0m: 'tuple' object does not support item assignment"
     ]
    }
   ],
   "source": [
    "t[0]=5\n",
    "t"
   ]
  },
  {
   "cell_type": "code",
   "execution_count": 45,
   "id": "f62772bc",
   "metadata": {},
   "outputs": [
    {
     "ename": "AttributeError",
     "evalue": "'tuple' object has no attribute 'clear'",
     "output_type": "error",
     "traceback": [
      "\u001b[1;31m---------------------------------------------------------------------------\u001b[0m",
      "\u001b[1;31mAttributeError\u001b[0m                            Traceback (most recent call last)",
      "\u001b[1;32m~\\AppData\\Local\\Temp\\ipykernel_3016\\2830933577.py\u001b[0m in \u001b[0;36m<module>\u001b[1;34m\u001b[0m\n\u001b[1;32m----> 1\u001b[1;33m \u001b[0mt\u001b[0m\u001b[1;33m.\u001b[0m\u001b[0mclear\u001b[0m\u001b[1;33m(\u001b[0m\u001b[1;33m)\u001b[0m\u001b[1;33m\u001b[0m\u001b[1;33m\u001b[0m\u001b[0m\n\u001b[0m",
      "\u001b[1;31mAttributeError\u001b[0m: 'tuple' object has no attribute 'clear'"
     ]
    }
   ],
   "source": [
    "t.clear()"
   ]
  },
  {
   "cell_type": "markdown",
   "id": "fc1e3cf3",
   "metadata": {},
   "source": [
    "# set"
   ]
  },
  {
   "cell_type": "code",
   "execution_count": 46,
   "id": "1405c8b9",
   "metadata": {},
   "outputs": [],
   "source": [
    "s={1,2,3,4,5,3,'hello','world',6,7,8,9}"
   ]
  },
  {
   "cell_type": "code",
   "execution_count": 47,
   "id": "6563eefb",
   "metadata": {},
   "outputs": [
    {
     "data": {
      "text/plain": [
       "set"
      ]
     },
     "execution_count": 47,
     "metadata": {},
     "output_type": "execute_result"
    }
   ],
   "source": [
    "type(s)"
   ]
  },
  {
   "cell_type": "code",
   "execution_count": 48,
   "id": "46048cc9",
   "metadata": {},
   "outputs": [
    {
     "data": {
      "text/plain": [
       "{1, 2, 3, 4, 5, 6, 7, 8, 9, 'hello', 'world'}"
      ]
     },
     "execution_count": 48,
     "metadata": {},
     "output_type": "execute_result"
    }
   ],
   "source": [
    "s"
   ]
  },
  {
   "cell_type": "markdown",
   "id": "c5be119a",
   "metadata": {},
   "source": [
    "# dictionary\n"
   ]
  },
  {
   "cell_type": "code",
   "execution_count": 49,
   "id": "15292afe",
   "metadata": {},
   "outputs": [],
   "source": [
    "d={100:'this',101:'is',102:'our',103:'first',104:'program'}"
   ]
  },
  {
   "cell_type": "code",
   "execution_count": 50,
   "id": "c1ba62c0",
   "metadata": {},
   "outputs": [
    {
     "data": {
      "text/plain": [
       "dict"
      ]
     },
     "execution_count": 50,
     "metadata": {},
     "output_type": "execute_result"
    }
   ],
   "source": [
    "type(d)"
   ]
  },
  {
   "cell_type": "code",
   "execution_count": 51,
   "id": "75201cc8",
   "metadata": {},
   "outputs": [
    {
     "data": {
      "text/plain": [
       "{100: 'This', 101: 'is', 102: 'our', 103: 'first', 104: 'program'}"
      ]
     },
     "execution_count": 51,
     "metadata": {},
     "output_type": "execute_result"
    }
   ],
   "source": [
    "d[100]='This'\n",
    "d"
   ]
  },
  {
   "cell_type": "code",
   "execution_count": 52,
   "id": "3333bc35",
   "metadata": {},
   "outputs": [],
   "source": [
    "#login page -activity"
   ]
  },
  {
   "cell_type": "code",
   "execution_count": 1,
   "id": "62aba1a1",
   "metadata": {},
   "outputs": [
    {
     "name": "stdout",
     "output_type": "stream",
     "text": [
      "enter username:sri\n",
      "enter your password:1000\n",
      "Login sucessful\n"
     ]
    }
   ],
   "source": [
    "#using password\n",
    "a = {\"dipu\":\"pass1\",\"sunil\":\"pass2\",\"kumar\":\"pass3\",\"sah\":\"pass4\",\"nath\":\"pass5\"}\n",
    "b=list(a.keys())\n",
    "c = input(\"Enter the user name : \")\n",
    "if (c in b):\n",
    "    if (a[c]==input(\"enter the password : \")):\n",
    "        print(\"user logged in\")\n",
    "    else:\n",
    "        print(\"wrong password\")\n",
    "else:\n",
    "    print(\"Incorrect Username\")"
   ]
  },
  {
   "cell_type": "code",
   "execution_count": 3,
   "id": "fb6cb3e6",
   "metadata": {},
   "outputs": [
    {
     "name": "stdout",
     "output_type": "stream",
     "text": [
      "Enter the user name:user1\n",
      "Valid username:\n",
      "0\n",
      "Enter the password:pass1\n",
      "valid password Allow login\n"
     ]
    }
   ],
   "source": [
    "#using list\n",
    "username=[\"user1\",\"user2\",\"user3\",\"user4\",\"user5\"]\n",
    "password=[\"pass1\",\"pass2\",\"pass3\",\"pass4\",\"pass5\"]\n",
    "usr=input(\"Enter the user name:\")\n",
    "if usr in username:\n",
    "    print(\"Valid username:\")\n",
    "    i=username.index(usr)\n",
    "    print(i)\n",
    "    pwd=input(\"Enter the password:\")\n",
    "    if pwd==password[i]:\n",
    "        print(\"valid password Allow login\")\n",
    "    else:\n",
    "        print(\"Invalid password\")\n",
    "else:\n",
    "    print(\"Invalid user\")"
   ]
  },
  {
   "cell_type": "code",
   "execution_count": 4,
   "id": "e19aa314",
   "metadata": {},
   "outputs": [
    {
     "name": "stdout",
     "output_type": "stream",
     "text": [
      "Enter the usr name:········\n",
      "Enter the password:········\n",
      "ser1\n",
      "sriram\n"
     ]
    }
   ],
   "source": [
    "\n",
    "import getpass\n",
    "usr=getpass.getpass(\"Enter the usr name:\")\n",
    "pwd=getpass.getpass(\"Enter the password:\")\n",
    "print(usr)\n",
    "print(pwd)"
   ]
  },
  {
   "cell_type": "code",
   "execution_count": null,
   "id": "8cdbc9f2",
   "metadata": {},
   "outputs": [],
   "source": [
    "         \n",
    "    "
   ]
  },
  {
   "cell_type": "code",
   "execution_count": null,
   "id": "d2b07e56",
   "metadata": {},
   "outputs": [],
   "source": []
  }
 ],
 "metadata": {
  "kernelspec": {
   "display_name": "Python 3 (ipykernel)",
   "language": "python",
   "name": "python3"
  },
  "language_info": {
   "codemirror_mode": {
    "name": "ipython",
    "version": 3
   },
   "file_extension": ".py",
   "mimetype": "text/x-python",
   "name": "python",
   "nbconvert_exporter": "python",
   "pygments_lexer": "ipython3",
   "version": "3.9.13"
  }
 },
 "nbformat": 4,
 "nbformat_minor": 5
}
